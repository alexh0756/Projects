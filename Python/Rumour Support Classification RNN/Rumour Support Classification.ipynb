{
 "cells": [
  {
   "cell_type": "markdown",
   "metadata": {
    "id": "SySE3D4Z44qD"
   },
   "source": [
    "# Determing Support for Rumours using Tweets "
   ]
  },
  {
   "cell_type": "code",
   "execution_count": 2,
   "metadata": {
    "executionInfo": {
     "elapsed": 8295,
     "status": "ok",
     "timestamp": 1634597121718,
     "user": {
      "displayName": "Alexander Posterino",
      "photoUrl": "https://lh3.googleusercontent.com/a/default-user=s64",
      "userId": "02797547015372524958"
     },
     "user_tz": -660
    },
    "id": "zdn9HTFxhQbk"
   },
   "outputs": [],
   "source": [
    "import tensorflow as tf\n",
    "AUTOTUNE = tf.data.experimental.AUTOTUNE\n",
    "import numpy as np\n",
    "import pandas as pd\n",
    "\n",
    "import tensorflow_datasets as tfds\n",
    "import pathlib\n",
    "import shutil\n",
    "import tempfile\n",
    "\n",
    "from  IPython import display\n",
    "from matplotlib import pyplot as plt"
   ]
  },
  {
   "cell_type": "markdown",
   "metadata": {
    "id": "uNz5mDf9qAPn"
   },
   "source": [
    "# Tensorboard"
   ]
  },
  {
   "cell_type": "code",
   "execution_count": null,
   "metadata": {
    "id": "8CoPtqqVhiOY"
   },
   "outputs": [],
   "source": [
    "logdir = pathlib.Path(tempfile.mkdtemp())/\"tensorboard_logs\"\n",
    "shutil.rmtree(logdir, ignore_errors = True)\n",
    "\n",
    "%load_ext tensorboard\n",
    "\n",
    "%tensorboard --logdir {logdir}/model"
   ]
  },
  {
   "cell_type": "code",
   "execution_count": 4,
   "metadata": {
    "executionInfo": {
     "elapsed": 22,
     "status": "ok",
     "timestamp": 1634597121718,
     "user": {
      "displayName": "Alexander Posterino",
      "photoUrl": "https://lh3.googleusercontent.com/a/default-user=s64",
      "userId": "02797547015372524958"
     },
     "user_tz": -660
    },
    "id": "XDOho7cZivo_"
   },
   "outputs": [],
   "source": [
    "# setting up callbacks\n",
    "m_histories = {}\n",
    "\n",
    "def get_callbacks(name):\n",
    "  return [\n",
    "      tf.keras.callbacks.TensorBoard(log_dir = logdir/name, histogram_freq=1),\n",
    "  ]"
   ]
  },
  {
   "cell_type": "code",
   "execution_count": 5,
   "metadata": {
    "colab": {
     "base_uri": "https://localhost:8080/"
    },
    "executionInfo": {
     "elapsed": 57772,
     "status": "ok",
     "timestamp": 1634597179468,
     "user": {
      "displayName": "Alexander Posterino",
      "photoUrl": "https://lh3.googleusercontent.com/a/default-user=s64",
      "userId": "02797547015372524958"
     },
     "user_tz": -660
    },
    "id": "lIsb2qQ0qH4d",
    "outputId": "a1e1adc1-3250-4fea-d1b0-1752eb9e713a"
   },
   "outputs": [
    {
     "name": "stdout",
     "output_type": "stream",
     "text": [
      "Mounted at /content/drive\n"
     ]
    }
   ],
   "source": [
    "from google.colab import drive\n",
    "drive.mount('/content/drive')\n"
   ]
  },
  {
   "cell_type": "code",
   "execution_count": 6,
   "metadata": {
    "executionInfo": {
     "elapsed": 945,
     "status": "ok",
     "timestamp": 1634597180410,
     "user": {
      "displayName": "Alexander Posterino",
      "photoUrl": "https://lh3.googleusercontent.com/a/default-user=s64",
      "userId": "02797547015372524958"
     },
     "user_tz": -660
    },
    "id": "w4Dnh8wAqKWG"
   },
   "outputs": [],
   "source": [
    "!cp /content/drive/MyDrive/COSC2779/Assessment_2/Rumour_data.zip .\n",
    "!unzip -q -o Rumour_data.zip\n",
    "!rm Rumour_data.zip"
   ]
  },
  {
   "cell_type": "code",
   "execution_count": 648,
   "metadata": {
    "executionInfo": {
     "elapsed": 502,
     "status": "ok",
     "timestamp": 1634632636821,
     "user": {
      "displayName": "Alexander Posterino",
      "photoUrl": "https://lh3.googleusercontent.com/a/default-user=s64",
      "userId": "02797547015372524958"
     },
     "user_tz": -660
    },
    "id": "UUqkRdhCqfmd"
   },
   "outputs": [],
   "source": [
    "data = pd.read_csv('./Rumour_data/twitter_dataset.csv')\n",
    "data_extra = pd.read_csv('./Rumour_data/Extra_reddit_dataset.csv')"
   ]
  },
  {
   "cell_type": "code",
   "execution_count": 649,
   "metadata": {
    "colab": {
     "base_uri": "https://localhost:8080/",
     "height": 202
    },
    "executionInfo": {
     "elapsed": 4,
     "status": "ok",
     "timestamp": 1634632637389,
     "user": {
      "displayName": "Alexander Posterino",
      "photoUrl": "https://lh3.googleusercontent.com/a/default-user=s64",
      "userId": "02797547015372524958"
     },
     "user_tz": -660
    },
    "id": "FMO99A6brbIW",
    "outputId": "042c91f7-2785-49aa-e2df-5812f2cd617d"
   },
   "outputs": [
    {
     "data": {
      "text/html": [
       "<div>\n",
       "<style scoped>\n",
       "    .dataframe tbody tr th:only-of-type {\n",
       "        vertical-align: middle;\n",
       "    }\n",
       "\n",
       "    .dataframe tbody tr th {\n",
       "        vertical-align: top;\n",
       "    }\n",
       "\n",
       "    .dataframe thead th {\n",
       "        text-align: right;\n",
       "    }\n",
       "</style>\n",
       "<table border=\"1\" class=\"dataframe\">\n",
       "  <thead>\n",
       "    <tr style=\"text-align: right;\">\n",
       "      <th></th>\n",
       "      <th>Type</th>\n",
       "      <th>Msg_ID</th>\n",
       "      <th>Source_Msg_ID</th>\n",
       "      <th>Text</th>\n",
       "      <th>Topic</th>\n",
       "      <th>Class</th>\n",
       "    </tr>\n",
       "  </thead>\n",
       "  <tbody>\n",
       "    <tr>\n",
       "      <th>0</th>\n",
       "      <td>Source</td>\n",
       "      <td>5.810630e+17</td>\n",
       "      <td>-1.000000e+00</td>\n",
       "      <td>#4U9525: Robin names Andreas Lubitz as the cop...</td>\n",
       "      <td>germanwings-crash</td>\n",
       "      <td>-1</td>\n",
       "    </tr>\n",
       "    <tr>\n",
       "      <th>1</th>\n",
       "      <td>Reply</td>\n",
       "      <td>5.810700e+17</td>\n",
       "      <td>5.810630e+17</td>\n",
       "      <td>@thatjohn Have they named the pilot?</td>\n",
       "      <td>germanwings-crash</td>\n",
       "      <td>query</td>\n",
       "    </tr>\n",
       "    <tr>\n",
       "      <th>2</th>\n",
       "      <td>Reply</td>\n",
       "      <td>5.810640e+17</td>\n",
       "      <td>5.810630e+17</td>\n",
       "      <td>@thatjohn @mschenk</td>\n",
       "      <td>germanwings-crash</td>\n",
       "      <td>comment</td>\n",
       "    </tr>\n",
       "    <tr>\n",
       "      <th>3</th>\n",
       "      <td>Source</td>\n",
       "      <td>5.813860e+17</td>\n",
       "      <td>-1.000000e+00</td>\n",
       "      <td>RT @khjelmgaard: German media reporting #Andre...</td>\n",
       "      <td>germanwings-crash</td>\n",
       "      <td>-1</td>\n",
       "    </tr>\n",
       "    <tr>\n",
       "      <th>4</th>\n",
       "      <td>Reply</td>\n",
       "      <td>5.815760e+17</td>\n",
       "      <td>5.813860e+17</td>\n",
       "      <td>@tinkalee_12 @USATODAY @khjelmgaard #F4Phantom...</td>\n",
       "      <td>germanwings-crash</td>\n",
       "      <td>comment</td>\n",
       "    </tr>\n",
       "  </tbody>\n",
       "</table>\n",
       "</div>"
      ],
      "text/plain": [
       "     Type        Msg_ID  ...              Topic    Class\n",
       "0  Source  5.810630e+17  ...  germanwings-crash       -1\n",
       "1   Reply  5.810700e+17  ...  germanwings-crash    query\n",
       "2   Reply  5.810640e+17  ...  germanwings-crash  comment\n",
       "3  Source  5.813860e+17  ...  germanwings-crash       -1\n",
       "4   Reply  5.815760e+17  ...  germanwings-crash  comment\n",
       "\n",
       "[5 rows x 6 columns]"
      ]
     },
     "execution_count": 649,
     "metadata": {},
     "output_type": "execute_result"
    }
   ],
   "source": [
    "data.head()"
   ]
  },
  {
   "cell_type": "code",
   "execution_count": 650,
   "metadata": {
    "executionInfo": {
     "elapsed": 509,
     "status": "ok",
     "timestamp": 1634632640856,
     "user": {
      "displayName": "Alexander Posterino",
      "photoUrl": "https://lh3.googleusercontent.com/a/default-user=s64",
      "userId": "02797547015372524958"
     },
     "user_tz": -660
    },
    "id": "AX9Ca4jVX96w"
   },
   "outputs": [],
   "source": [
    "data = data[(data['Class'] != \"-1\")]"
   ]
  },
  {
   "cell_type": "code",
   "execution_count": 96,
   "metadata": {
    "colab": {
     "base_uri": "https://localhost:8080/"
    },
    "executionInfo": {
     "elapsed": 166,
     "status": "ok",
     "timestamp": 1634599093266,
     "user": {
      "displayName": "Alexander Posterino",
      "photoUrl": "https://lh3.googleusercontent.com/a/default-user=s64",
      "userId": "02797547015372524958"
     },
     "user_tz": -660
    },
    "id": "erHDSNwmNqOD",
    "outputId": "87945d73-ac26-4d07-f022-b7b97faa752a"
   },
   "outputs": [
    {
     "data": {
      "text/plain": [
       "(6253, 6)"
      ]
     },
     "execution_count": 96,
     "metadata": {},
     "output_type": "execute_result"
    }
   ],
   "source": [
    "data.shape"
   ]
  },
  {
   "cell_type": "markdown",
   "metadata": {
    "id": "XN7VrutTwP6N"
   },
   "source": [
    "### Distribution of Labels"
   ]
  },
  {
   "cell_type": "code",
   "execution_count": 675,
   "metadata": {
    "colab": {
     "base_uri": "https://localhost:8080/",
     "height": 320
    },
    "executionInfo": {
     "elapsed": 427,
     "status": "ok",
     "timestamp": 1634633573001,
     "user": {
      "displayName": "Alexander Posterino",
      "photoUrl": "https://lh3.googleusercontent.com/a/default-user=s64",
      "userId": "02797547015372524958"
     },
     "user_tz": -660
    },
    "id": "5Czh6yc1tBm4",
    "outputId": "8e76d640-ba12-43a9-df1b-907ba07d30d4"
   },
   "outputs": [
    {
     "data": {
      "text/plain": [
       "([0, 1, 2, 3], <a list of 4 Text major ticklabel objects>)"
      ]
     },
     "execution_count": 675,
     "metadata": {},
     "output_type": "execute_result"
    },
    {
     "data": {
      "image/png": "[encoded data removed]",
      "text/plain": [
       "<Figure size 432x288 with 1 Axes>"
      ]
     },
     "metadata": {
      "needs_background": "light"
     },
     "output_type": "display_data"
    }
   ],
   "source": [
    "data_viz = pd.DataFrame(data)\n",
    "data_bar = data_viz['Class'].value_counts(sort=False).values\n",
    "labels = ['query', 'deny', 'support', 'comment']\n",
    "plt.bar(labels, data_bar)\n",
    "plt.xticks(rotation=90)"
   ]
  },
  {
   "cell_type": "code",
   "execution_count": 692,
   "metadata": {
    "colab": {
     "base_uri": "https://localhost:8080/"
    },
    "executionInfo": {
     "elapsed": 580,
     "status": "ok",
     "timestamp": 1634635552616,
     "user": {
      "displayName": "Alexander Posterino",
      "photoUrl": "https://lh3.googleusercontent.com/a/default-user=s64",
      "userId": "02797547015372524958"
     },
     "user_tz": -660
    },
    "id": "R6hAOm8JtTJi",
    "outputId": "3c203db2-f705-4485-ca6a-ad03bea9bc69"
   },
   "outputs": [
    {
     "data": {
      "text/plain": [
       "comment    4445\n",
       "support     792\n",
       "query       520\n",
       "deny        496\n",
       "Name: Class, dtype: int64"
      ]
     },
     "execution_count": 692,
     "metadata": {},
     "output_type": "execute_result"
    }
   ],
   "source": [
    "data['Class'].value_counts()"
   ]
  },
  {
   "cell_type": "markdown",
   "metadata": {
    "id": "9AgKD_VIwasT"
   },
   "source": [
    "# Data Preprocessing"
   ]
  },
  {
   "cell_type": "code",
   "execution_count": 99,
   "metadata": {
    "colab": {
     "base_uri": "https://localhost:8080/",
     "height": 202
    },
    "executionInfo": {
     "elapsed": 7,
     "status": "ok",
     "timestamp": 1634599093267,
     "user": {
      "displayName": "Alexander Posterino",
      "photoUrl": "https://lh3.googleusercontent.com/a/default-user=s64",
      "userId": "02797547015372524958"
     },
     "user_tz": -660
    },
    "id": "LVSs1p6wtBMx",
    "outputId": "4d7a1f0b-fda1-4110-efcc-ed2f51268931"
   },
   "outputs": [
    {
     "data": {
      "text/html": [
       "<div>\n",
       "<style scoped>\n",
       "    .dataframe tbody tr th:only-of-type {\n",
       "        vertical-align: middle;\n",
       "    }\n",
       "\n",
       "    .dataframe tbody tr th {\n",
       "        vertical-align: top;\n",
       "    }\n",
       "\n",
       "    .dataframe thead th {\n",
       "        text-align: right;\n",
       "    }\n",
       "</style>\n",
       "<table border=\"1\" class=\"dataframe\">\n",
       "  <thead>\n",
       "    <tr style=\"text-align: right;\">\n",
       "      <th></th>\n",
       "      <th>Type</th>\n",
       "      <th>Msg_ID</th>\n",
       "      <th>Source_Msg_ID</th>\n",
       "      <th>Text</th>\n",
       "      <th>Topic</th>\n",
       "      <th>Class</th>\n",
       "    </tr>\n",
       "  </thead>\n",
       "  <tbody>\n",
       "    <tr>\n",
       "      <th>1</th>\n",
       "      <td>Reply</td>\n",
       "      <td>5.810700e+17</td>\n",
       "      <td>5.810630e+17</td>\n",
       "      <td>@thatjohn Have they named the pilot?</td>\n",
       "      <td>germanwings-crash</td>\n",
       "      <td>2</td>\n",
       "    </tr>\n",
       "    <tr>\n",
       "      <th>2</th>\n",
       "      <td>Reply</td>\n",
       "      <td>5.810640e+17</td>\n",
       "      <td>5.810630e+17</td>\n",
       "      <td>@thatjohn @mschenk</td>\n",
       "      <td>germanwings-crash</td>\n",
       "      <td>0</td>\n",
       "    </tr>\n",
       "    <tr>\n",
       "      <th>4</th>\n",
       "      <td>Reply</td>\n",
       "      <td>5.815760e+17</td>\n",
       "      <td>5.813860e+17</td>\n",
       "      <td>@tinkalee_12 @USATODAY @khjelmgaard #F4Phantom...</td>\n",
       "      <td>germanwings-crash</td>\n",
       "      <td>0</td>\n",
       "    </tr>\n",
       "    <tr>\n",
       "      <th>5</th>\n",
       "      <td>Reply</td>\n",
       "      <td>5.820480e+17</td>\n",
       "      <td>5.813860e+17</td>\n",
       "      <td>@USATODAY @khjelmgaard ers a link to prove @An...</td>\n",
       "      <td>germanwings-crash</td>\n",
       "      <td>0</td>\n",
       "    </tr>\n",
       "    <tr>\n",
       "      <th>6</th>\n",
       "      <td>Reply</td>\n",
       "      <td>5.822060e+17</td>\n",
       "      <td>5.813860e+17</td>\n",
       "      <td>@USATODAY @khjelmgaard Sure #GermanWings CoPil...</td>\n",
       "      <td>germanwings-crash</td>\n",
       "      <td>0</td>\n",
       "    </tr>\n",
       "  </tbody>\n",
       "</table>\n",
       "</div>"
      ],
      "text/plain": [
       "    Type        Msg_ID  ...              Topic Class\n",
       "1  Reply  5.810700e+17  ...  germanwings-crash     2\n",
       "2  Reply  5.810640e+17  ...  germanwings-crash     0\n",
       "4  Reply  5.815760e+17  ...  germanwings-crash     0\n",
       "5  Reply  5.820480e+17  ...  germanwings-crash     0\n",
       "6  Reply  5.822060e+17  ...  germanwings-crash     0\n",
       "\n",
       "[5 rows x 6 columns]"
      ]
     },
     "execution_count": 99,
     "metadata": {},
     "output_type": "execute_result"
    }
   ],
   "source": [
    "encode = {\n",
    "    \"comment\" : 0,\n",
    "    \"support\"  : 1,       \n",
    "    \"query\" : 2,    \n",
    "    \"deny\" : 3,\n",
    "}\n",
    "\n",
    "data[\"Class\"] = data[\"Class\"].apply(lambda x: encode[x])\n",
    "data.head()"
   ]
  },
  {
   "cell_type": "code",
   "execution_count": 100,
   "metadata": {
    "colab": {
     "base_uri": "https://localhost:8080/"
    },
    "executionInfo": {
     "elapsed": 33,
     "status": "ok",
     "timestamp": 1634599098490,
     "user": {
      "displayName": "Alexander Posterino",
      "photoUrl": "https://lh3.googleusercontent.com/a/default-user=s64",
      "userId": "02797547015372524958"
     },
     "user_tz": -660
    },
    "id": "UvMmDtr8wknp",
    "outputId": "f38dae79-3d27-4294-cf7e-ef4370cac037"
   },
   "outputs": [
    {
     "name": "stdout",
     "output_type": "stream",
     "text": [
      "[nltk_data] Downloading package punkt to /root/nltk_data...\n",
      "[nltk_data]   Package punkt is already up-to-date!\n"
     ]
    }
   ],
   "source": [
    "import string\n",
    "import nltk\n",
    "nltk.download('punkt')\n",
    "from nltk.tokenize import word_tokenize\n",
    "from nltk.corpus import stopwords\n",
    "\n",
    "happy_lines = list()\n",
    "lines = data[\"Text\"].values.tolist()\n",
    "\n",
    "for line in lines:\n",
    "    # tokenize the text\n",
    "    tokens = word_tokenize(line)\n",
    "\n",
    "    # convert to lower case\n",
    "    tokens = [w.lower() for w in tokens]\n",
    "\n",
    "    # remove puntuations\n",
    "    table = str.maketrans('', '', string.punctuation)\n",
    "    stripped = [w.translate(table) for w in tokens]\n",
    "\n",
    "    # remove non alphabetic characters\n",
    "    words = [word for word in stripped if word.isalpha()]\n",
    "\n",
    "    happy_lines.append(words)\n",
    "    "
   ]
  },
  {
   "cell_type": "code",
   "execution_count": 101,
   "metadata": {
    "colab": {
     "base_uri": "https://localhost:8080/"
    },
    "executionInfo": {
     "elapsed": 24,
     "status": "ok",
     "timestamp": 1634599098490,
     "user": {
      "displayName": "Alexander Posterino",
      "photoUrl": "https://lh3.googleusercontent.com/a/default-user=s64",
      "userId": "02797547015372524958"
     },
     "user_tz": -660
    },
    "id": "bMeTdAPUw5Ug",
    "outputId": "5d8bc929-16a1-417c-b5f8-98f8e67d15f7"
   },
   "outputs": [
    {
     "data": {
      "text/plain": [
       "6253"
      ]
     },
     "execution_count": 101,
     "metadata": {},
     "output_type": "execute_result"
    }
   ],
   "source": [
    "len(happy_lines)"
   ]
  },
  {
   "cell_type": "markdown",
   "metadata": {
    "id": "G9JPrsDEOuPt"
   },
   "source": [
    "Maximum sentence length"
   ]
  },
  {
   "cell_type": "code",
   "execution_count": 640,
   "metadata": {
    "executionInfo": {
     "elapsed": 489,
     "status": "ok",
     "timestamp": 1634632535764,
     "user": {
      "displayName": "Alexander Posterino",
      "photoUrl": "https://lh3.googleusercontent.com/a/default-user=s64",
      "userId": "02797547015372524958"
     },
     "user_tz": -660
    },
    "id": "DwhANfHPOBal"
   },
   "outputs": [],
   "source": [
    "sentence_length = []\n",
    "for sentence in np.arange(0,6253):\n",
    "  x = len(happy_lines[sentence])\n",
    "  sentence_length.append(x)\n",
    "sentence_length = np.array(sentence_length)"
   ]
  },
  {
   "cell_type": "code",
   "execution_count": 641,
   "metadata": {
    "colab": {
     "base_uri": "https://localhost:8080/",
     "height": 388
    },
    "executionInfo": {
     "elapsed": 10,
     "status": "ok",
     "timestamp": 1634632536499,
     "user": {
      "displayName": "Alexander Posterino",
      "photoUrl": "https://lh3.googleusercontent.com/a/default-user=s64",
      "userId": "02797547015372524958"
     },
     "user_tz": -660
    },
    "id": "L-Cmq8g2rYx-",
    "outputId": "d7f27122-e437-471a-b620-dd063bf694da"
   },
   "outputs": [
    {
     "data": {
      "text/plain": [
       "(array([  4.,  80., 239., 221., 236., 240., 252., 265., 284., 245., 252.,\n",
       "        270., 270., 253., 289., 307., 316., 327., 315., 288., 299., 267.,\n",
       "        221., 173., 125.,  91.,  61.,  38.,  16.,   9.]),\n",
       " array([ 0.,  1.,  2.,  3.,  4.,  5.,  6.,  7.,  8.,  9., 10., 11., 12.,\n",
       "        13., 14., 15., 16., 17., 18., 19., 20., 21., 22., 23., 24., 25.,\n",
       "        26., 27., 28., 29., 30.]),\n",
       " <a list of 30 Patch objects>)"
      ]
     },
     "execution_count": 641,
     "metadata": {},
     "output_type": "execute_result"
    },
    {
     "data": {
      "image/png": "[encoded data removed]",
      "text/plain": [
       "<Figure size 432x288 with 1 Axes>"
      ]
     },
     "metadata": {
      "needs_background": "light"
     },
     "output_type": "display_data"
    }
   ],
   "source": [
    "plt.hist(sentence_length, 30)"
   ]
  },
  {
   "cell_type": "code",
   "execution_count": 645,
   "metadata": {
    "colab": {
     "base_uri": "https://localhost:8080/"
    },
    "executionInfo": {
     "elapsed": 554,
     "status": "ok",
     "timestamp": 1634632558275,
     "user": {
      "displayName": "Alexander Posterino",
      "photoUrl": "https://lh3.googleusercontent.com/a/default-user=s64",
      "userId": "02797547015372524958"
     },
     "user_tz": -660
    },
    "id": "A-zS6eu1PMlu",
    "outputId": "f7a78801-2ce2-4363-b46f-c8c1b1d42f54"
   },
   "outputs": [
    {
     "name": "stdout",
     "output_type": "stream",
     "text": [
      "30\n"
     ]
    }
   ],
   "source": [
    "print(max(sentence_length))"
   ]
  },
  {
   "cell_type": "code",
   "execution_count": 104,
   "metadata": {
    "colab": {
     "base_uri": "https://localhost:8080/"
    },
    "executionInfo": {
     "elapsed": 13,
     "status": "ok",
     "timestamp": 1634599098491,
     "user": {
      "displayName": "Alexander Posterino",
      "photoUrl": "https://lh3.googleusercontent.com/a/default-user=s64",
      "userId": "02797547015372524958"
     },
     "user_tz": -660
    },
    "id": "KTm5R10Oxpjn",
    "outputId": "4e4ac4fd-affe-4d23-81b6-89694150eaf6"
   },
   "outputs": [
    {
     "name": "stdout",
     "output_type": "stream",
     "text": [
      "unique tokens - 9883\n",
      "vocab_size - 9884\n"
     ]
    }
   ],
   "source": [
    "from tensorflow.python.keras.preprocessing.text import Tokenizer\n",
    "from tensorflow.python.keras.preprocessing.sequence import pad_sequences\n",
    "\n",
    "split = 0.10\n",
    "max_length = 30\n",
    "\n",
    "tokenizer_obj = Tokenizer()\n",
    "tokenizer_obj.fit_on_texts(happy_lines)\n",
    "sequences = tokenizer_obj.texts_to_sequences(happy_lines)\n",
    "\n",
    "word_index = tokenizer_obj.word_index\n",
    "print(\"unique tokens - \"+str(len(word_index)))\n",
    "vocab_size = len(tokenizer_obj.word_index) + 1\n",
    "print('vocab_size - '+str(vocab_size))\n",
    "\n",
    "lines_pad = pad_sequences(sequences, maxlen=max_length, padding='post')\n",
    "category =  data['Class'].values"
   ]
  },
  {
   "cell_type": "code",
   "execution_count": 107,
   "metadata": {
    "executionInfo": {
     "elapsed": 9,
     "status": "ok",
     "timestamp": 1634599098941,
     "user": {
      "displayName": "Alexander Posterino",
      "photoUrl": "https://lh3.googleusercontent.com/a/default-user=s64",
      "userId": "02797547015372524958"
     },
     "user_tz": -660
    },
    "id": "0MDyHq94x8RA"
   },
   "outputs": [],
   "source": [
    "indices = np.arange(lines_pad.shape[0])\n",
    "np.random.shuffle(indices)\n",
    "lines_pad = lines_pad[indices]\n",
    "category = category[indices]\n",
    "\n",
    "n_values = np.max(category) + 1\n",
    "Y = np.eye(n_values)[category]\n",
    "\n",
    "split_samples = int(split * lines_pad.shape[0])\n",
    "\n",
    "X_train_pad = lines_pad[:-split_samples*2]\n",
    "y_train = Y[:-split_samples*2]\n",
    "X_val_pad = lines_pad[-split_samples*2:-split_samples]\n",
    "y_val = Y[-split_samples*2:-split_samples]\n",
    "X_test_pad = lines_pad[-split_samples:]\n",
    "y_test = Y[-split_samples:]"
   ]
  },
  {
   "cell_type": "code",
   "execution_count": 109,
   "metadata": {
    "executionInfo": {
     "elapsed": 559,
     "status": "ok",
     "timestamp": 1634599244545,
     "user": {
      "displayName": "Alexander Posterino",
      "photoUrl": "https://lh3.googleusercontent.com/a/default-user=s64",
      "userId": "02797547015372524958"
     },
     "user_tz": -660
    },
    "id": "J56L9ClJryYY"
   },
   "outputs": [],
   "source": [
    "# saving data after random split so the data is the same between sessions\n",
    "\n",
    "# np.save('/content/drive/MyDrive/COSC2779/Assessment_2/split_data/X_train.npy', X_train_pad)\n",
    "# np.save('/content/drive/MyDrive/COSC2779/Assessment_2/split_data/y_train.npy', y_train)\n",
    "# np.save('/content/drive/MyDrive/COSC2779/Assessment_2/split_data/X_val.npy', X_val_pad)\n",
    "# np.save('/content/drive/MyDrive/COSC2779/Assessment_2/split_data/y_val.npy', y_val)\n",
    "# np.save('/content/drive/MyDrive/COSC2779/Assessment_2/split_data/X_test.npy', X_test_pad)\n",
    "# np.save('/content/drive/MyDrive/COSC2779/Assessment_2/split_data/y_test.npy', y_test)"
   ]
  },
  {
   "cell_type": "code",
   "execution_count": 157,
   "metadata": {
    "executionInfo": {
     "elapsed": 324,
     "status": "ok",
     "timestamp": 1634605195705,
     "user": {
      "displayName": "Alexander Posterino",
      "photoUrl": "https://lh3.googleusercontent.com/a/default-user=s64",
      "userId": "02797547015372524958"
     },
     "user_tz": -660
    },
    "id": "iBBnOd8gr7hu"
   },
   "outputs": [],
   "source": [
    "X_train_pad = np.load('/content/drive/MyDrive/COSC2779/Assessment_2/split_data/X_train.npy')\n",
    "y_train = np.load('/content/drive/MyDrive/COSC2779/Assessment_2/split_data/y_train.npy')\n",
    "X_val_pad = np.load('/content/drive/MyDrive/COSC2779/Assessment_2/split_data/X_val.npy')\n",
    "y_val = np.load('/content/drive/MyDrive/COSC2779/Assessment_2/split_data/y_val.npy')\n",
    "X_test_pad = np.load('/content/drive/MyDrive/COSC2779/Assessment_2/split_data/X_test.npy')\n",
    "y_test = np.load('/content/drive/MyDrive/COSC2779/Assessment_2/split_data/y_test.npy')"
   ]
  },
  {
   "cell_type": "code",
   "execution_count": 158,
   "metadata": {
    "colab": {
     "base_uri": "https://localhost:8080/"
    },
    "executionInfo": {
     "elapsed": 14,
     "status": "ok",
     "timestamp": 1634605199373,
     "user": {
      "displayName": "Alexander Posterino",
      "photoUrl": "https://lh3.googleusercontent.com/a/default-user=s64",
      "userId": "02797547015372524958"
     },
     "user_tz": -660
    },
    "id": "td_idnhjD9PA",
    "outputId": "b1e35fa5-890c-431d-ae36-4cff0a7dc7db"
   },
   "outputs": [
    {
     "data": {
      "text/plain": [
       "array([[1528,   52,   21, ...,    0,    0,    0],\n",
       "       [2811,   72,   10, ...,    0,    0,    0],\n",
       "       [ 155, 1650, 1647, ...,    0,    0,    0],\n",
       "       ...,\n",
       "       [ 288, 3805,   67, ...,    0,    0,    0],\n",
       "       [1702, 3889,   48, ...,    0,    0,    0],\n",
       "       [ 408, 4308,  610, ...,    0,    0,    0]], dtype=int32)"
      ]
     },
     "execution_count": 158,
     "metadata": {},
     "output_type": "execute_result"
    }
   ],
   "source": [
    "X_train_pad"
   ]
  },
  {
   "cell_type": "code",
   "execution_count": 162,
   "metadata": {
    "colab": {
     "base_uri": "https://localhost:8080/"
    },
    "executionInfo": {
     "elapsed": 394,
     "status": "ok",
     "timestamp": 1634605315450,
     "user": {
      "displayName": "Alexander Posterino",
      "photoUrl": "https://lh3.googleusercontent.com/a/default-user=s64",
      "userId": "02797547015372524958"
     },
     "user_tz": -660
    },
    "id": "kzRW0xbAStxK",
    "outputId": "547a1379-b875-45cb-83a6-34fa921f9df2"
   },
   "outputs": [
    {
     "data": {
      "text/plain": [
       "array([[1., 0., 0., 0.],\n",
       "       [0., 0., 0., 1.],\n",
       "       [1., 0., 0., 0.],\n",
       "       ...,\n",
       "       [0., 0., 0., 1.],\n",
       "       [1., 0., 0., 0.],\n",
       "       [1., 0., 0., 0.]])"
      ]
     },
     "execution_count": 162,
     "metadata": {},
     "output_type": "execute_result"
    }
   ],
   "source": [
    "y_train"
   ]
  },
  {
   "cell_type": "code",
   "execution_count": 159,
   "metadata": {
    "colab": {
     "base_uri": "https://localhost:8080/"
    },
    "executionInfo": {
     "elapsed": 7,
     "status": "ok",
     "timestamp": 1634605199373,
     "user": {
      "displayName": "Alexander Posterino",
      "photoUrl": "https://lh3.googleusercontent.com/a/default-user=s64",
      "userId": "02797547015372524958"
     },
     "user_tz": -660
    },
    "id": "_FEgSAWBD9PB",
    "outputId": "b0771b09-fb80-4341-fa6d-165ffb699bb6"
   },
   "outputs": [
    {
     "data": {
      "text/plain": [
       "array([[ 628,  122, 2566, ...,    0,    0,    0],\n",
       "       [3937,  406,  215, ...,    0,    0,    0],\n",
       "       [2439, 1694,  101, ...,    0,    0,    0],\n",
       "       ...,\n",
       "       [2406,  681,   98, ...,    0,    0,    0],\n",
       "       [ 658, 3524,    1, ...,    0,    0,    0],\n",
       "       [1037,  728, 1219, ...,    0,    0,    0]], dtype=int32)"
      ]
     },
     "execution_count": 159,
     "metadata": {},
     "output_type": "execute_result"
    }
   ],
   "source": [
    "X_val_pad"
   ]
  },
  {
   "cell_type": "code",
   "execution_count": 161,
   "metadata": {
    "colab": {
     "base_uri": "https://localhost:8080/"
    },
    "executionInfo": {
     "elapsed": 690,
     "status": "ok",
     "timestamp": 1634605311182,
     "user": {
      "displayName": "Alexander Posterino",
      "photoUrl": "https://lh3.googleusercontent.com/a/default-user=s64",
      "userId": "02797547015372524958"
     },
     "user_tz": -660
    },
    "id": "qQC2mdYqRPDG",
    "outputId": "98d55610-90d8-4164-8958-448bf6ab212d"
   },
   "outputs": [
    {
     "data": {
      "text/plain": [
       "array([[0., 1., 0., 0.],\n",
       "       [1., 0., 0., 0.],\n",
       "       [1., 0., 0., 0.],\n",
       "       ...,\n",
       "       [1., 0., 0., 0.],\n",
       "       [1., 0., 0., 0.],\n",
       "       [1., 0., 0., 0.]])"
      ]
     },
     "execution_count": 161,
     "metadata": {},
     "output_type": "execute_result"
    }
   ],
   "source": [
    "y_val"
   ]
  },
  {
   "cell_type": "code",
   "execution_count": 87,
   "metadata": {
    "colab": {
     "base_uri": "https://localhost:8080/"
    },
    "executionInfo": {
     "elapsed": 501,
     "status": "ok",
     "timestamp": 1634539000361,
     "user": {
      "displayName": "Alexander Posterino",
      "photoUrl": "https://lh3.googleusercontent.com/a/default-user=s64",
      "userId": "02797547015372524958"
     },
     "user_tz": -660
    },
    "id": "Z29RKlSfx-n2",
    "outputId": "6e0c89a0-e1c4-4f49-d1a9-ace4b28bea75"
   },
   "outputs": [
    {
     "name": "stdout",
     "output_type": "stream",
     "text": [
      "Shape of X_train_pad: (5003, 30)\n",
      "Shape of y_train: (5003, 4)\n",
      "Shape of X_val_pad: (625, 30)\n",
      "Shape of y_val: (625, 4)\n",
      "Shape of X_test_pad: (625, 30)\n",
      "Shape of y_test: (625, 4)\n"
     ]
    }
   ],
   "source": [
    "print('Shape of X_train_pad:', X_train_pad.shape)\n",
    "print('Shape of y_train:', y_train.shape)\n",
    "\n",
    "print('Shape of X_val_pad:', X_val_pad.shape)\n",
    "print('Shape of y_val:', y_val.shape)\n",
    "\n",
    "print('Shape of X_test_pad:', X_test_pad.shape)\n",
    "print('Shape of y_test:', y_test.shape)"
   ]
  },
  {
   "cell_type": "markdown",
   "metadata": {
    "id": "mivADRez49Er"
   },
   "source": [
    "# Models"
   ]
  },
  {
   "cell_type": "markdown",
   "metadata": {
    "id": "w1Z1RegHWVi4"
   },
   "source": [
    "## Embedding Layer"
   ]
  },
  {
   "cell_type": "code",
   "execution_count": 320,
   "metadata": {
    "executionInfo": {
     "elapsed": 32916,
     "status": "ok",
     "timestamp": 1634612848092,
     "user": {
      "displayName": "Alexander Posterino",
      "photoUrl": "https://lh3.googleusercontent.com/a/default-user=s64",
      "userId": "02797547015372524958"
     },
     "user_tz": -660
    },
    "id": "HZCEZjVa7KRD"
   },
   "outputs": [],
   "source": [
    "# default embedding for models\n",
    "file = open('/content/drive/MyDrive/COSC2779/Assessment_2/glove.twitter.27B.100d.txt', encoding='utf-8')\n",
    "\n",
    "glove_vectors = dict()\n",
    "for line in file:\n",
    "  values = line.split()\n",
    "  word = values[0]\n",
    "  features = np.asarray(values[1:])\n",
    "  glove_vectors[word] = features\n",
    "\n",
    "file.close()"
   ]
  },
  {
   "cell_type": "code",
   "execution_count": 251,
   "metadata": {
    "executionInfo": {
     "elapsed": 24419,
     "status": "ok",
     "timestamp": 1634610836513,
     "user": {
      "displayName": "Alexander Posterino",
      "photoUrl": "https://lh3.googleusercontent.com/a/default-user=s64",
      "userId": "02797547015372524958"
     },
     "user_tz": -660
    },
    "id": "xXrxng_mCrhR"
   },
   "outputs": [],
   "source": [
    "file = open('/content/drive/MyDrive/COSC2779/Assessment_2/glove.twitter.27B.50d.txt', encoding='utf-8')\n",
    "\n",
    "glove_vectors = dict()\n",
    "for line in file:\n",
    "  values = line.split()\n",
    "  word = values[0]\n",
    "  features = np.asarray(values[1:])\n",
    "  glove_vectors[word] = features\n",
    "\n",
    "file.close()"
   ]
  },
  {
   "cell_type": "code",
   "execution_count": 263,
   "metadata": {
    "executionInfo": {
     "elapsed": 8634,
     "status": "ok",
     "timestamp": 1634611419058,
     "user": {
      "displayName": "Alexander Posterino",
      "photoUrl": "https://lh3.googleusercontent.com/a/default-user=s64",
      "userId": "02797547015372524958"
     },
     "user_tz": -660
    },
    "id": "ZpbG2BoSCzdA"
   },
   "outputs": [],
   "source": [
    "file = open('/content/drive/MyDrive/COSC2779/Assessment_2/glove.6B.50d.txt', encoding='utf-8')\n",
    "\n",
    "glove_vectors = dict()\n",
    "for line in file:\n",
    "  values = line.split()\n",
    "  word = values[0]\n",
    "  features = np.asarray(values[1:])\n",
    "  glove_vectors[word] = features\n",
    "\n",
    "file.close()"
   ]
  },
  {
   "cell_type": "code",
   "execution_count": 275,
   "metadata": {
    "executionInfo": {
     "elapsed": 9937,
     "status": "ok",
     "timestamp": 1634611897074,
     "user": {
      "displayName": "Alexander Posterino",
      "photoUrl": "https://lh3.googleusercontent.com/a/default-user=s64",
      "userId": "02797547015372524958"
     },
     "user_tz": -660
    },
    "id": "rWvCQion4tjY"
   },
   "outputs": [],
   "source": [
    "file = open('/content/drive/MyDrive/COSC2779/Assessment_2/glove.6B.100d.txt', encoding='utf-8')\n",
    "\n",
    "glove_vectors = dict()\n",
    "for line in file:\n",
    "  values = line.split()\n",
    "  word = values[0]\n",
    "  features = np.asarray(values[1:])\n",
    "  glove_vectors[word] = features\n",
    "\n",
    "file.close()"
   ]
  },
  {
   "cell_type": "code",
   "execution_count": 321,
   "metadata": {
    "executionInfo": {
     "elapsed": 527,
     "status": "ok",
     "timestamp": 1634612848611,
     "user": {
      "displayName": "Alexander Posterino",
      "photoUrl": "https://lh3.googleusercontent.com/a/default-user=s64",
      "userId": "02797547015372524958"
     },
     "user_tz": -660
    },
    "id": "qa2uIine4vQ9"
   },
   "outputs": [],
   "source": [
    "from tensorflow.keras.layers import Embedding\n",
    "embedding_dim = 100\n",
    "\n",
    "E_T = np.zeros((len(word_index) + 1, embedding_dim))\n",
    "for word, i in word_index.items():\n",
    "    embedding_vector = glove_vectors.get(word)\n",
    "    if embedding_vector is not None:\n",
    "        E_T[i] = embedding_vector\n",
    "\n",
    "embedding_layer_TL = Embedding(len(word_index) + 1,\n",
    "                            embedding_dim,\n",
    "                            weights=[E_T],\n",
    "                            input_length=max_length,\n",
    "                            trainable=False)"
   ]
  },
  {
   "cell_type": "markdown",
   "metadata": {
    "id": "y4MgGC0WV-QG"
   },
   "source": [
    "## LSTM Model"
   ]
  },
  {
   "cell_type": "code",
   "execution_count": 207,
   "metadata": {
    "colab": {
     "base_uri": "https://localhost:8080/"
    },
    "executionInfo": {
     "elapsed": 558,
     "status": "ok",
     "timestamp": 1634608138056,
     "user": {
      "displayName": "Alexander Posterino",
      "photoUrl": "https://lh3.googleusercontent.com/a/default-user=s64",
      "userId": "02797547015372524958"
     },
     "user_tz": -660
    },
    "id": "f6X0kY80JnZX",
    "outputId": "889688ee-3439-4005-d1aa-4eb2829cd688"
   },
   "outputs": [
    {
     "name": "stdout",
     "output_type": "stream",
     "text": [
      "Model: \"sequential_10\"\n",
      "_________________________________________________________________\n",
      "Layer (type)                 Output Shape              Param #   \n",
      "=================================================================\n",
      "embedding_17 (Embedding)     (None, 30, 100)           988400    \n",
      "_________________________________________________________________\n",
      "lstm (LSTM)                  (None, 30, 64)            42240     \n",
      "_________________________________________________________________\n",
      "lstm_1 (LSTM)                (None, 30, 64)            33024     \n",
      "_________________________________________________________________\n",
      "lstm_2 (LSTM)                (None, 30, 64)            33024     \n",
      "_________________________________________________________________\n",
      "lstm_3 (LSTM)                (None, 64)                33024     \n",
      "_________________________________________________________________\n",
      "dense_20 (Dense)             (None, 4)                 260       \n",
      "=================================================================\n",
      "Total params: 1,129,972\n",
      "Trainable params: 141,572\n",
      "Non-trainable params: 988,400\n",
      "_________________________________________________________________\n",
      "None\n"
     ]
    }
   ],
   "source": [
    "from tensorflow.keras.layers import Dense, Embedding, GRU, LSTM, Bidirectional, Dropout, Conv2D, Attention\n",
    "from tensorflow.keras.models import Sequential\n",
    "\n",
    "embedding_layer_TL = Embedding(len(word_index) + 1,\n",
    "                            embedding_dim,\n",
    "                            weights=[E_T],\n",
    "                            input_length=max_length,\n",
    "                            trainable=False)\n",
    "\n",
    "model_lstm = tf.keras.Sequential([\n",
    "      embedding_layer_TL,\n",
    "      LSTM(64, dropout=0.2, recurrent_dropout=0.2, return_sequences=True),\n",
    "      LSTM(64, dropout=0.2, recurrent_dropout=0.2, return_sequences=True),\n",
    "      LSTM(64, dropout=0.2, recurrent_dropout=0.2, return_sequences=True),\n",
    "      LSTM(64, dropout=0.2, recurrent_dropout=0.2, return_sequences=False),\n",
    "      Dense(4, activation='softmax')\n",
    "  ])\n",
    "\n",
    "print(model_lstm.summary())"
   ]
  },
  {
   "cell_type": "code",
   "execution_count": 514,
   "metadata": {
    "colab": {
     "base_uri": "https://localhost:8080/"
    },
    "executionInfo": {
     "elapsed": 568,
     "status": "ok",
     "timestamp": 1634623773068,
     "user": {
      "displayName": "Alexander Posterino",
      "photoUrl": "https://lh3.googleusercontent.com/a/default-user=s64",
      "userId": "02797547015372524958"
     },
     "user_tz": -660
    },
    "id": "cBMgrQnNKvjC",
    "outputId": "aae88901-23e7-457c-d59f-393f076a855a"
   },
   "outputs": [
    {
     "name": "stdout",
     "output_type": "stream",
     "text": [
      "Model: \"sequential_33\"\n",
      "_________________________________________________________________\n",
      "Layer (type)                 Output Shape              Param #   \n",
      "=================================================================\n",
      "embedding_42 (Embedding)     (None, 30, 100)           988400    \n",
      "_________________________________________________________________\n",
      "lstm_28 (LSTM)               (None, 30, 64)            42240     \n",
      "_________________________________________________________________\n",
      "lstm_29 (LSTM)               (None, 64)                33024     \n",
      "_________________________________________________________________\n",
      "dense_62 (Dense)             (None, 4)                 260       \n",
      "=================================================================\n",
      "Total params: 1,063,924\n",
      "Trainable params: 75,524\n",
      "Non-trainable params: 988,400\n",
      "_________________________________________________________________\n",
      "None\n"
     ]
    }
   ],
   "source": [
    "from tensorflow.keras.layers import Dense, Embedding, GRU, LSTM, Bidirectional, Dropout, Conv2D, Attention\n",
    "from tensorflow.keras.models import Sequential\n",
    "\n",
    "embedding_layer_TL = Embedding(len(word_index) + 1,\n",
    "                            embedding_dim,\n",
    "                            weights=[E_T],\n",
    "                            input_length=max_length,\n",
    "                            trainable=False)\n",
    "\n",
    "model_lstm2 = tf.keras.Sequential([\n",
    "      embedding_layer_TL,\n",
    "      LSTM(64, dropout=0.2, recurrent_dropout=0.2, return_sequences=True),\n",
    "      LSTM(64, dropout=0.2, recurrent_dropout=0.2, return_sequences=False),\n",
    "      Dense(4, activation='softmax')\n",
    "  ])\n",
    "\n",
    "print(model_lstm2.summary())"
   ]
  },
  {
   "cell_type": "markdown",
   "metadata": {
    "id": "UsF-8R1UWHC-"
   },
   "source": [
    "## GRU Model"
   ]
  },
  {
   "cell_type": "code",
   "execution_count": 228,
   "metadata": {
    "colab": {
     "base_uri": "https://localhost:8080/"
    },
    "executionInfo": {
     "elapsed": 904,
     "status": "ok",
     "timestamp": 1634609316213,
     "user": {
      "displayName": "Alexander Posterino",
      "photoUrl": "https://lh3.googleusercontent.com/a/default-user=s64",
      "userId": "02797547015372524958"
     },
     "user_tz": -660
    },
    "id": "RSOrpTUGDFBI",
    "outputId": "c887524d-6194-4771-e77a-b9e4a68c726a"
   },
   "outputs": [
    {
     "name": "stdout",
     "output_type": "stream",
     "text": [
      "Model: \"sequential_13\"\n",
      "_________________________________________________________________\n",
      "Layer (type)                 Output Shape              Param #   \n",
      "=================================================================\n",
      "embedding_20 (Embedding)     (None, 30, 100)           988400    \n",
      "_________________________________________________________________\n",
      "gru_18 (GRU)                 (None, 30, 64)            31872     \n",
      "_________________________________________________________________\n",
      "gru_19 (GRU)                 (None, 30, 64)            24960     \n",
      "_________________________________________________________________\n",
      "gru_20 (GRU)                 (None, 30, 64)            24960     \n",
      "_________________________________________________________________\n",
      "gru_21 (GRU)                 (None, 64)                24960     \n",
      "_________________________________________________________________\n",
      "dense_24 (Dense)             (None, 4)                 260       \n",
      "=================================================================\n",
      "Total params: 1,095,412\n",
      "Trainable params: 107,012\n",
      "Non-trainable params: 988,400\n",
      "_________________________________________________________________\n",
      "None\n"
     ]
    }
   ],
   "source": [
    "from tensorflow.keras.layers import Dense, Embedding, GRU, LSTM, Bidirectional, Dropout, Conv2D, Attention\n",
    "from tensorflow.keras.models import Sequential\n",
    "\n",
    "embedding_layer_TL = Embedding(len(word_index) + 1,\n",
    "                            embedding_dim,\n",
    "                            weights=[E_T],\n",
    "                            input_length=max_length,\n",
    "                            trainable=False)\n",
    "\n",
    "model_gru = tf.keras.Sequential([\n",
    "      embedding_layer_TL,\n",
    "      GRU(64, dropout=0.2, recurrent_dropout=0.2, return_sequences=True),\n",
    "      GRU(64, dropout=0.2, recurrent_dropout=0.2, return_sequences=True),\n",
    "      GRU(64, dropout=0.2, recurrent_dropout=0.2, return_sequences=True),\n",
    "      GRU(64, dropout=0.2, recurrent_dropout=0.2, return_sequences=False),\n",
    "      Dense(4, activation='softmax')\n",
    "  ])\n",
    "\n",
    "print(model_gru.summary())"
   ]
  },
  {
   "cell_type": "markdown",
   "metadata": {
    "id": "7YCDLSrKWKfL"
   },
   "source": [
    "## Bidirectional LSTM Model"
   ]
  },
  {
   "cell_type": "code",
   "execution_count": 231,
   "metadata": {
    "colab": {
     "base_uri": "https://localhost:8080/"
    },
    "executionInfo": {
     "elapsed": 858,
     "status": "ok",
     "timestamp": 1634609678088,
     "user": {
      "displayName": "Alexander Posterino",
      "photoUrl": "https://lh3.googleusercontent.com/a/default-user=s64",
      "userId": "02797547015372524958"
     },
     "user_tz": -660
    },
    "id": "GZBJsS1tM9k0",
    "outputId": "4d1c4442-43fc-4713-adbd-e2f9275ca325"
   },
   "outputs": [
    {
     "name": "stdout",
     "output_type": "stream",
     "text": [
      "Model: \"sequential_14\"\n",
      "_________________________________________________________________\n",
      "Layer (type)                 Output Shape              Param #   \n",
      "=================================================================\n",
      "embedding_20 (Embedding)     (None, 30, 100)           988400    \n",
      "_________________________________________________________________\n",
      "bidirectional_14 (Bidirectio (None, 30, 128)           84480     \n",
      "_________________________________________________________________\n",
      "bidirectional_15 (Bidirectio (None, 128)               98816     \n",
      "_________________________________________________________________\n",
      "dense_25 (Dense)             (None, 64)                8256      \n",
      "_________________________________________________________________\n",
      "dropout_11 (Dropout)         (None, 64)                0         \n",
      "_________________________________________________________________\n",
      "dense_26 (Dense)             (None, 4)                 260       \n",
      "=================================================================\n",
      "Total params: 1,180,212\n",
      "Trainable params: 191,812\n",
      "Non-trainable params: 988,400\n",
      "_________________________________________________________________\n",
      "None\n"
     ]
    }
   ],
   "source": [
    "from tensorflow.keras.layers import Dense, Embedding, GRU, LSTM, Bidirectional, Dropout\n",
    "from tensorflow.keras.models import Sequential\n",
    "\n",
    "model_bi_lstm = tf.keras.Sequential([\n",
    "      embedding_layer_TL,\n",
    "      Bidirectional(LSTM(64, dropout=0.2, recurrent_dropout=0.2, return_sequences=True)),\n",
    "      Bidirectional(LSTM(64, dropout=0.2, recurrent_dropout=0.2, return_sequences=False)),\n",
    "      Dense(64, activation='relu'),\n",
    "      Dropout(.5),\n",
    "      Dense(4, activation='softmax')\n",
    "  ])\n",
    "\n",
    "print(model_bi_lstm.summary())"
   ]
  },
  {
   "cell_type": "code",
   "execution_count": 241,
   "metadata": {
    "colab": {
     "base_uri": "https://localhost:8080/"
    },
    "executionInfo": {
     "elapsed": 863,
     "status": "ok",
     "timestamp": 1634610145433,
     "user": {
      "displayName": "Alexander Posterino",
      "photoUrl": "https://lh3.googleusercontent.com/a/default-user=s64",
      "userId": "02797547015372524958"
     },
     "user_tz": -660
    },
    "id": "yRt4V6mKWxjN",
    "outputId": "548f8dde-aff2-4c02-bf31-ac882d7e3ff9"
   },
   "outputs": [
    {
     "name": "stdout",
     "output_type": "stream",
     "text": [
      "Model: \"sequential_15\"\n",
      "_________________________________________________________________\n",
      "Layer (type)                 Output Shape              Param #   \n",
      "=================================================================\n",
      "embedding_20 (Embedding)     (None, 30, 100)           988400    \n",
      "_________________________________________________________________\n",
      "bidirectional_16 (Bidirectio (None, 30, 128)           84480     \n",
      "_________________________________________________________________\n",
      "bidirectional_17 (Bidirectio (None, 128)               98816     \n",
      "_________________________________________________________________\n",
      "dense_27 (Dense)             (None, 64)                8256      \n",
      "_________________________________________________________________\n",
      "dropout_12 (Dropout)         (None, 64)                0         \n",
      "_________________________________________________________________\n",
      "dense_28 (Dense)             (None, 4)                 260       \n",
      "=================================================================\n",
      "Total params: 1,180,212\n",
      "Trainable params: 191,812\n",
      "Non-trainable params: 988,400\n",
      "_________________________________________________________________\n",
      "None\n"
     ]
    }
   ],
   "source": [
    "from tensorflow.keras.layers import Dense, Embedding, GRU, LSTM, Bidirectional, Dropout\n",
    "from tensorflow.keras.models import Sequential\n",
    "\n",
    "model_bi_lstm2 = tf.keras.Sequential([\n",
    "      embedding_layer_TL,\n",
    "      Bidirectional(LSTM(64, dropout=0.5, recurrent_dropout=0.5, return_sequences=True)),\n",
    "      Bidirectional(LSTM(64, dropout=0.5, recurrent_dropout=0.5, return_sequences=False)),\n",
    "      Dense(64, activation='relu'),\n",
    "      Dropout(.5),\n",
    "      Dense(4, activation='softmax')\n",
    "  ])\n",
    "\n",
    "print(model_bi_lstm2.summary())"
   ]
  },
  {
   "cell_type": "markdown",
   "metadata": {
    "id": "jkkBrXDMWd1B"
   },
   "source": [
    "## Bidirectional GRU Models"
   ]
  },
  {
   "cell_type": "code",
   "execution_count": 227,
   "metadata": {
    "colab": {
     "base_uri": "https://localhost:8080/"
    },
    "executionInfo": {
     "elapsed": 860,
     "status": "ok",
     "timestamp": 1634609311549,
     "user": {
      "displayName": "Alexander Posterino",
      "photoUrl": "https://lh3.googleusercontent.com/a/default-user=s64",
      "userId": "02797547015372524958"
     },
     "user_tz": -660
    },
    "id": "2wynjoiOz_rp",
    "outputId": "16feb493-4639-4461-a0d6-562c17fdf485"
   },
   "outputs": [
    {
     "name": "stdout",
     "output_type": "stream",
     "text": [
      "Model: \"sequential_12\"\n",
      "_________________________________________________________________\n",
      "Layer (type)                 Output Shape              Param #   \n",
      "=================================================================\n",
      "embedding_19 (Embedding)     (None, 30, 100)           988400    \n",
      "_________________________________________________________________\n",
      "bidirectional_12 (Bidirectio (None, 30, 128)           63744     \n",
      "_________________________________________________________________\n",
      "bidirectional_13 (Bidirectio (None, 128)               74496     \n",
      "_________________________________________________________________\n",
      "dense_22 (Dense)             (None, 64)                8256      \n",
      "_________________________________________________________________\n",
      "dropout_10 (Dropout)         (None, 64)                0         \n",
      "_________________________________________________________________\n",
      "dense_23 (Dense)             (None, 4)                 260       \n",
      "=================================================================\n",
      "Total params: 1,135,156\n",
      "Trainable params: 146,756\n",
      "Non-trainable params: 988,400\n",
      "_________________________________________________________________\n",
      "None\n"
     ]
    }
   ],
   "source": [
    "from tensorflow.keras.layers import Dense, Embedding, GRU, LSTM, Bidirectional, Dropout, Conv1D, Attention\n",
    "from tensorflow.keras.models import Sequential\n",
    "\n",
    "embedding_layer_TL = Embedding(len(word_index) + 1,\n",
    "                            embedding_dim,\n",
    "                            weights=[E_T],\n",
    "                            input_length=max_length,\n",
    "                            trainable=False)\n",
    "\n",
    "model_bi_gru = tf.keras.Sequential([\n",
    "      embedding_layer_TL,\n",
    "      Bidirectional(GRU(64, dropout=0.2, recurrent_dropout=0.2, return_sequences=True)),\n",
    "      Bidirectional(GRU(64, dropout=0.2, recurrent_dropout=0.2, return_sequences=False)),\n",
    "      Dense(64, activation='relu'),\n",
    "      Dropout(.3),\n",
    "      Dense(4, activation='softmax')\n",
    "  ])\n",
    "\n",
    "print(model_bi_gru.summary())"
   ]
  },
  {
   "cell_type": "markdown",
   "metadata": {
    "id": "uLIBIYFkWyHe"
   },
   "source": [
    "### Alternative Architecture"
   ]
  },
  {
   "cell_type": "code",
   "execution_count": 368,
   "metadata": {
    "colab": {
     "base_uri": "https://localhost:8080/"
    },
    "executionInfo": {
     "elapsed": 565,
     "status": "ok",
     "timestamp": 1634614249847,
     "user": {
      "displayName": "Alexander Posterino",
      "photoUrl": "https://lh3.googleusercontent.com/a/default-user=s64",
      "userId": "02797547015372524958"
     },
     "user_tz": -660
    },
    "id": "Z3DSFen0MdIP",
    "outputId": "8d8da73c-9863-45c5-cd2b-c7ae9de69e54"
   },
   "outputs": [
    {
     "name": "stdout",
     "output_type": "stream",
     "text": [
      "Model: \"sequential_31\"\n",
      "_________________________________________________________________\n",
      "Layer (type)                 Output Shape              Param #   \n",
      "=================================================================\n",
      "embedding_40 (Embedding)     (None, 30, 100)           988400    \n",
      "_________________________________________________________________\n",
      "bidirectional_36 (Bidirectio (None, 256)               176640    \n",
      "_________________________________________________________________\n",
      "dense_59 (Dense)             (None, 32)                8224      \n",
      "_________________________________________________________________\n",
      "dropout_26 (Dropout)         (None, 32)                0         \n",
      "_________________________________________________________________\n",
      "dense_60 (Dense)             (None, 4)                 132       \n",
      "=================================================================\n",
      "Total params: 1,173,396\n",
      "Trainable params: 184,996\n",
      "Non-trainable params: 988,400\n",
      "_________________________________________________________________\n",
      "None\n"
     ]
    }
   ],
   "source": [
    "from tensorflow.keras.layers import Dense, Embedding, GRU, LSTM, Bidirectional, Dropout, Conv1D, Attention\n",
    "from tensorflow.keras.models import Sequential\n",
    "\n",
    "embedding_layer_TL = Embedding(len(word_index) + 1,\n",
    "                            embedding_dim,\n",
    "                            weights=[E_T],\n",
    "                            input_length=max_length,\n",
    "                            trainable=False)\n",
    "\n",
    "model_bi_gru2 = tf.keras.Sequential([\n",
    "      embedding_layer_TL,\n",
    "      Bidirectional(GRU(128, dropout=0.5, recurrent_dropout=0.5, return_sequences=False)),\n",
    "      Dense(32, activation='relu'),\n",
    "      Dropout(.5),\n",
    "      Dense(4, activation='softmax')\n",
    "  ])\n",
    "\n",
    "print(model_bi_gru2.summary())"
   ]
  },
  {
   "cell_type": "markdown",
   "metadata": {
    "id": "wU11OC-6Wqm4"
   },
   "source": [
    "### With Alternative Embedding Layers"
   ]
  },
  {
   "cell_type": "code",
   "execution_count": 253,
   "metadata": {
    "colab": {
     "base_uri": "https://localhost:8080/"
    },
    "executionInfo": {
     "elapsed": 542,
     "status": "ok",
     "timestamp": 1634610893044,
     "user": {
      "displayName": "Alexander Posterino",
      "photoUrl": "https://lh3.googleusercontent.com/a/default-user=s64",
      "userId": "02797547015372524958"
     },
     "user_tz": -660
    },
    "id": "9Z_Z_H1oD8N-",
    "outputId": "d65f229a-d480-42e7-82bf-623cc87f6e76"
   },
   "outputs": [
    {
     "name": "stdout",
     "output_type": "stream",
     "text": [
      "Model: \"sequential_16\"\n",
      "_________________________________________________________________\n",
      "Layer (type)                 Output Shape              Param #   \n",
      "=================================================================\n",
      "embedding_22 (Embedding)     (None, 30, 50)            494200    \n",
      "_________________________________________________________________\n",
      "bidirectional_18 (Bidirectio (None, 256)               138240    \n",
      "_________________________________________________________________\n",
      "dense_29 (Dense)             (None, 32)                8224      \n",
      "_________________________________________________________________\n",
      "dropout_13 (Dropout)         (None, 32)                0         \n",
      "_________________________________________________________________\n",
      "dense_30 (Dense)             (None, 4)                 132       \n",
      "=================================================================\n",
      "Total params: 640,796\n",
      "Trainable params: 146,596\n",
      "Non-trainable params: 494,200\n",
      "_________________________________________________________________\n",
      "None\n"
     ]
    }
   ],
   "source": [
    "from tensorflow.keras.layers import Dense, Embedding, GRU, LSTM, Bidirectional, Dropout, Conv1D, Attention\n",
    "from tensorflow.keras.models import Sequential\n",
    "\n",
    "embedding_layer_TL = Embedding(len(word_index) + 1,\n",
    "                            embedding_dim,\n",
    "                            weights=[E_T],\n",
    "                            input_length=max_length,\n",
    "                            trainable=False)\n",
    "\n",
    "model_bi_gru2_twitter50d = tf.keras.Sequential([\n",
    "      embedding_layer_TL,\n",
    "      Bidirectional(GRU(128, dropout=0.5, recurrent_dropout=0.5, return_sequences=False)),\n",
    "      Dense(32, activation='relu'),\n",
    "      Dropout(.5),\n",
    "      Dense(4, activation='softmax')\n",
    "  ])\n",
    "\n",
    "print(model_bi_gru2_twitter50d.summary())"
   ]
  },
  {
   "cell_type": "code",
   "execution_count": 265,
   "metadata": {
    "colab": {
     "base_uri": "https://localhost:8080/"
    },
    "executionInfo": {
     "elapsed": 1281,
     "status": "ok",
     "timestamp": 1634611434407,
     "user": {
      "displayName": "Alexander Posterino",
      "photoUrl": "https://lh3.googleusercontent.com/a/default-user=s64",
      "userId": "02797547015372524958"
     },
     "user_tz": -660
    },
    "id": "UAhiziWxNfAX",
    "outputId": "91c0a325-af95-4ad0-f4dc-32fe8671cec3"
   },
   "outputs": [
    {
     "name": "stdout",
     "output_type": "stream",
     "text": [
      "Model: \"sequential_17\"\n",
      "_________________________________________________________________\n",
      "Layer (type)                 Output Shape              Param #   \n",
      "=================================================================\n",
      "embedding_24 (Embedding)     (None, 30, 50)            494200    \n",
      "_________________________________________________________________\n",
      "bidirectional_19 (Bidirectio (None, 256)               138240    \n",
      "_________________________________________________________________\n",
      "dense_31 (Dense)             (None, 32)                8224      \n",
      "_________________________________________________________________\n",
      "dropout_14 (Dropout)         (None, 32)                0         \n",
      "_________________________________________________________________\n",
      "dense_32 (Dense)             (None, 4)                 132       \n",
      "=================================================================\n",
      "Total params: 640,796\n",
      "Trainable params: 146,596\n",
      "Non-trainable params: 494,200\n",
      "_________________________________________________________________\n",
      "None\n"
     ]
    }
   ],
   "source": [
    "from tensorflow.keras.layers import Dense, Embedding, GRU, LSTM, Bidirectional, Dropout, Conv1D, Attention\n",
    "from tensorflow.keras.models import Sequential\n",
    "\n",
    "embedding_layer_TL = Embedding(len(word_index) + 1,\n",
    "                            embedding_dim,\n",
    "                            weights=[E_T],\n",
    "                            input_length=max_length,\n",
    "                            trainable=False)\n",
    "\n",
    "model_bi_gru2_glove50d = tf.keras.Sequential([\n",
    "      embedding_layer_TL,\n",
    "      Bidirectional(GRU(128, dropout=0.5, recurrent_dropout=0.5, return_sequences=False)),\n",
    "      Dense(32, activation='relu'),\n",
    "      Dropout(.5),\n",
    "      Dense(4, activation='softmax')\n",
    "  ])\n",
    "\n",
    "print(model_bi_gru2_glove50d.summary())"
   ]
  },
  {
   "cell_type": "code",
   "execution_count": 277,
   "metadata": {
    "colab": {
     "base_uri": "https://localhost:8080/"
    },
    "executionInfo": {
     "elapsed": 343,
     "status": "ok",
     "timestamp": 1634611906935,
     "user": {
      "displayName": "Alexander Posterino",
      "photoUrl": "https://lh3.googleusercontent.com/a/default-user=s64",
      "userId": "02797547015372524958"
     },
     "user_tz": -660
    },
    "id": "AgvnbGdIjhoy",
    "outputId": "e8563370-441a-48cf-84f1-39824c288f38"
   },
   "outputs": [
    {
     "name": "stdout",
     "output_type": "stream",
     "text": [
      "Model: \"sequential_18\"\n",
      "_________________________________________________________________\n",
      "Layer (type)                 Output Shape              Param #   \n",
      "=================================================================\n",
      "embedding_26 (Embedding)     (None, 30, 100)           988400    \n",
      "_________________________________________________________________\n",
      "bidirectional_20 (Bidirectio (None, 256)               176640    \n",
      "_________________________________________________________________\n",
      "dense_33 (Dense)             (None, 32)                8224      \n",
      "_________________________________________________________________\n",
      "dropout_15 (Dropout)         (None, 32)                0         \n",
      "_________________________________________________________________\n",
      "dense_34 (Dense)             (None, 4)                 132       \n",
      "=================================================================\n",
      "Total params: 1,173,396\n",
      "Trainable params: 184,996\n",
      "Non-trainable params: 988,400\n",
      "_________________________________________________________________\n",
      "None\n"
     ]
    }
   ],
   "source": [
    "from tensorflow.keras.layers import Dense, Embedding, GRU, LSTM, Bidirectional, Dropout, Conv1D, Attention\n",
    "from tensorflow.keras.models import Sequential\n",
    "\n",
    "embedding_layer_TL = Embedding(len(word_index) + 1,\n",
    "                            embedding_dim,\n",
    "                            weights=[E_T],\n",
    "                            input_length=max_length,\n",
    "                            trainable=False)\n",
    "\n",
    "model_bi_gru2_glove100d = tf.keras.Sequential([\n",
    "      embedding_layer_TL,\n",
    "      Bidirectional(GRU(128, dropout=0.5, recurrent_dropout=0.5, return_sequences=False)),\n",
    "      Dense(32, activation='relu'),\n",
    "      Dropout(.5),\n",
    "      Dense(4, activation='softmax')\n",
    "  ])\n",
    "\n",
    "print(model_bi_gru2_glove100d.summary())"
   ]
  },
  {
   "cell_type": "markdown",
   "metadata": {
    "id": "pG9pPRjIXri8"
   },
   "source": [
    "## Bidirectional LSTM Models with CNN"
   ]
  },
  {
   "cell_type": "code",
   "execution_count": 322,
   "metadata": {
    "colab": {
     "base_uri": "https://localhost:8080/"
    },
    "executionInfo": {
     "elapsed": 7,
     "status": "ok",
     "timestamp": 1634612849903,
     "user": {
      "displayName": "Alexander Posterino",
      "photoUrl": "https://lh3.googleusercontent.com/a/default-user=s64",
      "userId": "02797547015372524958"
     },
     "user_tz": -660
    },
    "id": "aip9l0Cs94xR",
    "outputId": "5fdf1650-c097-46a8-b243-e347aa952f0e"
   },
   "outputs": [
    {
     "name": "stdout",
     "output_type": "stream",
     "text": [
      "Model: \"sequential_22\"\n",
      "_________________________________________________________________\n",
      "Layer (type)                 Output Shape              Param #   \n",
      "=================================================================\n",
      "embedding_31 (Embedding)     (None, 30, 100)           988400    \n",
      "_________________________________________________________________\n",
      "conv1d_3 (Conv1D)            (None, 28, 64)            19264     \n",
      "_________________________________________________________________\n",
      "bidirectional_27 (Bidirectio (None, 28, 128)           66048     \n",
      "_________________________________________________________________\n",
      "bidirectional_28 (Bidirectio (None, 128)               98816     \n",
      "_________________________________________________________________\n",
      "dense_41 (Dense)             (None, 64)                8256      \n",
      "_________________________________________________________________\n",
      "dropout_19 (Dropout)         (None, 64)                0         \n",
      "_________________________________________________________________\n",
      "dense_42 (Dense)             (None, 4)                 260       \n",
      "=================================================================\n",
      "Total params: 1,181,044\n",
      "Trainable params: 192,644\n",
      "Non-trainable params: 988,400\n",
      "_________________________________________________________________\n",
      "None\n"
     ]
    }
   ],
   "source": [
    "from tensorflow.keras.layers import Dense, Embedding, GRU, LSTM, Bidirectional, Dropout, Conv1D, Attention\n",
    "from tensorflow.keras.models import Sequential\n",
    "\n",
    "embedding_layer_TL = Embedding(len(word_index) + 1,\n",
    "                            embedding_dim,\n",
    "                            weights=[E_T],\n",
    "                            input_length=max_length,\n",
    "                            trainable=False)\n",
    "\n",
    "model_cnn_bi_lstm = tf.keras.Sequential([\n",
    "      embedding_layer_TL,\n",
    "      Conv1D(filters=64, kernel_size=3, activation=\"relu\"),\n",
    "      Bidirectional(LSTM(64, dropout=0.2, recurrent_dropout=0.2, return_sequences=True)),\n",
    "      Bidirectional(LSTM(64, dropout=0.2, recurrent_dropout=0.2, return_sequences=False)),\n",
    "      Dense(64, activation='relu'),\n",
    "      Dropout(.3),\n",
    "      Dense(4, activation='softmax')\n",
    "  ])\n",
    "\n",
    "print(model_cnn_bi_lstm.summary())"
   ]
  },
  {
   "cell_type": "code",
   "execution_count": 344,
   "metadata": {
    "colab": {
     "base_uri": "https://localhost:8080/"
    },
    "executionInfo": {
     "elapsed": 367,
     "status": "ok",
     "timestamp": 1634613724896,
     "user": {
      "displayName": "Alexander Posterino",
      "photoUrl": "https://lh3.googleusercontent.com/a/default-user=s64",
      "userId": "02797547015372524958"
     },
     "user_tz": -660
    },
    "id": "V0c5-9ftG4wU",
    "outputId": "c3047269-b640-451f-992c-044beb1e63bf"
   },
   "outputs": [
    {
     "name": "stdout",
     "output_type": "stream",
     "text": [
      "Model: \"sequential_30\"\n",
      "_________________________________________________________________\n",
      "Layer (type)                 Output Shape              Param #   \n",
      "=================================================================\n",
      "embedding_39 (Embedding)     (None, 30, 100)           988400    \n",
      "_________________________________________________________________\n",
      "bidirectional_35 (Bidirectio (None, 30, 128)           84480     \n",
      "_________________________________________________________________\n",
      "conv1d_23 (Conv1D)           (None, 28, 32)            12320     \n",
      "_________________________________________________________________\n",
      "max_pooling1d_19 (MaxPooling (None, 14, 32)            0         \n",
      "_________________________________________________________________\n",
      "conv1d_24 (Conv1D)           (None, 12, 32)            3104      \n",
      "_________________________________________________________________\n",
      "max_pooling1d_20 (MaxPooling (None, 6, 32)             0         \n",
      "_________________________________________________________________\n",
      "conv1d_25 (Conv1D)           (None, 4, 64)             6208      \n",
      "_________________________________________________________________\n",
      "max_pooling1d_21 (MaxPooling (None, 2, 64)             0         \n",
      "_________________________________________________________________\n",
      "flatten_2 (Flatten)          (None, 128)               0         \n",
      "_________________________________________________________________\n",
      "dense_57 (Dense)             (None, 64)                8256      \n",
      "_________________________________________________________________\n",
      "dropout_25 (Dropout)         (None, 64)                0         \n",
      "_________________________________________________________________\n",
      "dense_58 (Dense)             (None, 4)                 260       \n",
      "=================================================================\n",
      "Total params: 1,103,028\n",
      "Trainable params: 114,628\n",
      "Non-trainable params: 988,400\n",
      "_________________________________________________________________\n",
      "None\n"
     ]
    }
   ],
   "source": [
    "from tensorflow.keras.layers import Dense, Embedding, GRU, LSTM, Bidirectional, Dropout, Conv1D, Attention, Flatten\n",
    "from tensorflow.keras.models import Sequential\n",
    "\n",
    "embedding_layer_TL = Embedding(len(word_index) + 1,\n",
    "                            embedding_dim,\n",
    "                            weights=[E_T],\n",
    "                            input_length=max_length,\n",
    "                            trainable=False)\n",
    "\n",
    "model_bi_lstm_cnn = tf.keras.Sequential([\n",
    "      embedding_layer_TL,\n",
    "      Bidirectional(LSTM(64, dropout=0.2, recurrent_dropout=0.2, return_sequences=True)),\n",
    "      Conv1D(filters=32, kernel_size=3, activation=\"relu\"),\n",
    "      MaxPool1D(2),\n",
    "      Conv1D(filters=32, kernel_size=3, activation=\"relu\"),\n",
    "      MaxPool1D(2),\n",
    "      Conv1D(filters=64, kernel_size=3, activation=\"relu\"),\n",
    "      MaxPool1D(2),\n",
    "      Flatten(),\n",
    "      Dense(64, activation='relu'),\n",
    "      Dropout(.3),\n",
    "      Dense(4, activation='softmax')\n",
    "  ])\n",
    "\n",
    "print(model_bi_lstm_cnn.summary())"
   ]
  },
  {
   "cell_type": "code",
   "execution_count": 119,
   "metadata": {
    "executionInfo": {
     "elapsed": 332,
     "status": "ok",
     "timestamp": 1634599483757,
     "user": {
      "displayName": "Alexander Posterino",
      "photoUrl": "https://lh3.googleusercontent.com/a/default-user=s64",
      "userId": "02797547015372524958"
     },
     "user_tz": -660
    },
    "id": "KFao2TuAEJUM"
   },
   "outputs": [],
   "source": [
    "import os\n",
    "checkpoint_path = \"training_1/cp_01.ckpt\"\n",
    "checkpoint_dir = os.path.dirname(checkpoint_path)\n",
    "\n",
    "# Create checkpoint callback\n",
    "cp_callback = tf.keras.callbacks.ModelCheckpoint(checkpoint_path,\n",
    "                                                 save_weights_only=True,\n",
    "                                                 verbose=1)"
   ]
  },
  {
   "cell_type": "markdown",
   "metadata": {
    "id": "o9vx0JJWXe1W"
   },
   "source": [
    "# Model Fitting"
   ]
  },
  {
   "cell_type": "code",
   "execution_count": null,
   "metadata": {
    "id": "wU59trUZ5YMo"
   },
   "outputs": [],
   "source": [
    "model_bi_lstm.compile(loss='categorical_crossentropy', \n",
    "                    optimizer='adam', \n",
    "                    metrics=[tf.losses.CategoricalCrossentropy(name='CategoricalCrossentropy'), \n",
    "                             tf.keras.metrics.AUC(name='auc'), 'accuracy'])\n",
    "\n",
    "m_histories = model_bi_lstm.fit(X_train_pad, y_train, batch_size=32, epochs=100, validation_data=(X_val_pad, y_val), callbacks=[get_callbacks('model/attempt'), cp_callback], verbose=1)"
   ]
  },
  {
   "cell_type": "markdown",
   "metadata": {
    "id": "dKI-O3OQWQH1"
   },
   "source": [
    "# Model Learning History"
   ]
  },
  {
   "cell_type": "code",
   "execution_count": null,
   "metadata": {
    "id": "odl-bOb7VoG4"
   },
   "outputs": [],
   "source": [
    "hist_df = pd.DataFrame(model_lstm.history.history) \n",
    "hist_df"
   ]
  },
  {
   "cell_type": "code",
   "execution_count": 524,
   "metadata": {
    "executionInfo": {
     "elapsed": 3,
     "status": "ok",
     "timestamp": 1634624832251,
     "user": {
      "displayName": "Alexander Posterino",
      "photoUrl": "https://lh3.googleusercontent.com/a/default-user=s64",
      "userId": "02797547015372524958"
     },
     "user_tz": -660
    },
    "id": "h4xYMG-fVrNX"
   },
   "outputs": [],
   "source": [
    "#hist_csv_file = '/content/drive/MyDrive/COSC2779/Assessment_2/model_lstm_twitter100.csv'\n",
    "with open(hist_csv_file, mode='w') as f:\n",
    "    hist_df.to_csv(f)"
   ]
  },
  {
   "cell_type": "code",
   "execution_count": 525,
   "metadata": {
    "executionInfo": {
     "elapsed": 606,
     "status": "ok",
     "timestamp": 1634624832854,
     "user": {
      "displayName": "Alexander Posterino",
      "photoUrl": "https://lh3.googleusercontent.com/a/default-user=s64",
      "userId": "02797547015372524958"
     },
     "user_tz": -660
    },
    "id": "7PGvaooUVtDa"
   },
   "outputs": [],
   "source": [
    "#model_lstm.save('/content/drive/MyDrive/COSC2779/Assessment_2/model_lstm_twitter100.h5')"
   ]
  },
  {
   "cell_type": "markdown",
   "metadata": {
    "id": "D7-Z7GvUWHRW"
   },
   "source": [
    "# Model Results"
   ]
  },
  {
   "cell_type": "code",
   "execution_count": 572,
   "metadata": {
    "executionInfo": {
     "elapsed": 674,
     "status": "ok",
     "timestamp": 1634629600309,
     "user": {
      "displayName": "Alexander Posterino",
      "photoUrl": "https://lh3.googleusercontent.com/a/default-user=s64",
      "userId": "02797547015372524958"
     },
     "user_tz": -660
    },
    "id": "bmoGmm8qe2YQ"
   },
   "outputs": [],
   "source": [
    "def plot_model(df, metric, name, specific):\n",
    "  multiplier = 1\n",
    "  if metric == \"accuracy\":\n",
    "    multiplier = 100\n",
    "  \n",
    "  plt.plot(df[metric]*multiplier, color='blue', linestyle='solid', label='Training')\n",
    "  plt.plot(df['val_' + metric]*multiplier, color='blue', linestyle='dashed', label='Validation')\n",
    "  plt.title('Model ' + metric.capitalize() + \" for \" + name + ' Models')\n",
    "  plt.xlabel('Epoch')\n",
    "  plt.grid(True)\n",
    "\n",
    "  if metric == \"accuracy\":\n",
    "    plt.ylabel('Accuracy (%)')\n",
    "  elif metric == \"CategoricalCrossentropy\":\n",
    "    plt.ylabel('Categorical Crossentropy')\n",
    "  elif metric == \"auc\":\n",
    "    plt.ylabel('AUC')\n",
    "\n",
    "def add_model(df, metric, colour):\n",
    "  multiplier = 1\n",
    "  if metric == \"accuracy\":\n",
    "    multiplier = 100\n",
    "  plt.plot(df[metric]*multiplier, color=colour, linestyle='solid', label='Train')\n",
    "  plt.plot(df['val_' + metric]*multiplier, color=colour, linestyle='dashed', label='Validation')"
   ]
  },
  {
   "cell_type": "markdown",
   "metadata": {
    "id": "5kYVbCj5Pctq"
   },
   "source": [
    "## Simple LSTM Models"
   ]
  },
  {
   "cell_type": "code",
   "execution_count": 212,
   "metadata": {
    "executionInfo": {
     "elapsed": 364,
     "status": "ok",
     "timestamp": 1634608893704,
     "user": {
      "displayName": "Alexander Posterino",
      "photoUrl": "https://lh3.googleusercontent.com/a/default-user=s64",
      "userId": "02797547015372524958"
     },
     "user_tz": -660
    },
    "id": "tESeMCPmP6Ed"
   },
   "outputs": [],
   "source": [
    "lstm_results = pd.read_csv('/content/drive/MyDrive/COSC2779/Assessment_2/model_lstm_twitter100.csv')\n",
    "lstm2_results = pd.read_csv('/content/drive/MyDrive/COSC2779/Assessment_2/model_lstm2_twitter100.csv')"
   ]
  },
  {
   "cell_type": "code",
   "execution_count": 581,
   "metadata": {
    "colab": {
     "base_uri": "https://localhost:8080/",
     "height": 312
    },
    "executionInfo": {
     "elapsed": 11,
     "status": "ok",
     "timestamp": 1634629891174,
     "user": {
      "displayName": "Alexander Posterino",
      "photoUrl": "https://lh3.googleusercontent.com/a/default-user=s64",
      "userId": "02797547015372524958"
     },
     "user_tz": -660
    },
    "id": "syiQzkZDP6Ee",
    "outputId": "38e408fd-db84-44bb-ecee-6fc93e72ea1b"
   },
   "outputs": [
    {
     "data": {
      "text/plain": [
       "<matplotlib.legend.Legend at 0x7f7cf87ccb50>"
      ]
     },
     "execution_count": 581,
     "metadata": {},
     "output_type": "execute_result"
    },
    {
     "data": {
      "image/png": "[encoded data removed]",
      "text/plain": [
       "<Figure size 432x288 with 1 Axes>"
      ]
     },
     "metadata": {
      "needs_background": "light"
     },
     "output_type": "display_data"
    }
   ],
   "source": [
    "plot_model(lstm_results, 'CategoricalCrossentropy', \"LSTM\")\n",
    "add_model(lstm2_results, 'CategoricalCrossentropy', 'red')\n",
    "plt.legend(['LSTM train', 'LSTM val', 'LSTM2 train', 'LSTM2 val'])"
   ]
  },
  {
   "cell_type": "code",
   "execution_count": 582,
   "metadata": {
    "colab": {
     "base_uri": "https://localhost:8080/",
     "height": 312
    },
    "executionInfo": {
     "elapsed": 498,
     "status": "ok",
     "timestamp": 1634629971718,
     "user": {
      "displayName": "Alexander Posterino",
      "photoUrl": "https://lh3.googleusercontent.com/a/default-user=s64",
      "userId": "02797547015372524958"
     },
     "user_tz": -660
    },
    "id": "zcUmWPlcP6Ee",
    "outputId": "ba6ae208-6f9a-42d6-d4ee-246071a7d2cf"
   },
   "outputs": [
    {
     "data": {
      "text/plain": [
       "<matplotlib.legend.Legend at 0x7f7cf87177d0>"
      ]
     },
     "execution_count": 582,
     "metadata": {},
     "output_type": "execute_result"
    },
    {
     "data": {
      "image/png": "[encoded data removed]",
      "text/plain": [
       "<Figure size 432x288 with 1 Axes>"
      ]
     },
     "metadata": {
      "needs_background": "light"
     },
     "output_type": "display_data"
    }
   ],
   "source": [
    "plot_model(lstm_results, 'auc', \"LSTM\")\n",
    "add_model(lstm2_results, 'auc', 'red')\n",
    "plt.legend(['LSTM train', 'LSTM val', 'LSTM2 train', 'LSTM2 val'])"
   ]
  },
  {
   "cell_type": "code",
   "execution_count": 579,
   "metadata": {
    "colab": {
     "base_uri": "https://localhost:8080/",
     "height": 312
    },
    "executionInfo": {
     "elapsed": 524,
     "status": "ok",
     "timestamp": 1634629870087,
     "user": {
      "displayName": "Alexander Posterino",
      "photoUrl": "https://lh3.googleusercontent.com/a/default-user=s64",
      "userId": "02797547015372524958"
     },
     "user_tz": -660
    },
    "id": "z05MODv2evWc",
    "outputId": "92cc5ca5-dd66-4011-ce9e-62468a6a7c7f"
   },
   "outputs": [
    {
     "data": {
      "text/plain": [
       "<matplotlib.legend.Legend at 0x7f7cf88b2710>"
      ]
     },
     "execution_count": 579,
     "metadata": {},
     "output_type": "execute_result"
    },
    {
     "data": {
      "image/png": "[encoded data removed]",
      "text/plain": [
       "<Figure size 432x288 with 1 Axes>"
      ]
     },
     "metadata": {
      "needs_background": "light"
     },
     "output_type": "display_data"
    }
   ],
   "source": [
    "plot_model(lstm_results, 'accuracy', \"LSTM\")\n",
    "add_model(lstm2_results, 'accuracy', 'red')\n",
    "plt.legend(['LSTM train', 'LSTM val', 'LSTM2 train', 'LSTM2 val'])"
   ]
  },
  {
   "cell_type": "code",
   "execution_count": 216,
   "metadata": {
    "colab": {
     "base_uri": "https://localhost:8080/",
     "height": 723
    },
    "executionInfo": {
     "elapsed": 3,
     "status": "ok",
     "timestamp": 1634608896344,
     "user": {
      "displayName": "Alexander Posterino",
      "photoUrl": "https://lh3.googleusercontent.com/a/default-user=s64",
      "userId": "02797547015372524958"
     },
     "user_tz": -660
    },
    "id": "EBloLoXMP6Ee",
    "outputId": "2ebe236f-2950-4aac-8c63-b7c74b9fd05f"
   },
   "outputs": [
    {
     "data": {
      "text/html": [
       "<div>\n",
       "<style scoped>\n",
       "    .dataframe tbody tr th:only-of-type {\n",
       "        vertical-align: middle;\n",
       "    }\n",
       "\n",
       "    .dataframe tbody tr th {\n",
       "        vertical-align: top;\n",
       "    }\n",
       "\n",
       "    .dataframe thead th {\n",
       "        text-align: right;\n",
       "    }\n",
       "</style>\n",
       "<table border=\"1\" class=\"dataframe\">\n",
       "  <thead>\n",
       "    <tr style=\"text-align: right;\">\n",
       "      <th></th>\n",
       "      <th>CategoricalCrossentropy</th>\n",
       "      <th>auc</th>\n",
       "      <th>accuracy</th>\n",
       "      <th>val_CategoricalCrossentropy</th>\n",
       "      <th>val_auc</th>\n",
       "      <th>val_accuracy</th>\n",
       "    </tr>\n",
       "  </thead>\n",
       "  <tbody>\n",
       "    <tr>\n",
       "      <th>0</th>\n",
       "      <td>0.925294</td>\n",
       "      <td>0.821648</td>\n",
       "      <td>0.712572</td>\n",
       "      <td>0.986959</td>\n",
       "      <td>0.805411</td>\n",
       "      <td>0.6928</td>\n",
       "    </tr>\n",
       "    <tr>\n",
       "      <th>1</th>\n",
       "      <td>0.902492</td>\n",
       "      <td>0.826969</td>\n",
       "      <td>0.716370</td>\n",
       "      <td>0.955122</td>\n",
       "      <td>0.815485</td>\n",
       "      <td>0.6928</td>\n",
       "    </tr>\n",
       "    <tr>\n",
       "      <th>2</th>\n",
       "      <td>0.902526</td>\n",
       "      <td>0.826525</td>\n",
       "      <td>0.716370</td>\n",
       "      <td>0.972428</td>\n",
       "      <td>0.803987</td>\n",
       "      <td>0.6928</td>\n",
       "    </tr>\n",
       "    <tr>\n",
       "      <th>3</th>\n",
       "      <td>0.892317</td>\n",
       "      <td>0.829607</td>\n",
       "      <td>0.715970</td>\n",
       "      <td>0.924746</td>\n",
       "      <td>0.813717</td>\n",
       "      <td>0.6928</td>\n",
       "    </tr>\n",
       "    <tr>\n",
       "      <th>4</th>\n",
       "      <td>0.872984</td>\n",
       "      <td>0.837493</td>\n",
       "      <td>0.716770</td>\n",
       "      <td>0.935178</td>\n",
       "      <td>0.821401</td>\n",
       "      <td>0.6912</td>\n",
       "    </tr>\n",
       "    <tr>\n",
       "      <th>5</th>\n",
       "      <td>0.872508</td>\n",
       "      <td>0.841439</td>\n",
       "      <td>0.715771</td>\n",
       "      <td>0.919130</td>\n",
       "      <td>0.830971</td>\n",
       "      <td>0.6928</td>\n",
       "    </tr>\n",
       "    <tr>\n",
       "      <th>6</th>\n",
       "      <td>0.866489</td>\n",
       "      <td>0.847589</td>\n",
       "      <td>0.715571</td>\n",
       "      <td>0.930527</td>\n",
       "      <td>0.831885</td>\n",
       "      <td>0.6944</td>\n",
       "    </tr>\n",
       "    <tr>\n",
       "      <th>7</th>\n",
       "      <td>0.862219</td>\n",
       "      <td>0.852089</td>\n",
       "      <td>0.720368</td>\n",
       "      <td>0.898126</td>\n",
       "      <td>0.852229</td>\n",
       "      <td>0.6944</td>\n",
       "    </tr>\n",
       "    <tr>\n",
       "      <th>8</th>\n",
       "      <td>0.850248</td>\n",
       "      <td>0.857962</td>\n",
       "      <td>0.716570</td>\n",
       "      <td>0.909292</td>\n",
       "      <td>0.844659</td>\n",
       "      <td>0.6960</td>\n",
       "    </tr>\n",
       "    <tr>\n",
       "      <th>9</th>\n",
       "      <td>0.836467</td>\n",
       "      <td>0.866518</td>\n",
       "      <td>0.722167</td>\n",
       "      <td>0.885254</td>\n",
       "      <td>0.859374</td>\n",
       "      <td>0.6896</td>\n",
       "    </tr>\n",
       "    <tr>\n",
       "      <th>10</th>\n",
       "      <td>0.824134</td>\n",
       "      <td>0.873644</td>\n",
       "      <td>0.722367</td>\n",
       "      <td>0.903468</td>\n",
       "      <td>0.855952</td>\n",
       "      <td>0.6864</td>\n",
       "    </tr>\n",
       "    <tr>\n",
       "      <th>11</th>\n",
       "      <td>0.812404</td>\n",
       "      <td>0.876815</td>\n",
       "      <td>0.732960</td>\n",
       "      <td>0.893263</td>\n",
       "      <td>0.855249</td>\n",
       "      <td>0.6912</td>\n",
       "    </tr>\n",
       "    <tr>\n",
       "      <th>12</th>\n",
       "      <td>0.801560</td>\n",
       "      <td>0.882138</td>\n",
       "      <td>0.732161</td>\n",
       "      <td>0.873374</td>\n",
       "      <td>0.865331</td>\n",
       "      <td>0.6912</td>\n",
       "    </tr>\n",
       "    <tr>\n",
       "      <th>13</th>\n",
       "      <td>0.785819</td>\n",
       "      <td>0.887225</td>\n",
       "      <td>0.736558</td>\n",
       "      <td>0.880482</td>\n",
       "      <td>0.862760</td>\n",
       "      <td>0.6880</td>\n",
       "    </tr>\n",
       "    <tr>\n",
       "      <th>14</th>\n",
       "      <td>0.778809</td>\n",
       "      <td>0.889261</td>\n",
       "      <td>0.739756</td>\n",
       "      <td>0.878129</td>\n",
       "      <td>0.863805</td>\n",
       "      <td>0.6800</td>\n",
       "    </tr>\n",
       "    <tr>\n",
       "      <th>15</th>\n",
       "      <td>0.760865</td>\n",
       "      <td>0.895859</td>\n",
       "      <td>0.737957</td>\n",
       "      <td>0.897043</td>\n",
       "      <td>0.858953</td>\n",
       "      <td>0.6928</td>\n",
       "    </tr>\n",
       "    <tr>\n",
       "      <th>16</th>\n",
       "      <td>0.749432</td>\n",
       "      <td>0.898657</td>\n",
       "      <td>0.743554</td>\n",
       "      <td>0.893029</td>\n",
       "      <td>0.855899</td>\n",
       "      <td>0.6864</td>\n",
       "    </tr>\n",
       "    <tr>\n",
       "      <th>17</th>\n",
       "      <td>0.734925</td>\n",
       "      <td>0.900823</td>\n",
       "      <td>0.752948</td>\n",
       "      <td>0.896095</td>\n",
       "      <td>0.858852</td>\n",
       "      <td>0.6816</td>\n",
       "    </tr>\n",
       "    <tr>\n",
       "      <th>18</th>\n",
       "      <td>0.722535</td>\n",
       "      <td>0.906440</td>\n",
       "      <td>0.747352</td>\n",
       "      <td>0.888916</td>\n",
       "      <td>0.862606</td>\n",
       "      <td>0.6912</td>\n",
       "    </tr>\n",
       "    <tr>\n",
       "      <th>19</th>\n",
       "      <td>0.707308</td>\n",
       "      <td>0.910617</td>\n",
       "      <td>0.759744</td>\n",
       "      <td>0.887881</td>\n",
       "      <td>0.859831</td>\n",
       "      <td>0.6912</td>\n",
       "    </tr>\n",
       "    <tr>\n",
       "      <th>20</th>\n",
       "      <td>0.690617</td>\n",
       "      <td>0.914743</td>\n",
       "      <td>0.761143</td>\n",
       "      <td>0.931338</td>\n",
       "      <td>0.855849</td>\n",
       "      <td>0.6592</td>\n",
       "    </tr>\n",
       "    <tr>\n",
       "      <th>21</th>\n",
       "      <td>0.686900</td>\n",
       "      <td>0.916034</td>\n",
       "      <td>0.762343</td>\n",
       "      <td>0.912175</td>\n",
       "      <td>0.855757</td>\n",
       "      <td>0.6672</td>\n",
       "    </tr>\n",
       "  </tbody>\n",
       "</table>\n",
       "</div>"
      ],
      "text/plain": [
       "    CategoricalCrossentropy       auc  ...   val_auc  val_accuracy\n",
       "0                  0.925294  0.821648  ...  0.805411        0.6928\n",
       "1                  0.902492  0.826969  ...  0.815485        0.6928\n",
       "2                  0.902526  0.826525  ...  0.803987        0.6928\n",
       "3                  0.892317  0.829607  ...  0.813717        0.6928\n",
       "4                  0.872984  0.837493  ...  0.821401        0.6912\n",
       "5                  0.872508  0.841439  ...  0.830971        0.6928\n",
       "6                  0.866489  0.847589  ...  0.831885        0.6944\n",
       "7                  0.862219  0.852089  ...  0.852229        0.6944\n",
       "8                  0.850248  0.857962  ...  0.844659        0.6960\n",
       "9                  0.836467  0.866518  ...  0.859374        0.6896\n",
       "10                 0.824134  0.873644  ...  0.855952        0.6864\n",
       "11                 0.812404  0.876815  ...  0.855249        0.6912\n",
       "12                 0.801560  0.882138  ...  0.865331        0.6912\n",
       "13                 0.785819  0.887225  ...  0.862760        0.6880\n",
       "14                 0.778809  0.889261  ...  0.863805        0.6800\n",
       "15                 0.760865  0.895859  ...  0.858953        0.6928\n",
       "16                 0.749432  0.898657  ...  0.855899        0.6864\n",
       "17                 0.734925  0.900823  ...  0.858852        0.6816\n",
       "18                 0.722535  0.906440  ...  0.862606        0.6912\n",
       "19                 0.707308  0.910617  ...  0.859831        0.6912\n",
       "20                 0.690617  0.914743  ...  0.855849        0.6592\n",
       "21                 0.686900  0.916034  ...  0.855757        0.6672\n",
       "\n",
       "[22 rows x 6 columns]"
      ]
     },
     "execution_count": 216,
     "metadata": {},
     "output_type": "execute_result"
    }
   ],
   "source": [
    "lstm_results[['CategoricalCrossentropy', 'auc', 'accuracy', 'val_CategoricalCrossentropy', 'val_auc', 'val_accuracy']]"
   ]
  },
  {
   "cell_type": "code",
   "execution_count": 530,
   "metadata": {
    "colab": {
     "base_uri": "https://localhost:8080/",
     "height": 447
    },
    "executionInfo": {
     "elapsed": 5,
     "status": "ok",
     "timestamp": 1634624843080,
     "user": {
      "displayName": "Alexander Posterino",
      "photoUrl": "https://lh3.googleusercontent.com/a/default-user=s64",
      "userId": "02797547015372524958"
     },
     "user_tz": -660
    },
    "id": "CE7QTTK0NAMu",
    "outputId": "19da2988-21f9-4f9a-dc64-f19a5ec3b003"
   },
   "outputs": [
    {
     "data": {
      "text/html": [
       "<div>\n",
       "<style scoped>\n",
       "    .dataframe tbody tr th:only-of-type {\n",
       "        vertical-align: middle;\n",
       "    }\n",
       "\n",
       "    .dataframe tbody tr th {\n",
       "        vertical-align: top;\n",
       "    }\n",
       "\n",
       "    .dataframe thead th {\n",
       "        text-align: right;\n",
       "    }\n",
       "</style>\n",
       "<table border=\"1\" class=\"dataframe\">\n",
       "  <thead>\n",
       "    <tr style=\"text-align: right;\">\n",
       "      <th></th>\n",
       "      <th>CategoricalCrossentropy</th>\n",
       "      <th>auc</th>\n",
       "      <th>accuracy</th>\n",
       "      <th>val_CategoricalCrossentropy</th>\n",
       "      <th>val_auc</th>\n",
       "      <th>val_accuracy</th>\n",
       "    </tr>\n",
       "  </thead>\n",
       "  <tbody>\n",
       "    <tr>\n",
       "      <th>0</th>\n",
       "      <td>0.911067</td>\n",
       "      <td>0.829365</td>\n",
       "      <td>0.712572</td>\n",
       "      <td>0.959916</td>\n",
       "      <td>0.820284</td>\n",
       "      <td>0.6928</td>\n",
       "    </tr>\n",
       "    <tr>\n",
       "      <th>1</th>\n",
       "      <td>0.882921</td>\n",
       "      <td>0.834439</td>\n",
       "      <td>0.717969</td>\n",
       "      <td>0.925999</td>\n",
       "      <td>0.823481</td>\n",
       "      <td>0.6992</td>\n",
       "    </tr>\n",
       "    <tr>\n",
       "      <th>2</th>\n",
       "      <td>0.866309</td>\n",
       "      <td>0.852898</td>\n",
       "      <td>0.720168</td>\n",
       "      <td>0.896820</td>\n",
       "      <td>0.849544</td>\n",
       "      <td>0.6928</td>\n",
       "    </tr>\n",
       "    <tr>\n",
       "      <th>3</th>\n",
       "      <td>0.848992</td>\n",
       "      <td>0.862675</td>\n",
       "      <td>0.721367</td>\n",
       "      <td>0.924796</td>\n",
       "      <td>0.848432</td>\n",
       "      <td>0.6912</td>\n",
       "    </tr>\n",
       "    <tr>\n",
       "      <th>4</th>\n",
       "      <td>0.836790</td>\n",
       "      <td>0.870550</td>\n",
       "      <td>0.721767</td>\n",
       "      <td>0.883064</td>\n",
       "      <td>0.856761</td>\n",
       "      <td>0.6928</td>\n",
       "    </tr>\n",
       "    <tr>\n",
       "      <th>5</th>\n",
       "      <td>0.826800</td>\n",
       "      <td>0.874081</td>\n",
       "      <td>0.725365</td>\n",
       "      <td>0.892294</td>\n",
       "      <td>0.855718</td>\n",
       "      <td>0.6944</td>\n",
       "    </tr>\n",
       "    <tr>\n",
       "      <th>6</th>\n",
       "      <td>0.810703</td>\n",
       "      <td>0.880965</td>\n",
       "      <td>0.727763</td>\n",
       "      <td>0.886173</td>\n",
       "      <td>0.856943</td>\n",
       "      <td>0.6880</td>\n",
       "    </tr>\n",
       "    <tr>\n",
       "      <th>7</th>\n",
       "      <td>0.797619</td>\n",
       "      <td>0.883108</td>\n",
       "      <td>0.734759</td>\n",
       "      <td>0.863519</td>\n",
       "      <td>0.868181</td>\n",
       "      <td>0.6928</td>\n",
       "    </tr>\n",
       "    <tr>\n",
       "      <th>8</th>\n",
       "      <td>0.778672</td>\n",
       "      <td>0.889724</td>\n",
       "      <td>0.736558</td>\n",
       "      <td>0.913407</td>\n",
       "      <td>0.861842</td>\n",
       "      <td>0.6864</td>\n",
       "    </tr>\n",
       "    <tr>\n",
       "      <th>9</th>\n",
       "      <td>0.768259</td>\n",
       "      <td>0.892953</td>\n",
       "      <td>0.738157</td>\n",
       "      <td>0.918843</td>\n",
       "      <td>0.861359</td>\n",
       "      <td>0.6928</td>\n",
       "    </tr>\n",
       "    <tr>\n",
       "      <th>10</th>\n",
       "      <td>0.760260</td>\n",
       "      <td>0.895549</td>\n",
       "      <td>0.739956</td>\n",
       "      <td>0.979651</td>\n",
       "      <td>0.833810</td>\n",
       "      <td>0.5936</td>\n",
       "    </tr>\n",
       "    <tr>\n",
       "      <th>11</th>\n",
       "      <td>0.741767</td>\n",
       "      <td>0.900796</td>\n",
       "      <td>0.748751</td>\n",
       "      <td>0.899415</td>\n",
       "      <td>0.861172</td>\n",
       "      <td>0.6736</td>\n",
       "    </tr>\n",
       "    <tr>\n",
       "      <th>12</th>\n",
       "      <td>0.726771</td>\n",
       "      <td>0.905645</td>\n",
       "      <td>0.752548</td>\n",
       "      <td>0.984909</td>\n",
       "      <td>0.837842</td>\n",
       "      <td>0.6400</td>\n",
       "    </tr>\n",
       "  </tbody>\n",
       "</table>\n",
       "</div>"
      ],
      "text/plain": [
       "    CategoricalCrossentropy       auc  ...   val_auc  val_accuracy\n",
       "0                  0.911067  0.829365  ...  0.820284        0.6928\n",
       "1                  0.882921  0.834439  ...  0.823481        0.6992\n",
       "2                  0.866309  0.852898  ...  0.849544        0.6928\n",
       "3                  0.848992  0.862675  ...  0.848432        0.6912\n",
       "4                  0.836790  0.870550  ...  0.856761        0.6928\n",
       "5                  0.826800  0.874081  ...  0.855718        0.6944\n",
       "6                  0.810703  0.880965  ...  0.856943        0.6880\n",
       "7                  0.797619  0.883108  ...  0.868181        0.6928\n",
       "8                  0.778672  0.889724  ...  0.861842        0.6864\n",
       "9                  0.768259  0.892953  ...  0.861359        0.6928\n",
       "10                 0.760260  0.895549  ...  0.833810        0.5936\n",
       "11                 0.741767  0.900796  ...  0.861172        0.6736\n",
       "12                 0.726771  0.905645  ...  0.837842        0.6400\n",
       "\n",
       "[13 rows x 6 columns]"
      ]
     },
     "execution_count": 530,
     "metadata": {},
     "output_type": "execute_result"
    }
   ],
   "source": [
    "lstm2_results[['CategoricalCrossentropy', 'auc', 'accuracy', 'val_CategoricalCrossentropy', 'val_auc', 'val_accuracy']]"
   ]
  },
  {
   "cell_type": "markdown",
   "metadata": {
    "id": "lsECK-FLVwyL"
   },
   "source": [
    "## Simple GRU Model"
   ]
  },
  {
   "cell_type": "code",
   "execution_count": 222,
   "metadata": {
    "executionInfo": {
     "elapsed": 592,
     "status": "ok",
     "timestamp": 1634609277119,
     "user": {
      "displayName": "Alexander Posterino",
      "photoUrl": "https://lh3.googleusercontent.com/a/default-user=s64",
      "userId": "02797547015372524958"
     },
     "user_tz": -660
    },
    "id": "hNkDo8NQVt0X"
   },
   "outputs": [],
   "source": [
    "gru_results = pd.read_csv('/content/drive/MyDrive/COSC2779/Assessment_2/model_gru_twitter100.csv')"
   ]
  },
  {
   "cell_type": "code",
   "execution_count": 587,
   "metadata": {
    "colab": {
     "base_uri": "https://localhost:8080/",
     "height": 312
    },
    "executionInfo": {
     "elapsed": 19,
     "status": "ok",
     "timestamp": 1634630291507,
     "user": {
      "displayName": "Alexander Posterino",
      "photoUrl": "https://lh3.googleusercontent.com/a/default-user=s64",
      "userId": "02797547015372524958"
     },
     "user_tz": -660
    },
    "id": "2aZW7BFNVt0Y",
    "outputId": "cae89079-02bb-4952-a671-5b11f50ef660"
   },
   "outputs": [
    {
     "data": {
      "text/plain": [
       "<matplotlib.legend.Legend at 0x7f7cf84e5110>"
      ]
     },
     "execution_count": 587,
     "metadata": {},
     "output_type": "execute_result"
    },
    {
     "data": {
      "image/png": "[encoded data removed]",
      "text/plain": [
       "<Figure size 432x288 with 1 Axes>"
      ]
     },
     "metadata": {
      "needs_background": "light"
     },
     "output_type": "display_data"
    }
   ],
   "source": [
    "plot_model(gru_results, 'CategoricalCrossentropy', \"GRU\")\n",
    "plt.legend(['GRU train', 'GRU val'])"
   ]
  },
  {
   "cell_type": "code",
   "execution_count": 588,
   "metadata": {
    "colab": {
     "base_uri": "https://localhost:8080/",
     "height": 312
    },
    "executionInfo": {
     "elapsed": 12,
     "status": "ok",
     "timestamp": 1634630291508,
     "user": {
      "displayName": "Alexander Posterino",
      "photoUrl": "https://lh3.googleusercontent.com/a/default-user=s64",
      "userId": "02797547015372524958"
     },
     "user_tz": -660
    },
    "id": "ezsoSv5TVt0Y",
    "outputId": "1a7b5989-e36d-4cd4-c96b-bc9668a3e2b0"
   },
   "outputs": [
    {
     "data": {
      "text/plain": [
       "<matplotlib.legend.Legend at 0x7f7cf8447290>"
      ]
     },
     "execution_count": 588,
     "metadata": {},
     "output_type": "execute_result"
    },
    {
     "data": {
      "image/png": "[encoded data removed]",
      "text/plain": [
       "<Figure size 432x288 with 1 Axes>"
      ]
     },
     "metadata": {
      "needs_background": "light"
     },
     "output_type": "display_data"
    }
   ],
   "source": [
    "plot_model(gru_results, 'auc', \"GRU\")\n",
    "plt.legend(['GRU train', 'GRU val'])"
   ]
  },
  {
   "cell_type": "code",
   "execution_count": 586,
   "metadata": {
    "colab": {
     "base_uri": "https://localhost:8080/",
     "height": 312
    },
    "executionInfo": {
     "elapsed": 757,
     "status": "ok",
     "timestamp": 1634630289775,
     "user": {
      "displayName": "Alexander Posterino",
      "photoUrl": "https://lh3.googleusercontent.com/a/default-user=s64",
      "userId": "02797547015372524958"
     },
     "user_tz": -660
    },
    "id": "20zWC0yVVt0X",
    "outputId": "bcff1f81-1a63-42e9-e7a6-e2b446ff6566"
   },
   "outputs": [
    {
     "data": {
      "text/plain": [
       "<matplotlib.legend.Legend at 0x7f7cf85338d0>"
      ]
     },
     "execution_count": 586,
     "metadata": {},
     "output_type": "execute_result"
    },
    {
     "data": {
      "image/png": "[encoded data removed]",
      "text/plain": [
       "<Figure size 432x288 with 1 Axes>"
      ]
     },
     "metadata": {
      "needs_background": "light"
     },
     "output_type": "display_data"
    }
   ],
   "source": [
    "plot_model(gru_results, 'accuracy', \"GRU\")\n",
    "plt.legend(['GRU train', 'GRU val'])"
   ]
  },
  {
   "cell_type": "code",
   "execution_count": 226,
   "metadata": {
    "colab": {
     "base_uri": "https://localhost:8080/",
     "height": 324
    },
    "executionInfo": {
     "elapsed": 4,
     "status": "ok",
     "timestamp": 1634609284574,
     "user": {
      "displayName": "Alexander Posterino",
      "photoUrl": "https://lh3.googleusercontent.com/a/default-user=s64",
      "userId": "02797547015372524958"
     },
     "user_tz": -660
    },
    "id": "9wt8bdWWVt0Y",
    "outputId": "dfaae2ee-bdff-4050-c65d-54157ca81f31"
   },
   "outputs": [
    {
     "data": {
      "text/html": [
       "<div>\n",
       "<style scoped>\n",
       "    .dataframe tbody tr th:only-of-type {\n",
       "        vertical-align: middle;\n",
       "    }\n",
       "\n",
       "    .dataframe tbody tr th {\n",
       "        vertical-align: top;\n",
       "    }\n",
       "\n",
       "    .dataframe thead th {\n",
       "        text-align: right;\n",
       "    }\n",
       "</style>\n",
       "<table border=\"1\" class=\"dataframe\">\n",
       "  <thead>\n",
       "    <tr style=\"text-align: right;\">\n",
       "      <th></th>\n",
       "      <th>CategoricalCrossentropy</th>\n",
       "      <th>auc</th>\n",
       "      <th>accuracy</th>\n",
       "      <th>val_CategoricalCrossentropy</th>\n",
       "      <th>val_auc</th>\n",
       "      <th>val_accuracy</th>\n",
       "    </tr>\n",
       "  </thead>\n",
       "  <tbody>\n",
       "    <tr>\n",
       "      <th>0</th>\n",
       "      <td>0.936933</td>\n",
       "      <td>0.821502</td>\n",
       "      <td>0.711173</td>\n",
       "      <td>0.967707</td>\n",
       "      <td>0.797188</td>\n",
       "      <td>0.6928</td>\n",
       "    </tr>\n",
       "    <tr>\n",
       "      <th>1</th>\n",
       "      <td>0.902602</td>\n",
       "      <td>0.829897</td>\n",
       "      <td>0.715171</td>\n",
       "      <td>0.939506</td>\n",
       "      <td>0.825993</td>\n",
       "      <td>0.6928</td>\n",
       "    </tr>\n",
       "    <tr>\n",
       "      <th>2</th>\n",
       "      <td>0.882328</td>\n",
       "      <td>0.841640</td>\n",
       "      <td>0.714571</td>\n",
       "      <td>0.931790</td>\n",
       "      <td>0.826277</td>\n",
       "      <td>0.6928</td>\n",
       "    </tr>\n",
       "    <tr>\n",
       "      <th>3</th>\n",
       "      <td>0.869856</td>\n",
       "      <td>0.850400</td>\n",
       "      <td>0.715970</td>\n",
       "      <td>0.916041</td>\n",
       "      <td>0.836515</td>\n",
       "      <td>0.6848</td>\n",
       "    </tr>\n",
       "    <tr>\n",
       "      <th>4</th>\n",
       "      <td>0.857337</td>\n",
       "      <td>0.857756</td>\n",
       "      <td>0.718169</td>\n",
       "      <td>0.915793</td>\n",
       "      <td>0.842688</td>\n",
       "      <td>0.6816</td>\n",
       "    </tr>\n",
       "    <tr>\n",
       "      <th>5</th>\n",
       "      <td>0.843608</td>\n",
       "      <td>0.865603</td>\n",
       "      <td>0.721367</td>\n",
       "      <td>0.927465</td>\n",
       "      <td>0.839697</td>\n",
       "      <td>0.6880</td>\n",
       "    </tr>\n",
       "    <tr>\n",
       "      <th>6</th>\n",
       "      <td>0.829423</td>\n",
       "      <td>0.872675</td>\n",
       "      <td>0.722566</td>\n",
       "      <td>0.948903</td>\n",
       "      <td>0.844516</td>\n",
       "      <td>0.6896</td>\n",
       "    </tr>\n",
       "    <tr>\n",
       "      <th>7</th>\n",
       "      <td>0.811955</td>\n",
       "      <td>0.878968</td>\n",
       "      <td>0.728763</td>\n",
       "      <td>0.965555</td>\n",
       "      <td>0.837970</td>\n",
       "      <td>0.6880</td>\n",
       "    </tr>\n",
       "    <tr>\n",
       "      <th>8</th>\n",
       "      <td>0.803563</td>\n",
       "      <td>0.881732</td>\n",
       "      <td>0.731761</td>\n",
       "      <td>0.936352</td>\n",
       "      <td>0.845972</td>\n",
       "      <td>0.6848</td>\n",
       "    </tr>\n",
       "  </tbody>\n",
       "</table>\n",
       "</div>"
      ],
      "text/plain": [
       "   CategoricalCrossentropy       auc  ...   val_auc  val_accuracy\n",
       "0                 0.936933  0.821502  ...  0.797188        0.6928\n",
       "1                 0.902602  0.829897  ...  0.825993        0.6928\n",
       "2                 0.882328  0.841640  ...  0.826277        0.6928\n",
       "3                 0.869856  0.850400  ...  0.836515        0.6848\n",
       "4                 0.857337  0.857756  ...  0.842688        0.6816\n",
       "5                 0.843608  0.865603  ...  0.839697        0.6880\n",
       "6                 0.829423  0.872675  ...  0.844516        0.6896\n",
       "7                 0.811955  0.878968  ...  0.837970        0.6880\n",
       "8                 0.803563  0.881732  ...  0.845972        0.6848\n",
       "\n",
       "[9 rows x 6 columns]"
      ]
     },
     "execution_count": 226,
     "metadata": {},
     "output_type": "execute_result"
    }
   ],
   "source": [
    "gru_results[['CategoricalCrossentropy', 'auc', 'accuracy', 'val_CategoricalCrossentropy', 'val_auc', 'val_accuracy']]"
   ]
  },
  {
   "cell_type": "markdown",
   "metadata": {
    "id": "DaJtE2lQQOke"
   },
   "source": [
    "## Bidirectional LSTM"
   ]
  },
  {
   "cell_type": "code",
   "execution_count": 594,
   "metadata": {
    "executionInfo": {
     "elapsed": 518,
     "status": "ok",
     "timestamp": 1634630858751,
     "user": {
      "displayName": "Alexander Posterino",
      "photoUrl": "https://lh3.googleusercontent.com/a/default-user=s64",
      "userId": "02797547015372524958"
     },
     "user_tz": -660
    },
    "id": "43BK7d8VQMt1"
   },
   "outputs": [],
   "source": [
    "lstm_bi_results = pd.read_csv('/content/drive/MyDrive/COSC2779/Assessment_2/model_bi_lstm_twitter100.csv')\n",
    "lstm_bi2_results = pd.read_csv('/content/drive/MyDrive/COSC2779/Assessment_2/model_bi_lstm2_twitter100.csv')"
   ]
  },
  {
   "cell_type": "code",
   "execution_count": 685,
   "metadata": {
    "colab": {
     "base_uri": "https://localhost:8080/",
     "height": 312
    },
    "executionInfo": {
     "elapsed": 696,
     "status": "ok",
     "timestamp": 1634634269189,
     "user": {
      "displayName": "Alexander Posterino",
      "photoUrl": "https://lh3.googleusercontent.com/a/default-user=s64",
      "userId": "02797547015372524958"
     },
     "user_tz": -660
    },
    "id": "oXyatmbuQMt6",
    "outputId": "ca4b840b-98ab-413e-b162-284008c67c7d"
   },
   "outputs": [
    {
     "data": {
      "text/plain": [
       "<matplotlib.legend.Legend at 0x7f7d30a57450>"
      ]
     },
     "execution_count": 685,
     "metadata": {},
     "output_type": "execute_result"
    },
    {
     "data": {
      "image/png": "[encoded data removed]",
      "text/plain": [
       "<Figure size 432x288 with 1 Axes>"
      ]
     },
     "metadata": {
      "needs_background": "light"
     },
     "output_type": "display_data"
    }
   ],
   "source": [
    "plot_model(lstm_bi_results, 'CategoricalCrossentropy', \"B-LSTM\")\n",
    "add_model(lstm_bi2_results, 'CategoricalCrossentropy', 'red')\n",
    "plt.legend(['B-LSTM train', 'B-LSTM val', 'B-LSTM2 train', 'B-LSTM2 val'])"
   ]
  },
  {
   "cell_type": "code",
   "execution_count": 686,
   "metadata": {
    "colab": {
     "base_uri": "https://localhost:8080/",
     "height": 312
    },
    "executionInfo": {
     "elapsed": 808,
     "status": "ok",
     "timestamp": 1634634269987,
     "user": {
      "displayName": "Alexander Posterino",
      "photoUrl": "https://lh3.googleusercontent.com/a/default-user=s64",
      "userId": "02797547015372524958"
     },
     "user_tz": -660
    },
    "id": "MVLJhGZZQMt6",
    "outputId": "78c367e0-e7b5-4c47-8816-e21c5d1a96f5"
   },
   "outputs": [
    {
     "data": {
      "text/plain": [
       "<matplotlib.legend.Legend at 0x7f7d309d3990>"
      ]
     },
     "execution_count": 686,
     "metadata": {},
     "output_type": "execute_result"
    },
    {
     "data": {
      "image/png": "[encoded data removed]",
      "text/plain": [
       "<Figure size 432x288 with 1 Axes>"
      ]
     },
     "metadata": {
      "needs_background": "light"
     },
     "output_type": "display_data"
    }
   ],
   "source": [
    "plot_model(lstm_bi_results, 'auc', \"B-LSTM\")\n",
    "add_model(lstm_bi2_results, 'auc', 'red')\n",
    "plt.legend(['B-LSTM train', 'B-LSTM val', 'B-LSTM2 train', 'B-LSTM2 val'])"
   ]
  },
  {
   "cell_type": "code",
   "execution_count": 687,
   "metadata": {
    "colab": {
     "base_uri": "https://localhost:8080/",
     "height": 312
    },
    "executionInfo": {
     "elapsed": 12,
     "status": "ok",
     "timestamp": 1634634269988,
     "user": {
      "displayName": "Alexander Posterino",
      "photoUrl": "https://lh3.googleusercontent.com/a/default-user=s64",
      "userId": "02797547015372524958"
     },
     "user_tz": -660
    },
    "id": "TB9FhYRpQMt6",
    "outputId": "253dbf10-cf5d-479a-b05e-834dec13c641"
   },
   "outputs": [
    {
     "data": {
      "text/plain": [
       "<matplotlib.legend.Legend at 0x7f7d30877fd0>"
      ]
     },
     "execution_count": 687,
     "metadata": {},
     "output_type": "execute_result"
    },
    {
     "data": {
      "image/png": "[encoded data removed]",
      "text/plain": [
       "<Figure size 432x288 with 1 Axes>"
      ]
     },
     "metadata": {
      "needs_background": "light"
     },
     "output_type": "display_data"
    }
   ],
   "source": [
    "plot_model(lstm_bi_results, 'accuracy', \"B-LSTM\")\n",
    "add_model(lstm_bi2_results, 'accuracy', 'red')\n",
    "plt.legend(['B-LSTM train', 'B-LSTM val', 'B-LSTM2 train', 'B-LSTM2 val'])"
   ]
  },
  {
   "cell_type": "code",
   "execution_count": 240,
   "metadata": {
    "colab": {
     "base_uri": "https://localhost:8080/",
     "height": 355
    },
    "executionInfo": {
     "elapsed": 5,
     "status": "ok",
     "timestamp": 1634610098660,
     "user": {
      "displayName": "Alexander Posterino",
      "photoUrl": "https://lh3.googleusercontent.com/a/default-user=s64",
      "userId": "02797547015372524958"
     },
     "user_tz": -660
    },
    "id": "sVJfFSTVQMt7",
    "outputId": "1ed51885-0324-43bf-f2c4-9e2e453bf1f7"
   },
   "outputs": [
    {
     "data": {
      "text/html": [
       "<div>\n",
       "<style scoped>\n",
       "    .dataframe tbody tr th:only-of-type {\n",
       "        vertical-align: middle;\n",
       "    }\n",
       "\n",
       "    .dataframe tbody tr th {\n",
       "        vertical-align: top;\n",
       "    }\n",
       "\n",
       "    .dataframe thead th {\n",
       "        text-align: right;\n",
       "    }\n",
       "</style>\n",
       "<table border=\"1\" class=\"dataframe\">\n",
       "  <thead>\n",
       "    <tr style=\"text-align: right;\">\n",
       "      <th></th>\n",
       "      <th>CategoricalCrossentropy</th>\n",
       "      <th>auc</th>\n",
       "      <th>accuracy</th>\n",
       "      <th>val_CategoricalCrossentropy</th>\n",
       "      <th>val_auc</th>\n",
       "      <th>val_accuracy</th>\n",
       "    </tr>\n",
       "  </thead>\n",
       "  <tbody>\n",
       "    <tr>\n",
       "      <th>0</th>\n",
       "      <td>0.963492</td>\n",
       "      <td>0.818425</td>\n",
       "      <td>0.706576</td>\n",
       "      <td>0.914952</td>\n",
       "      <td>0.840000</td>\n",
       "      <td>0.6928</td>\n",
       "    </tr>\n",
       "    <tr>\n",
       "      <th>1</th>\n",
       "      <td>0.892828</td>\n",
       "      <td>0.846379</td>\n",
       "      <td>0.715371</td>\n",
       "      <td>0.893170</td>\n",
       "      <td>0.852112</td>\n",
       "      <td>0.6992</td>\n",
       "    </tr>\n",
       "    <tr>\n",
       "      <th>2</th>\n",
       "      <td>0.858840</td>\n",
       "      <td>0.863327</td>\n",
       "      <td>0.717769</td>\n",
       "      <td>0.880787</td>\n",
       "      <td>0.858351</td>\n",
       "      <td>0.6992</td>\n",
       "    </tr>\n",
       "    <tr>\n",
       "      <th>3</th>\n",
       "      <td>0.843062</td>\n",
       "      <td>0.871122</td>\n",
       "      <td>0.722367</td>\n",
       "      <td>0.891458</td>\n",
       "      <td>0.859883</td>\n",
       "      <td>0.6992</td>\n",
       "    </tr>\n",
       "    <tr>\n",
       "      <th>4</th>\n",
       "      <td>0.813651</td>\n",
       "      <td>0.880088</td>\n",
       "      <td>0.730362</td>\n",
       "      <td>0.893015</td>\n",
       "      <td>0.857608</td>\n",
       "      <td>0.6928</td>\n",
       "    </tr>\n",
       "    <tr>\n",
       "      <th>5</th>\n",
       "      <td>0.792573</td>\n",
       "      <td>0.887570</td>\n",
       "      <td>0.731361</td>\n",
       "      <td>0.899459</td>\n",
       "      <td>0.857682</td>\n",
       "      <td>0.7024</td>\n",
       "    </tr>\n",
       "    <tr>\n",
       "      <th>6</th>\n",
       "      <td>0.759986</td>\n",
       "      <td>0.897323</td>\n",
       "      <td>0.736358</td>\n",
       "      <td>0.882699</td>\n",
       "      <td>0.861770</td>\n",
       "      <td>0.7120</td>\n",
       "    </tr>\n",
       "    <tr>\n",
       "      <th>7</th>\n",
       "      <td>0.731285</td>\n",
       "      <td>0.906030</td>\n",
       "      <td>0.745952</td>\n",
       "      <td>0.938519</td>\n",
       "      <td>0.853692</td>\n",
       "      <td>0.6960</td>\n",
       "    </tr>\n",
       "    <tr>\n",
       "      <th>8</th>\n",
       "      <td>0.713122</td>\n",
       "      <td>0.911836</td>\n",
       "      <td>0.748951</td>\n",
       "      <td>0.920828</td>\n",
       "      <td>0.858913</td>\n",
       "      <td>0.6864</td>\n",
       "    </tr>\n",
       "    <tr>\n",
       "      <th>9</th>\n",
       "      <td>0.674108</td>\n",
       "      <td>0.921174</td>\n",
       "      <td>0.754947</td>\n",
       "      <td>0.928857</td>\n",
       "      <td>0.861574</td>\n",
       "      <td>0.6912</td>\n",
       "    </tr>\n",
       "  </tbody>\n",
       "</table>\n",
       "</div>"
      ],
      "text/plain": [
       "   CategoricalCrossentropy       auc  ...   val_auc  val_accuracy\n",
       "0                 0.963492  0.818425  ...  0.840000        0.6928\n",
       "1                 0.892828  0.846379  ...  0.852112        0.6992\n",
       "2                 0.858840  0.863327  ...  0.858351        0.6992\n",
       "3                 0.843062  0.871122  ...  0.859883        0.6992\n",
       "4                 0.813651  0.880088  ...  0.857608        0.6928\n",
       "5                 0.792573  0.887570  ...  0.857682        0.7024\n",
       "6                 0.759986  0.897323  ...  0.861770        0.7120\n",
       "7                 0.731285  0.906030  ...  0.853692        0.6960\n",
       "8                 0.713122  0.911836  ...  0.858913        0.6864\n",
       "9                 0.674108  0.921174  ...  0.861574        0.6912\n",
       "\n",
       "[10 rows x 6 columns]"
      ]
     },
     "execution_count": 240,
     "metadata": {},
     "output_type": "execute_result"
    }
   ],
   "source": [
    "lstm_bi[['CategoricalCrossentropy', 'auc', 'accuracy', 'val_CategoricalCrossentropy', 'val_auc', 'val_accuracy']]"
   ]
  },
  {
   "cell_type": "code",
   "execution_count": 250,
   "metadata": {
    "colab": {
     "base_uri": "https://localhost:8080/",
     "height": 385
    },
    "executionInfo": {
     "elapsed": 5,
     "status": "ok",
     "timestamp": 1634610619775,
     "user": {
      "displayName": "Alexander Posterino",
      "photoUrl": "https://lh3.googleusercontent.com/a/default-user=s64",
      "userId": "02797547015372524958"
     },
     "user_tz": -660
    },
    "id": "KC9jRo_yYhJU",
    "outputId": "77f2b75a-a023-4c8b-f1a2-9f63530fb6b1"
   },
   "outputs": [
    {
     "data": {
      "text/html": [
       "<div>\n",
       "<style scoped>\n",
       "    .dataframe tbody tr th:only-of-type {\n",
       "        vertical-align: middle;\n",
       "    }\n",
       "\n",
       "    .dataframe tbody tr th {\n",
       "        vertical-align: top;\n",
       "    }\n",
       "\n",
       "    .dataframe thead th {\n",
       "        text-align: right;\n",
       "    }\n",
       "</style>\n",
       "<table border=\"1\" class=\"dataframe\">\n",
       "  <thead>\n",
       "    <tr style=\"text-align: right;\">\n",
       "      <th></th>\n",
       "      <th>CategoricalCrossentropy</th>\n",
       "      <th>auc</th>\n",
       "      <th>accuracy</th>\n",
       "      <th>val_CategoricalCrossentropy</th>\n",
       "      <th>val_auc</th>\n",
       "      <th>val_accuracy</th>\n",
       "    </tr>\n",
       "  </thead>\n",
       "  <tbody>\n",
       "    <tr>\n",
       "      <th>0</th>\n",
       "      <td>0.949144</td>\n",
       "      <td>0.823469</td>\n",
       "      <td>0.713172</td>\n",
       "      <td>0.907618</td>\n",
       "      <td>0.844416</td>\n",
       "      <td>0.6896</td>\n",
       "    </tr>\n",
       "    <tr>\n",
       "      <th>1</th>\n",
       "      <td>0.887255</td>\n",
       "      <td>0.846081</td>\n",
       "      <td>0.715171</td>\n",
       "      <td>0.916289</td>\n",
       "      <td>0.851939</td>\n",
       "      <td>0.6912</td>\n",
       "    </tr>\n",
       "    <tr>\n",
       "      <th>2</th>\n",
       "      <td>0.875252</td>\n",
       "      <td>0.853796</td>\n",
       "      <td>0.721167</td>\n",
       "      <td>0.910402</td>\n",
       "      <td>0.846115</td>\n",
       "      <td>0.6880</td>\n",
       "    </tr>\n",
       "    <tr>\n",
       "      <th>3</th>\n",
       "      <td>0.862485</td>\n",
       "      <td>0.859771</td>\n",
       "      <td>0.724765</td>\n",
       "      <td>0.876170</td>\n",
       "      <td>0.862159</td>\n",
       "      <td>0.6928</td>\n",
       "    </tr>\n",
       "    <tr>\n",
       "      <th>4</th>\n",
       "      <td>0.848051</td>\n",
       "      <td>0.865260</td>\n",
       "      <td>0.721167</td>\n",
       "      <td>0.886267</td>\n",
       "      <td>0.857358</td>\n",
       "      <td>0.6928</td>\n",
       "    </tr>\n",
       "    <tr>\n",
       "      <th>5</th>\n",
       "      <td>0.843015</td>\n",
       "      <td>0.867950</td>\n",
       "      <td>0.723966</td>\n",
       "      <td>0.904747</td>\n",
       "      <td>0.852038</td>\n",
       "      <td>0.6912</td>\n",
       "    </tr>\n",
       "    <tr>\n",
       "      <th>6</th>\n",
       "      <td>0.835935</td>\n",
       "      <td>0.871462</td>\n",
       "      <td>0.726364</td>\n",
       "      <td>0.884993</td>\n",
       "      <td>0.859943</td>\n",
       "      <td>0.6976</td>\n",
       "    </tr>\n",
       "    <tr>\n",
       "      <th>7</th>\n",
       "      <td>0.820480</td>\n",
       "      <td>0.877860</td>\n",
       "      <td>0.728363</td>\n",
       "      <td>0.900015</td>\n",
       "      <td>0.853206</td>\n",
       "      <td>0.7008</td>\n",
       "    </tr>\n",
       "    <tr>\n",
       "      <th>8</th>\n",
       "      <td>0.810318</td>\n",
       "      <td>0.880596</td>\n",
       "      <td>0.725165</td>\n",
       "      <td>0.888124</td>\n",
       "      <td>0.857999</td>\n",
       "      <td>0.7008</td>\n",
       "    </tr>\n",
       "    <tr>\n",
       "      <th>9</th>\n",
       "      <td>0.804211</td>\n",
       "      <td>0.883582</td>\n",
       "      <td>0.733960</td>\n",
       "      <td>0.877137</td>\n",
       "      <td>0.858368</td>\n",
       "      <td>0.7024</td>\n",
       "    </tr>\n",
       "    <tr>\n",
       "      <th>10</th>\n",
       "      <td>0.787478</td>\n",
       "      <td>0.889061</td>\n",
       "      <td>0.733560</td>\n",
       "      <td>0.907947</td>\n",
       "      <td>0.854228</td>\n",
       "      <td>0.6976</td>\n",
       "    </tr>\n",
       "  </tbody>\n",
       "</table>\n",
       "</div>"
      ],
      "text/plain": [
       "    CategoricalCrossentropy       auc  ...   val_auc  val_accuracy\n",
       "0                  0.949144  0.823469  ...  0.844416        0.6896\n",
       "1                  0.887255  0.846081  ...  0.851939        0.6912\n",
       "2                  0.875252  0.853796  ...  0.846115        0.6880\n",
       "3                  0.862485  0.859771  ...  0.862159        0.6928\n",
       "4                  0.848051  0.865260  ...  0.857358        0.6928\n",
       "5                  0.843015  0.867950  ...  0.852038        0.6912\n",
       "6                  0.835935  0.871462  ...  0.859943        0.6976\n",
       "7                  0.820480  0.877860  ...  0.853206        0.7008\n",
       "8                  0.810318  0.880596  ...  0.857999        0.7008\n",
       "9                  0.804211  0.883582  ...  0.858368        0.7024\n",
       "10                 0.787478  0.889061  ...  0.854228        0.6976\n",
       "\n",
       "[11 rows x 6 columns]"
      ]
     },
     "execution_count": 250,
     "metadata": {},
     "output_type": "execute_result"
    }
   ],
   "source": [
    "lstm_bi2[['CategoricalCrossentropy', 'auc', 'accuracy', 'val_CategoricalCrossentropy', 'val_auc', 'val_accuracy']]"
   ]
  },
  {
   "cell_type": "markdown",
   "metadata": {
    "id": "p-BTy0Wb-IP5"
   },
   "source": [
    "## Bidirectional GRU Models"
   ]
  },
  {
   "cell_type": "code",
   "execution_count": 615,
   "metadata": {
    "executionInfo": {
     "elapsed": 900,
     "status": "ok",
     "timestamp": 1634631825343,
     "user": {
      "displayName": "Alexander Posterino",
      "photoUrl": "https://lh3.googleusercontent.com/a/default-user=s64",
      "userId": "02797547015372524958"
     },
     "user_tz": -660
    },
    "id": "1AJHxbYO-FVP"
   },
   "outputs": [],
   "source": [
    "model_bi_gru_results = pd.read_csv('/content/drive/MyDrive/COSC2779/Assessment_2/model_bi_gru_twitter100.csv')\n",
    "model_bi_gru2_results = pd.read_csv('/content/drive/MyDrive/COSC2779/Assessment_2/model_bi_gru2_twitter100.csv')\n",
    "model_bi_gru2_twitter50_results = pd.read_csv('/content/drive/MyDrive/COSC2779/Assessment_2/model_bi_gru2_twitter50.csv')\n",
    "model_bi_gru2_glove_50_results = pd.read_csv('/content/drive/MyDrive/COSC2779/Assessment_2/model_bi_gru2_glove50.csv')\n",
    "model_bi_gru2_glove_100_results = pd.read_csv('/content/drive/MyDrive/COSC2779/Assessment_2/model_bi_gru2_glove100.csv')"
   ]
  },
  {
   "cell_type": "code",
   "execution_count": 688,
   "metadata": {
    "colab": {
     "base_uri": "https://localhost:8080/",
     "height": 312
    },
    "executionInfo": {
     "elapsed": 842,
     "status": "ok",
     "timestamp": 1634634276376,
     "user": {
      "displayName": "Alexander Posterino",
      "photoUrl": "https://lh3.googleusercontent.com/a/default-user=s64",
      "userId": "02797547015372524958"
     },
     "user_tz": -660
    },
    "id": "L3xcoxHS-FVV",
    "outputId": "dac87174-8e88-4d0e-9e9f-14234b942a2d"
   },
   "outputs": [
    {
     "data": {
      "text/plain": [
       "<matplotlib.legend.Legend at 0x7f7d30812a90>"
      ]
     },
     "execution_count": 688,
     "metadata": {},
     "output_type": "execute_result"
    },
    {
     "data": {
      "image/png": "[encoded data removed]",
      "text/plain": [
       "<Figure size 432x288 with 1 Axes>"
      ]
     },
     "metadata": {
      "needs_background": "light"
     },
     "output_type": "display_data"
    }
   ],
   "source": [
    "plot_model(model_bi_gru_results, 'CategoricalCrossentropy', \"B-GRU\")\n",
    "add_model(model_bi_gru2_results, 'CategoricalCrossentropy', 'red')\n",
    "add_model(model_bi_gru2_twitter50_results, 'CategoricalCrossentropy', 'green')\n",
    "add_model(model_bi_gru2_glove_50_results, 'CategoricalCrossentropy', 'purple')\n",
    "add_model(model_bi_gru2_glove_100_results, 'CategoricalCrossentropy', 'grey')\n",
    "plt.legend(['B-GRU train', 'B-GRU val', 'B-GRU2 train', 'B-GRU2 val', \n",
    "            'B-GRU2t50 train', 'B-GRU2t50 val', 'B-GRU2g50 train', \n",
    "            'B-GRU2g50 val', 'B-GRU2g100 train', 'B-GRU2g100 val'],loc='lower left')"
   ]
  },
  {
   "cell_type": "code",
   "execution_count": 689,
   "metadata": {
    "colab": {
     "base_uri": "https://localhost:8080/",
     "height": 312
    },
    "executionInfo": {
     "elapsed": 1151,
     "status": "ok",
     "timestamp": 1634634277479,
     "user": {
      "displayName": "Alexander Posterino",
      "photoUrl": "https://lh3.googleusercontent.com/a/default-user=s64",
      "userId": "02797547015372524958"
     },
     "user_tz": -660
    },
    "id": "eiUidDtH-FVV",
    "outputId": "a72847de-7ffd-4395-e8f5-8bd0167e7a66"
   },
   "outputs": [
    {
     "data": {
      "text/plain": [
       "<matplotlib.legend.Legend at 0x7f7d3076fa90>"
      ]
     },
     "execution_count": 689,
     "metadata": {},
     "output_type": "execute_result"
    },
    {
     "data": {
      "image/png": "[encoded data removed]",
      "text/plain": [
       "<Figure size 432x288 with 1 Axes>"
      ]
     },
     "metadata": {
      "needs_background": "light"
     },
     "output_type": "display_data"
    }
   ],
   "source": [
    "plot_model(model_bi_gru_results, 'auc', \"B-GRU\")\n",
    "add_model(model_bi_gru2_results, 'auc', 'red')\n",
    "add_model(model_bi_gru2_twitter50_results, 'auc', 'green')\n",
    "add_model(model_bi_gru2_glove_50_results, 'auc', 'purple')\n",
    "add_model(model_bi_gru2_glove_100_results, 'auc', 'grey')\n",
    "plt.legend(['B-GRU train', 'B-GRU val', 'B-GRU2 train', 'B-GRU2 val', \n",
    "            'B-GRU2t50 train', 'B-GRU2t50 val', 'B-GRU2g50 train', \n",
    "            'B-GRU2g50 val', 'B-GRU2g100 train', 'B-GRU2g100 val'],loc='upper left')"
   ]
  },
  {
   "cell_type": "code",
   "execution_count": 690,
   "metadata": {
    "colab": {
     "base_uri": "https://localhost:8080/",
     "height": 312
    },
    "executionInfo": {
     "elapsed": 11,
     "status": "ok",
     "timestamp": 1634634277479,
     "user": {
      "displayName": "Alexander Posterino",
      "photoUrl": "https://lh3.googleusercontent.com/a/default-user=s64",
      "userId": "02797547015372524958"
     },
     "user_tz": -660
    },
    "id": "iZqvCkRz-FVU",
    "outputId": "0128b334-1ed9-4594-be50-adeefcef937c"
   },
   "outputs": [
    {
     "data": {
      "text/plain": [
       "<matplotlib.legend.Legend at 0x7f7d27072b10>"
      ]
     },
     "execution_count": 690,
     "metadata": {},
     "output_type": "execute_result"
    },
    {
     "data": {
      "image/png": "[encoded data removed]",
      "text/plain": [
       "<Figure size 432x288 with 1 Axes>"
      ]
     },
     "metadata": {
      "needs_background": "light"
     },
     "output_type": "display_data"
    }
   ],
   "source": [
    "plot_model(model_bi_gru_results, 'accuracy', \"B-GRU\")\n",
    "add_model(model_bi_gru2_results, 'accuracy', 'red')\n",
    "add_model(model_bi_gru2_twitter50_results, 'accuracy', 'green')\n",
    "add_model(model_bi_gru2_glove_50_results, 'accuracy', 'purple')\n",
    "add_model(model_bi_gru2_glove_100_results, 'accuracy', 'grey')\n",
    "plt.legend(['B-GRU train', 'B-GRU val', 'B-GRU2 train', 'B-GRU2 val', \n",
    "            'B-GRU2t50 train', 'B-GRU2t50 val', 'B-GRU2g50 train', \n",
    "            'B-GRU2g50 val', 'B-GRU2g100 train', 'B-GRU2g100 val'],loc='upper left')"
   ]
  },
  {
   "cell_type": "code",
   "execution_count": 512,
   "metadata": {
    "colab": {
     "base_uri": "https://localhost:8080/",
     "height": 416
    },
    "executionInfo": {
     "elapsed": 548,
     "status": "ok",
     "timestamp": 1634622783966,
     "user": {
      "displayName": "Alexander Posterino",
      "photoUrl": "https://lh3.googleusercontent.com/a/default-user=s64",
      "userId": "02797547015372524958"
     },
     "user_tz": -660
    },
    "id": "GQ6c7k0i-FVV",
    "outputId": "fd4b35c2-6997-4887-e69a-d81c30954f9a"
   },
   "outputs": [
    {
     "data": {
      "text/html": [
       "<div>\n",
       "<style scoped>\n",
       "    .dataframe tbody tr th:only-of-type {\n",
       "        vertical-align: middle;\n",
       "    }\n",
       "\n",
       "    .dataframe tbody tr th {\n",
       "        vertical-align: top;\n",
       "    }\n",
       "\n",
       "    .dataframe thead th {\n",
       "        text-align: right;\n",
       "    }\n",
       "</style>\n",
       "<table border=\"1\" class=\"dataframe\">\n",
       "  <thead>\n",
       "    <tr style=\"text-align: right;\">\n",
       "      <th></th>\n",
       "      <th>CategoricalCrossentropy</th>\n",
       "      <th>auc</th>\n",
       "      <th>accuracy</th>\n",
       "      <th>val_CategoricalCrossentropy</th>\n",
       "      <th>val_auc</th>\n",
       "      <th>val_accuracy</th>\n",
       "    </tr>\n",
       "  </thead>\n",
       "  <tbody>\n",
       "    <tr>\n",
       "      <th>0</th>\n",
       "      <td>0.926139</td>\n",
       "      <td>0.831675</td>\n",
       "      <td>0.708975</td>\n",
       "      <td>0.906655</td>\n",
       "      <td>0.848350</td>\n",
       "      <td>0.6944</td>\n",
       "    </tr>\n",
       "    <tr>\n",
       "      <th>1</th>\n",
       "      <td>0.875930</td>\n",
       "      <td>0.853423</td>\n",
       "      <td>0.718369</td>\n",
       "      <td>0.896687</td>\n",
       "      <td>0.856627</td>\n",
       "      <td>0.6912</td>\n",
       "    </tr>\n",
       "    <tr>\n",
       "      <th>2</th>\n",
       "      <td>0.838312</td>\n",
       "      <td>0.871236</td>\n",
       "      <td>0.719968</td>\n",
       "      <td>0.890560</td>\n",
       "      <td>0.857301</td>\n",
       "      <td>0.6944</td>\n",
       "    </tr>\n",
       "    <tr>\n",
       "      <th>3</th>\n",
       "      <td>0.805653</td>\n",
       "      <td>0.883631</td>\n",
       "      <td>0.725165</td>\n",
       "      <td>0.921784</td>\n",
       "      <td>0.858608</td>\n",
       "      <td>0.6976</td>\n",
       "    </tr>\n",
       "    <tr>\n",
       "      <th>4</th>\n",
       "      <td>0.787898</td>\n",
       "      <td>0.888655</td>\n",
       "      <td>0.724965</td>\n",
       "      <td>0.889325</td>\n",
       "      <td>0.861067</td>\n",
       "      <td>0.7088</td>\n",
       "    </tr>\n",
       "    <tr>\n",
       "      <th>5</th>\n",
       "      <td>0.766556</td>\n",
       "      <td>0.896095</td>\n",
       "      <td>0.736358</td>\n",
       "      <td>0.905500</td>\n",
       "      <td>0.858451</td>\n",
       "      <td>0.7088</td>\n",
       "    </tr>\n",
       "    <tr>\n",
       "      <th>6</th>\n",
       "      <td>0.739988</td>\n",
       "      <td>0.903575</td>\n",
       "      <td>0.741355</td>\n",
       "      <td>0.898508</td>\n",
       "      <td>0.859074</td>\n",
       "      <td>0.7200</td>\n",
       "    </tr>\n",
       "    <tr>\n",
       "      <th>7</th>\n",
       "      <td>0.720743</td>\n",
       "      <td>0.909212</td>\n",
       "      <td>0.746752</td>\n",
       "      <td>0.881642</td>\n",
       "      <td>0.864564</td>\n",
       "      <td>0.7088</td>\n",
       "    </tr>\n",
       "    <tr>\n",
       "      <th>8</th>\n",
       "      <td>0.686271</td>\n",
       "      <td>0.917826</td>\n",
       "      <td>0.757146</td>\n",
       "      <td>0.903106</td>\n",
       "      <td>0.862077</td>\n",
       "      <td>0.7008</td>\n",
       "    </tr>\n",
       "    <tr>\n",
       "      <th>9</th>\n",
       "      <td>0.664660</td>\n",
       "      <td>0.922864</td>\n",
       "      <td>0.763142</td>\n",
       "      <td>0.924441</td>\n",
       "      <td>0.863591</td>\n",
       "      <td>0.7040</td>\n",
       "    </tr>\n",
       "    <tr>\n",
       "      <th>10</th>\n",
       "      <td>0.644615</td>\n",
       "      <td>0.928659</td>\n",
       "      <td>0.764541</td>\n",
       "      <td>0.954097</td>\n",
       "      <td>0.853671</td>\n",
       "      <td>0.6880</td>\n",
       "    </tr>\n",
       "    <tr>\n",
       "      <th>11</th>\n",
       "      <td>0.609459</td>\n",
       "      <td>0.936176</td>\n",
       "      <td>0.775735</td>\n",
       "      <td>0.966347</td>\n",
       "      <td>0.859798</td>\n",
       "      <td>0.6848</td>\n",
       "    </tr>\n",
       "  </tbody>\n",
       "</table>\n",
       "</div>"
      ],
      "text/plain": [
       "    CategoricalCrossentropy       auc  ...   val_auc  val_accuracy\n",
       "0                  0.926139  0.831675  ...  0.848350        0.6944\n",
       "1                  0.875930  0.853423  ...  0.856627        0.6912\n",
       "2                  0.838312  0.871236  ...  0.857301        0.6944\n",
       "3                  0.805653  0.883631  ...  0.858608        0.6976\n",
       "4                  0.787898  0.888655  ...  0.861067        0.7088\n",
       "5                  0.766556  0.896095  ...  0.858451        0.7088\n",
       "6                  0.739988  0.903575  ...  0.859074        0.7200\n",
       "7                  0.720743  0.909212  ...  0.864564        0.7088\n",
       "8                  0.686271  0.917826  ...  0.862077        0.7008\n",
       "9                  0.664660  0.922864  ...  0.863591        0.7040\n",
       "10                 0.644615  0.928659  ...  0.853671        0.6880\n",
       "11                 0.609459  0.936176  ...  0.859798        0.6848\n",
       "\n",
       "[12 rows x 6 columns]"
      ]
     },
     "execution_count": 512,
     "metadata": {},
     "output_type": "execute_result"
    }
   ],
   "source": [
    "model_bi_gru_results[['CategoricalCrossentropy', 'auc', 'accuracy', 'val_CategoricalCrossentropy', 'val_auc', 'val_accuracy']]"
   ]
  },
  {
   "cell_type": "code",
   "execution_count": 196,
   "metadata": {
    "colab": {
     "base_uri": "https://localhost:8080/",
     "height": 815
    },
    "executionInfo": {
     "elapsed": 5,
     "status": "ok",
     "timestamp": 1634607563326,
     "user": {
      "displayName": "Alexander Posterino",
      "photoUrl": "https://lh3.googleusercontent.com/a/default-user=s64",
      "userId": "02797547015372524958"
     },
     "user_tz": -660
    },
    "id": "HtnfxPXRQ088",
    "outputId": "97d84141-14b5-401e-af71-074d5bbe269c"
   },
   "outputs": [
    {
     "data": {
      "text/html": [
       "<div>\n",
       "<style scoped>\n",
       "    .dataframe tbody tr th:only-of-type {\n",
       "        vertical-align: middle;\n",
       "    }\n",
       "\n",
       "    .dataframe tbody tr th {\n",
       "        vertical-align: top;\n",
       "    }\n",
       "\n",
       "    .dataframe thead th {\n",
       "        text-align: right;\n",
       "    }\n",
       "</style>\n",
       "<table border=\"1\" class=\"dataframe\">\n",
       "  <thead>\n",
       "    <tr style=\"text-align: right;\">\n",
       "      <th></th>\n",
       "      <th>CategoricalCrossentropy</th>\n",
       "      <th>auc</th>\n",
       "      <th>accuracy</th>\n",
       "      <th>val_CategoricalCrossentropy</th>\n",
       "      <th>val_auc</th>\n",
       "      <th>val_accuracy</th>\n",
       "    </tr>\n",
       "  </thead>\n",
       "  <tbody>\n",
       "    <tr>\n",
       "      <th>0</th>\n",
       "      <td>1.019173</td>\n",
       "      <td>0.809540</td>\n",
       "      <td>0.697382</td>\n",
       "      <td>0.926218</td>\n",
       "      <td>0.836524</td>\n",
       "      <td>0.6928</td>\n",
       "    </tr>\n",
       "    <tr>\n",
       "      <th>1</th>\n",
       "      <td>0.927949</td>\n",
       "      <td>0.835169</td>\n",
       "      <td>0.715771</td>\n",
       "      <td>0.916782</td>\n",
       "      <td>0.840630</td>\n",
       "      <td>0.6992</td>\n",
       "    </tr>\n",
       "    <tr>\n",
       "      <th>2</th>\n",
       "      <td>0.905205</td>\n",
       "      <td>0.844446</td>\n",
       "      <td>0.717170</td>\n",
       "      <td>0.912784</td>\n",
       "      <td>0.839925</td>\n",
       "      <td>0.6992</td>\n",
       "    </tr>\n",
       "    <tr>\n",
       "      <th>3</th>\n",
       "      <td>0.891994</td>\n",
       "      <td>0.849585</td>\n",
       "      <td>0.718569</td>\n",
       "      <td>0.894379</td>\n",
       "      <td>0.851764</td>\n",
       "      <td>0.6976</td>\n",
       "    </tr>\n",
       "    <tr>\n",
       "      <th>4</th>\n",
       "      <td>0.887410</td>\n",
       "      <td>0.851921</td>\n",
       "      <td>0.718969</td>\n",
       "      <td>0.927378</td>\n",
       "      <td>0.841326</td>\n",
       "      <td>0.6896</td>\n",
       "    </tr>\n",
       "    <tr>\n",
       "      <th>5</th>\n",
       "      <td>0.871978</td>\n",
       "      <td>0.859033</td>\n",
       "      <td>0.720967</td>\n",
       "      <td>0.900159</td>\n",
       "      <td>0.851520</td>\n",
       "      <td>0.7008</td>\n",
       "    </tr>\n",
       "    <tr>\n",
       "      <th>6</th>\n",
       "      <td>0.861561</td>\n",
       "      <td>0.862834</td>\n",
       "      <td>0.725165</td>\n",
       "      <td>0.904162</td>\n",
       "      <td>0.853589</td>\n",
       "      <td>0.6928</td>\n",
       "    </tr>\n",
       "    <tr>\n",
       "      <th>7</th>\n",
       "      <td>0.857857</td>\n",
       "      <td>0.865695</td>\n",
       "      <td>0.720568</td>\n",
       "      <td>0.909400</td>\n",
       "      <td>0.850658</td>\n",
       "      <td>0.6976</td>\n",
       "    </tr>\n",
       "    <tr>\n",
       "      <th>8</th>\n",
       "      <td>0.842460</td>\n",
       "      <td>0.869777</td>\n",
       "      <td>0.726764</td>\n",
       "      <td>0.884812</td>\n",
       "      <td>0.855996</td>\n",
       "      <td>0.7008</td>\n",
       "    </tr>\n",
       "    <tr>\n",
       "      <th>9</th>\n",
       "      <td>0.834905</td>\n",
       "      <td>0.872740</td>\n",
       "      <td>0.725765</td>\n",
       "      <td>0.896473</td>\n",
       "      <td>0.853808</td>\n",
       "      <td>0.6992</td>\n",
       "    </tr>\n",
       "    <tr>\n",
       "      <th>10</th>\n",
       "      <td>0.831783</td>\n",
       "      <td>0.874441</td>\n",
       "      <td>0.726164</td>\n",
       "      <td>0.900595</td>\n",
       "      <td>0.853446</td>\n",
       "      <td>0.6992</td>\n",
       "    </tr>\n",
       "    <tr>\n",
       "      <th>11</th>\n",
       "      <td>0.816543</td>\n",
       "      <td>0.879616</td>\n",
       "      <td>0.728763</td>\n",
       "      <td>0.897349</td>\n",
       "      <td>0.854749</td>\n",
       "      <td>0.7008</td>\n",
       "    </tr>\n",
       "    <tr>\n",
       "      <th>12</th>\n",
       "      <td>0.809693</td>\n",
       "      <td>0.881026</td>\n",
       "      <td>0.728963</td>\n",
       "      <td>0.910179</td>\n",
       "      <td>0.851831</td>\n",
       "      <td>0.7088</td>\n",
       "    </tr>\n",
       "    <tr>\n",
       "      <th>13</th>\n",
       "      <td>0.793325</td>\n",
       "      <td>0.887804</td>\n",
       "      <td>0.730362</td>\n",
       "      <td>0.898132</td>\n",
       "      <td>0.855857</td>\n",
       "      <td>0.7056</td>\n",
       "    </tr>\n",
       "    <tr>\n",
       "      <th>14</th>\n",
       "      <td>0.799523</td>\n",
       "      <td>0.886536</td>\n",
       "      <td>0.731761</td>\n",
       "      <td>0.886823</td>\n",
       "      <td>0.857390</td>\n",
       "      <td>0.7040</td>\n",
       "    </tr>\n",
       "    <tr>\n",
       "      <th>15</th>\n",
       "      <td>0.787539</td>\n",
       "      <td>0.889353</td>\n",
       "      <td>0.730362</td>\n",
       "      <td>0.890132</td>\n",
       "      <td>0.858763</td>\n",
       "      <td>0.7088</td>\n",
       "    </tr>\n",
       "    <tr>\n",
       "      <th>16</th>\n",
       "      <td>0.779224</td>\n",
       "      <td>0.893162</td>\n",
       "      <td>0.735559</td>\n",
       "      <td>0.914190</td>\n",
       "      <td>0.855758</td>\n",
       "      <td>0.7072</td>\n",
       "    </tr>\n",
       "    <tr>\n",
       "      <th>17</th>\n",
       "      <td>0.758559</td>\n",
       "      <td>0.898722</td>\n",
       "      <td>0.736958</td>\n",
       "      <td>0.901706</td>\n",
       "      <td>0.859229</td>\n",
       "      <td>0.7152</td>\n",
       "    </tr>\n",
       "    <tr>\n",
       "      <th>18</th>\n",
       "      <td>0.764980</td>\n",
       "      <td>0.896444</td>\n",
       "      <td>0.736158</td>\n",
       "      <td>0.886788</td>\n",
       "      <td>0.859564</td>\n",
       "      <td>0.7056</td>\n",
       "    </tr>\n",
       "    <tr>\n",
       "      <th>19</th>\n",
       "      <td>0.749505</td>\n",
       "      <td>0.901803</td>\n",
       "      <td>0.741155</td>\n",
       "      <td>0.910539</td>\n",
       "      <td>0.858928</td>\n",
       "      <td>0.7152</td>\n",
       "    </tr>\n",
       "    <tr>\n",
       "      <th>20</th>\n",
       "      <td>0.748271</td>\n",
       "      <td>0.900581</td>\n",
       "      <td>0.743154</td>\n",
       "      <td>0.905129</td>\n",
       "      <td>0.857219</td>\n",
       "      <td>0.7120</td>\n",
       "    </tr>\n",
       "    <tr>\n",
       "      <th>21</th>\n",
       "      <td>0.732400</td>\n",
       "      <td>0.906438</td>\n",
       "      <td>0.743954</td>\n",
       "      <td>0.903821</td>\n",
       "      <td>0.863221</td>\n",
       "      <td>0.7216</td>\n",
       "    </tr>\n",
       "    <tr>\n",
       "      <th>22</th>\n",
       "      <td>0.721924</td>\n",
       "      <td>0.908081</td>\n",
       "      <td>0.750949</td>\n",
       "      <td>0.908735</td>\n",
       "      <td>0.860752</td>\n",
       "      <td>0.7136</td>\n",
       "    </tr>\n",
       "    <tr>\n",
       "      <th>23</th>\n",
       "      <td>0.719848</td>\n",
       "      <td>0.909820</td>\n",
       "      <td>0.747352</td>\n",
       "      <td>0.959814</td>\n",
       "      <td>0.857617</td>\n",
       "      <td>0.7136</td>\n",
       "    </tr>\n",
       "    <tr>\n",
       "      <th>24</th>\n",
       "      <td>0.712527</td>\n",
       "      <td>0.911286</td>\n",
       "      <td>0.750550</td>\n",
       "      <td>0.879991</td>\n",
       "      <td>0.863958</td>\n",
       "      <td>0.7200</td>\n",
       "    </tr>\n",
       "  </tbody>\n",
       "</table>\n",
       "</div>"
      ],
      "text/plain": [
       "    CategoricalCrossentropy       auc  ...   val_auc  val_accuracy\n",
       "0                  1.019173  0.809540  ...  0.836524        0.6928\n",
       "1                  0.927949  0.835169  ...  0.840630        0.6992\n",
       "2                  0.905205  0.844446  ...  0.839925        0.6992\n",
       "3                  0.891994  0.849585  ...  0.851764        0.6976\n",
       "4                  0.887410  0.851921  ...  0.841326        0.6896\n",
       "5                  0.871978  0.859033  ...  0.851520        0.7008\n",
       "6                  0.861561  0.862834  ...  0.853589        0.6928\n",
       "7                  0.857857  0.865695  ...  0.850658        0.6976\n",
       "8                  0.842460  0.869777  ...  0.855996        0.7008\n",
       "9                  0.834905  0.872740  ...  0.853808        0.6992\n",
       "10                 0.831783  0.874441  ...  0.853446        0.6992\n",
       "11                 0.816543  0.879616  ...  0.854749        0.7008\n",
       "12                 0.809693  0.881026  ...  0.851831        0.7088\n",
       "13                 0.793325  0.887804  ...  0.855857        0.7056\n",
       "14                 0.799523  0.886536  ...  0.857390        0.7040\n",
       "15                 0.787539  0.889353  ...  0.858763        0.7088\n",
       "16                 0.779224  0.893162  ...  0.855758        0.7072\n",
       "17                 0.758559  0.898722  ...  0.859229        0.7152\n",
       "18                 0.764980  0.896444  ...  0.859564        0.7056\n",
       "19                 0.749505  0.901803  ...  0.858928        0.7152\n",
       "20                 0.748271  0.900581  ...  0.857219        0.7120\n",
       "21                 0.732400  0.906438  ...  0.863221        0.7216\n",
       "22                 0.721924  0.908081  ...  0.860752        0.7136\n",
       "23                 0.719848  0.909820  ...  0.857617        0.7136\n",
       "24                 0.712527  0.911286  ...  0.863958        0.7200\n",
       "\n",
       "[25 rows x 6 columns]"
      ]
     },
     "execution_count": 196,
     "metadata": {},
     "output_type": "execute_result"
    }
   ],
   "source": [
    "model_bi_gru2_results[['CategoricalCrossentropy', 'auc', 'accuracy', 'val_CategoricalCrossentropy', 'val_auc', 'val_accuracy']]"
   ]
  },
  {
   "cell_type": "code",
   "execution_count": 262,
   "metadata": {
    "colab": {
     "base_uri": "https://localhost:8080/",
     "height": 601
    },
    "executionInfo": {
     "elapsed": 5,
     "status": "ok",
     "timestamp": 1634611351328,
     "user": {
      "displayName": "Alexander Posterino",
      "photoUrl": "https://lh3.googleusercontent.com/a/default-user=s64",
      "userId": "02797547015372524958"
     },
     "user_tz": -660
    },
    "id": "YU0c_O4iIe6f",
    "outputId": "dd485838-9643-48a3-a321-2c4bc0fc039d"
   },
   "outputs": [
    {
     "data": {
      "text/html": [
       "<div>\n",
       "<style scoped>\n",
       "    .dataframe tbody tr th:only-of-type {\n",
       "        vertical-align: middle;\n",
       "    }\n",
       "\n",
       "    .dataframe tbody tr th {\n",
       "        vertical-align: top;\n",
       "    }\n",
       "\n",
       "    .dataframe thead th {\n",
       "        text-align: right;\n",
       "    }\n",
       "</style>\n",
       "<table border=\"1\" class=\"dataframe\">\n",
       "  <thead>\n",
       "    <tr style=\"text-align: right;\">\n",
       "      <th></th>\n",
       "      <th>CategoricalCrossentropy</th>\n",
       "      <th>auc</th>\n",
       "      <th>accuracy</th>\n",
       "      <th>val_CategoricalCrossentropy</th>\n",
       "      <th>val_auc</th>\n",
       "      <th>val_accuracy</th>\n",
       "    </tr>\n",
       "  </thead>\n",
       "  <tbody>\n",
       "    <tr>\n",
       "      <th>0</th>\n",
       "      <td>0.971897</td>\n",
       "      <td>0.823590</td>\n",
       "      <td>0.712173</td>\n",
       "      <td>0.957789</td>\n",
       "      <td>0.824197</td>\n",
       "      <td>0.6928</td>\n",
       "    </tr>\n",
       "    <tr>\n",
       "      <th>1</th>\n",
       "      <td>0.936856</td>\n",
       "      <td>0.829758</td>\n",
       "      <td>0.715970</td>\n",
       "      <td>0.933902</td>\n",
       "      <td>0.825794</td>\n",
       "      <td>0.6928</td>\n",
       "    </tr>\n",
       "    <tr>\n",
       "      <th>2</th>\n",
       "      <td>0.910569</td>\n",
       "      <td>0.839916</td>\n",
       "      <td>0.716570</td>\n",
       "      <td>0.943494</td>\n",
       "      <td>0.832109</td>\n",
       "      <td>0.6928</td>\n",
       "    </tr>\n",
       "    <tr>\n",
       "      <th>3</th>\n",
       "      <td>0.902014</td>\n",
       "      <td>0.843645</td>\n",
       "      <td>0.716570</td>\n",
       "      <td>0.915625</td>\n",
       "      <td>0.833592</td>\n",
       "      <td>0.6992</td>\n",
       "    </tr>\n",
       "    <tr>\n",
       "      <th>4</th>\n",
       "      <td>0.899589</td>\n",
       "      <td>0.844973</td>\n",
       "      <td>0.715771</td>\n",
       "      <td>0.909246</td>\n",
       "      <td>0.839715</td>\n",
       "      <td>0.6992</td>\n",
       "    </tr>\n",
       "    <tr>\n",
       "      <th>5</th>\n",
       "      <td>0.884621</td>\n",
       "      <td>0.850904</td>\n",
       "      <td>0.718169</td>\n",
       "      <td>0.912861</td>\n",
       "      <td>0.838099</td>\n",
       "      <td>0.7008</td>\n",
       "    </tr>\n",
       "    <tr>\n",
       "      <th>6</th>\n",
       "      <td>0.878550</td>\n",
       "      <td>0.854470</td>\n",
       "      <td>0.716970</td>\n",
       "      <td>0.912930</td>\n",
       "      <td>0.841748</td>\n",
       "      <td>0.6992</td>\n",
       "    </tr>\n",
       "    <tr>\n",
       "      <th>7</th>\n",
       "      <td>0.875447</td>\n",
       "      <td>0.853388</td>\n",
       "      <td>0.718769</td>\n",
       "      <td>0.915434</td>\n",
       "      <td>0.840771</td>\n",
       "      <td>0.6944</td>\n",
       "    </tr>\n",
       "    <tr>\n",
       "      <th>8</th>\n",
       "      <td>0.874705</td>\n",
       "      <td>0.855439</td>\n",
       "      <td>0.718569</td>\n",
       "      <td>0.903430</td>\n",
       "      <td>0.843506</td>\n",
       "      <td>0.6960</td>\n",
       "    </tr>\n",
       "    <tr>\n",
       "      <th>9</th>\n",
       "      <td>0.860262</td>\n",
       "      <td>0.859864</td>\n",
       "      <td>0.718569</td>\n",
       "      <td>0.916342</td>\n",
       "      <td>0.844287</td>\n",
       "      <td>0.6960</td>\n",
       "    </tr>\n",
       "    <tr>\n",
       "      <th>10</th>\n",
       "      <td>0.859931</td>\n",
       "      <td>0.862337</td>\n",
       "      <td>0.720568</td>\n",
       "      <td>0.906887</td>\n",
       "      <td>0.844065</td>\n",
       "      <td>0.6976</td>\n",
       "    </tr>\n",
       "    <tr>\n",
       "      <th>11</th>\n",
       "      <td>0.844725</td>\n",
       "      <td>0.867518</td>\n",
       "      <td>0.722167</td>\n",
       "      <td>0.907466</td>\n",
       "      <td>0.847265</td>\n",
       "      <td>0.6992</td>\n",
       "    </tr>\n",
       "    <tr>\n",
       "      <th>12</th>\n",
       "      <td>0.845534</td>\n",
       "      <td>0.866739</td>\n",
       "      <td>0.722966</td>\n",
       "      <td>0.899000</td>\n",
       "      <td>0.849969</td>\n",
       "      <td>0.7024</td>\n",
       "    </tr>\n",
       "    <tr>\n",
       "      <th>13</th>\n",
       "      <td>0.842383</td>\n",
       "      <td>0.870829</td>\n",
       "      <td>0.722167</td>\n",
       "      <td>0.919083</td>\n",
       "      <td>0.846052</td>\n",
       "      <td>0.6992</td>\n",
       "    </tr>\n",
       "    <tr>\n",
       "      <th>14</th>\n",
       "      <td>0.840080</td>\n",
       "      <td>0.869699</td>\n",
       "      <td>0.722566</td>\n",
       "      <td>0.905034</td>\n",
       "      <td>0.848165</td>\n",
       "      <td>0.7008</td>\n",
       "    </tr>\n",
       "    <tr>\n",
       "      <th>15</th>\n",
       "      <td>0.839483</td>\n",
       "      <td>0.870740</td>\n",
       "      <td>0.722367</td>\n",
       "      <td>0.910651</td>\n",
       "      <td>0.846119</td>\n",
       "      <td>0.7008</td>\n",
       "    </tr>\n",
       "    <tr>\n",
       "      <th>16</th>\n",
       "      <td>0.821409</td>\n",
       "      <td>0.876499</td>\n",
       "      <td>0.727364</td>\n",
       "      <td>0.933629</td>\n",
       "      <td>0.844939</td>\n",
       "      <td>0.6944</td>\n",
       "    </tr>\n",
       "    <tr>\n",
       "      <th>17</th>\n",
       "      <td>0.830337</td>\n",
       "      <td>0.873421</td>\n",
       "      <td>0.721767</td>\n",
       "      <td>0.923862</td>\n",
       "      <td>0.848058</td>\n",
       "      <td>0.7040</td>\n",
       "    </tr>\n",
       "  </tbody>\n",
       "</table>\n",
       "</div>"
      ],
      "text/plain": [
       "    CategoricalCrossentropy       auc  ...   val_auc  val_accuracy\n",
       "0                  0.971897  0.823590  ...  0.824197        0.6928\n",
       "1                  0.936856  0.829758  ...  0.825794        0.6928\n",
       "2                  0.910569  0.839916  ...  0.832109        0.6928\n",
       "3                  0.902014  0.843645  ...  0.833592        0.6992\n",
       "4                  0.899589  0.844973  ...  0.839715        0.6992\n",
       "5                  0.884621  0.850904  ...  0.838099        0.7008\n",
       "6                  0.878550  0.854470  ...  0.841748        0.6992\n",
       "7                  0.875447  0.853388  ...  0.840771        0.6944\n",
       "8                  0.874705  0.855439  ...  0.843506        0.6960\n",
       "9                  0.860262  0.859864  ...  0.844287        0.6960\n",
       "10                 0.859931  0.862337  ...  0.844065        0.6976\n",
       "11                 0.844725  0.867518  ...  0.847265        0.6992\n",
       "12                 0.845534  0.866739  ...  0.849969        0.7024\n",
       "13                 0.842383  0.870829  ...  0.846052        0.6992\n",
       "14                 0.840080  0.869699  ...  0.848165        0.7008\n",
       "15                 0.839483  0.870740  ...  0.846119        0.7008\n",
       "16                 0.821409  0.876499  ...  0.844939        0.6944\n",
       "17                 0.830337  0.873421  ...  0.848058        0.7040\n",
       "\n",
       "[18 rows x 6 columns]"
      ]
     },
     "execution_count": 262,
     "metadata": {},
     "output_type": "execute_result"
    }
   ],
   "source": [
    "model_bi_gru2_twitter50_results[['CategoricalCrossentropy', 'auc', 'accuracy', 'val_CategoricalCrossentropy', 'val_auc', 'val_accuracy']]"
   ]
  },
  {
   "cell_type": "code",
   "execution_count": 274,
   "metadata": {
    "colab": {
     "base_uri": "https://localhost:8080/",
     "height": 631
    },
    "executionInfo": {
     "elapsed": 4,
     "status": "ok",
     "timestamp": 1634611871102,
     "user": {
      "displayName": "Alexander Posterino",
      "photoUrl": "https://lh3.googleusercontent.com/a/default-user=s64",
      "userId": "02797547015372524958"
     },
     "user_tz": -660
    },
    "id": "83a0HJyhN8iA",
    "outputId": "d4a731db-af8b-4783-e0cb-87e165250451"
   },
   "outputs": [
    {
     "data": {
      "text/html": [
       "<div>\n",
       "<style scoped>\n",
       "    .dataframe tbody tr th:only-of-type {\n",
       "        vertical-align: middle;\n",
       "    }\n",
       "\n",
       "    .dataframe tbody tr th {\n",
       "        vertical-align: top;\n",
       "    }\n",
       "\n",
       "    .dataframe thead th {\n",
       "        text-align: right;\n",
       "    }\n",
       "</style>\n",
       "<table border=\"1\" class=\"dataframe\">\n",
       "  <thead>\n",
       "    <tr style=\"text-align: right;\">\n",
       "      <th></th>\n",
       "      <th>CategoricalCrossentropy</th>\n",
       "      <th>auc</th>\n",
       "      <th>accuracy</th>\n",
       "      <th>val_CategoricalCrossentropy</th>\n",
       "      <th>val_auc</th>\n",
       "      <th>val_accuracy</th>\n",
       "    </tr>\n",
       "  </thead>\n",
       "  <tbody>\n",
       "    <tr>\n",
       "      <th>0</th>\n",
       "      <td>0.977958</td>\n",
       "      <td>0.818232</td>\n",
       "      <td>0.707176</td>\n",
       "      <td>0.929376</td>\n",
       "      <td>0.832673</td>\n",
       "      <td>0.6928</td>\n",
       "    </tr>\n",
       "    <tr>\n",
       "      <th>1</th>\n",
       "      <td>0.927251</td>\n",
       "      <td>0.830044</td>\n",
       "      <td>0.714571</td>\n",
       "      <td>0.919156</td>\n",
       "      <td>0.838960</td>\n",
       "      <td>0.6928</td>\n",
       "    </tr>\n",
       "    <tr>\n",
       "      <th>2</th>\n",
       "      <td>0.901262</td>\n",
       "      <td>0.842585</td>\n",
       "      <td>0.716970</td>\n",
       "      <td>0.917437</td>\n",
       "      <td>0.843896</td>\n",
       "      <td>0.6944</td>\n",
       "    </tr>\n",
       "    <tr>\n",
       "      <th>3</th>\n",
       "      <td>0.897133</td>\n",
       "      <td>0.843765</td>\n",
       "      <td>0.717969</td>\n",
       "      <td>0.912500</td>\n",
       "      <td>0.850129</td>\n",
       "      <td>0.6928</td>\n",
       "    </tr>\n",
       "    <tr>\n",
       "      <th>4</th>\n",
       "      <td>0.884264</td>\n",
       "      <td>0.848791</td>\n",
       "      <td>0.719168</td>\n",
       "      <td>0.911424</td>\n",
       "      <td>0.850916</td>\n",
       "      <td>0.6976</td>\n",
       "    </tr>\n",
       "    <tr>\n",
       "      <th>5</th>\n",
       "      <td>0.878204</td>\n",
       "      <td>0.851876</td>\n",
       "      <td>0.721567</td>\n",
       "      <td>0.909392</td>\n",
       "      <td>0.848142</td>\n",
       "      <td>0.6960</td>\n",
       "    </tr>\n",
       "    <tr>\n",
       "      <th>6</th>\n",
       "      <td>0.879389</td>\n",
       "      <td>0.852124</td>\n",
       "      <td>0.722367</td>\n",
       "      <td>0.899738</td>\n",
       "      <td>0.851725</td>\n",
       "      <td>0.6976</td>\n",
       "    </tr>\n",
       "    <tr>\n",
       "      <th>7</th>\n",
       "      <td>0.863084</td>\n",
       "      <td>0.858688</td>\n",
       "      <td>0.722167</td>\n",
       "      <td>0.908402</td>\n",
       "      <td>0.848518</td>\n",
       "      <td>0.6976</td>\n",
       "    </tr>\n",
       "    <tr>\n",
       "      <th>8</th>\n",
       "      <td>0.863380</td>\n",
       "      <td>0.859428</td>\n",
       "      <td>0.721167</td>\n",
       "      <td>0.917122</td>\n",
       "      <td>0.847942</td>\n",
       "      <td>0.6944</td>\n",
       "    </tr>\n",
       "    <tr>\n",
       "      <th>9</th>\n",
       "      <td>0.858439</td>\n",
       "      <td>0.861834</td>\n",
       "      <td>0.721767</td>\n",
       "      <td>0.920212</td>\n",
       "      <td>0.845320</td>\n",
       "      <td>0.6912</td>\n",
       "    </tr>\n",
       "    <tr>\n",
       "      <th>10</th>\n",
       "      <td>0.852978</td>\n",
       "      <td>0.862849</td>\n",
       "      <td>0.721967</td>\n",
       "      <td>0.905276</td>\n",
       "      <td>0.852427</td>\n",
       "      <td>0.6992</td>\n",
       "    </tr>\n",
       "    <tr>\n",
       "      <th>11</th>\n",
       "      <td>0.842418</td>\n",
       "      <td>0.869011</td>\n",
       "      <td>0.725165</td>\n",
       "      <td>0.907088</td>\n",
       "      <td>0.851686</td>\n",
       "      <td>0.6992</td>\n",
       "    </tr>\n",
       "    <tr>\n",
       "      <th>12</th>\n",
       "      <td>0.845557</td>\n",
       "      <td>0.868918</td>\n",
       "      <td>0.721167</td>\n",
       "      <td>0.907622</td>\n",
       "      <td>0.852059</td>\n",
       "      <td>0.6928</td>\n",
       "    </tr>\n",
       "    <tr>\n",
       "      <th>13</th>\n",
       "      <td>0.832143</td>\n",
       "      <td>0.871910</td>\n",
       "      <td>0.724565</td>\n",
       "      <td>0.925538</td>\n",
       "      <td>0.848374</td>\n",
       "      <td>0.6992</td>\n",
       "    </tr>\n",
       "    <tr>\n",
       "      <th>14</th>\n",
       "      <td>0.838743</td>\n",
       "      <td>0.870301</td>\n",
       "      <td>0.724365</td>\n",
       "      <td>0.926018</td>\n",
       "      <td>0.847826</td>\n",
       "      <td>0.6976</td>\n",
       "    </tr>\n",
       "    <tr>\n",
       "      <th>15</th>\n",
       "      <td>0.829893</td>\n",
       "      <td>0.872591</td>\n",
       "      <td>0.725765</td>\n",
       "      <td>0.910449</td>\n",
       "      <td>0.854088</td>\n",
       "      <td>0.6960</td>\n",
       "    </tr>\n",
       "    <tr>\n",
       "      <th>16</th>\n",
       "      <td>0.830823</td>\n",
       "      <td>0.873351</td>\n",
       "      <td>0.727563</td>\n",
       "      <td>0.906855</td>\n",
       "      <td>0.855174</td>\n",
       "      <td>0.6960</td>\n",
       "    </tr>\n",
       "    <tr>\n",
       "      <th>17</th>\n",
       "      <td>0.826518</td>\n",
       "      <td>0.874688</td>\n",
       "      <td>0.729562</td>\n",
       "      <td>0.925298</td>\n",
       "      <td>0.846242</td>\n",
       "      <td>0.6944</td>\n",
       "    </tr>\n",
       "    <tr>\n",
       "      <th>18</th>\n",
       "      <td>0.817498</td>\n",
       "      <td>0.878401</td>\n",
       "      <td>0.727563</td>\n",
       "      <td>0.931584</td>\n",
       "      <td>0.852201</td>\n",
       "      <td>0.6944</td>\n",
       "    </tr>\n",
       "  </tbody>\n",
       "</table>\n",
       "</div>"
      ],
      "text/plain": [
       "    CategoricalCrossentropy       auc  ...   val_auc  val_accuracy\n",
       "0                  0.977958  0.818232  ...  0.832673        0.6928\n",
       "1                  0.927251  0.830044  ...  0.838960        0.6928\n",
       "2                  0.901262  0.842585  ...  0.843896        0.6944\n",
       "3                  0.897133  0.843765  ...  0.850129        0.6928\n",
       "4                  0.884264  0.848791  ...  0.850916        0.6976\n",
       "5                  0.878204  0.851876  ...  0.848142        0.6960\n",
       "6                  0.879389  0.852124  ...  0.851725        0.6976\n",
       "7                  0.863084  0.858688  ...  0.848518        0.6976\n",
       "8                  0.863380  0.859428  ...  0.847942        0.6944\n",
       "9                  0.858439  0.861834  ...  0.845320        0.6912\n",
       "10                 0.852978  0.862849  ...  0.852427        0.6992\n",
       "11                 0.842418  0.869011  ...  0.851686        0.6992\n",
       "12                 0.845557  0.868918  ...  0.852059        0.6928\n",
       "13                 0.832143  0.871910  ...  0.848374        0.6992\n",
       "14                 0.838743  0.870301  ...  0.847826        0.6976\n",
       "15                 0.829893  0.872591  ...  0.854088        0.6960\n",
       "16                 0.830823  0.873351  ...  0.855174        0.6960\n",
       "17                 0.826518  0.874688  ...  0.846242        0.6944\n",
       "18                 0.817498  0.878401  ...  0.852201        0.6944\n",
       "\n",
       "[19 rows x 6 columns]"
      ]
     },
     "execution_count": 274,
     "metadata": {},
     "output_type": "execute_result"
    }
   ],
   "source": [
    "model_bi_gru2_glove_50_results[['CategoricalCrossentropy', 'auc', 'accuracy', 'val_CategoricalCrossentropy', 'val_auc', 'val_accuracy']]"
   ]
  },
  {
   "cell_type": "code",
   "execution_count": 286,
   "metadata": {
    "colab": {
     "base_uri": "https://localhost:8080/",
     "height": 570
    },
    "executionInfo": {
     "elapsed": 324,
     "status": "ok",
     "timestamp": 1634612332107,
     "user": {
      "displayName": "Alexander Posterino",
      "photoUrl": "https://lh3.googleusercontent.com/a/default-user=s64",
      "userId": "02797547015372524958"
     },
     "user_tz": -660
    },
    "id": "_b5PMhzNzjkr",
    "outputId": "546ad11c-c567-4638-cbf8-e1fcdcc0d02d"
   },
   "outputs": [
    {
     "data": {
      "text/html": [
       "<div>\n",
       "<style scoped>\n",
       "    .dataframe tbody tr th:only-of-type {\n",
       "        vertical-align: middle;\n",
       "    }\n",
       "\n",
       "    .dataframe tbody tr th {\n",
       "        vertical-align: top;\n",
       "    }\n",
       "\n",
       "    .dataframe thead th {\n",
       "        text-align: right;\n",
       "    }\n",
       "</style>\n",
       "<table border=\"1\" class=\"dataframe\">\n",
       "  <thead>\n",
       "    <tr style=\"text-align: right;\">\n",
       "      <th></th>\n",
       "      <th>CategoricalCrossentropy</th>\n",
       "      <th>auc</th>\n",
       "      <th>accuracy</th>\n",
       "      <th>val_CategoricalCrossentropy</th>\n",
       "      <th>val_auc</th>\n",
       "      <th>val_accuracy</th>\n",
       "    </tr>\n",
       "  </thead>\n",
       "  <tbody>\n",
       "    <tr>\n",
       "      <th>0</th>\n",
       "      <td>0.988235</td>\n",
       "      <td>0.816482</td>\n",
       "      <td>0.706376</td>\n",
       "      <td>0.975557</td>\n",
       "      <td>0.818604</td>\n",
       "      <td>0.6928</td>\n",
       "    </tr>\n",
       "    <tr>\n",
       "      <th>1</th>\n",
       "      <td>0.927759</td>\n",
       "      <td>0.832254</td>\n",
       "      <td>0.717170</td>\n",
       "      <td>0.943972</td>\n",
       "      <td>0.828074</td>\n",
       "      <td>0.6976</td>\n",
       "    </tr>\n",
       "    <tr>\n",
       "      <th>2</th>\n",
       "      <td>0.903516</td>\n",
       "      <td>0.843135</td>\n",
       "      <td>0.717370</td>\n",
       "      <td>0.907889</td>\n",
       "      <td>0.846045</td>\n",
       "      <td>0.6976</td>\n",
       "    </tr>\n",
       "    <tr>\n",
       "      <th>3</th>\n",
       "      <td>0.890812</td>\n",
       "      <td>0.847869</td>\n",
       "      <td>0.721967</td>\n",
       "      <td>0.907531</td>\n",
       "      <td>0.846117</td>\n",
       "      <td>0.6992</td>\n",
       "    </tr>\n",
       "    <tr>\n",
       "      <th>4</th>\n",
       "      <td>0.886301</td>\n",
       "      <td>0.850069</td>\n",
       "      <td>0.718969</td>\n",
       "      <td>0.892918</td>\n",
       "      <td>0.852930</td>\n",
       "      <td>0.6992</td>\n",
       "    </tr>\n",
       "    <tr>\n",
       "      <th>5</th>\n",
       "      <td>0.864432</td>\n",
       "      <td>0.859394</td>\n",
       "      <td>0.720768</td>\n",
       "      <td>0.908473</td>\n",
       "      <td>0.850659</td>\n",
       "      <td>0.6976</td>\n",
       "    </tr>\n",
       "    <tr>\n",
       "      <th>6</th>\n",
       "      <td>0.857164</td>\n",
       "      <td>0.864324</td>\n",
       "      <td>0.720168</td>\n",
       "      <td>0.920989</td>\n",
       "      <td>0.848168</td>\n",
       "      <td>0.6816</td>\n",
       "    </tr>\n",
       "    <tr>\n",
       "      <th>7</th>\n",
       "      <td>0.851192</td>\n",
       "      <td>0.867202</td>\n",
       "      <td>0.721767</td>\n",
       "      <td>0.911662</td>\n",
       "      <td>0.851032</td>\n",
       "      <td>0.6976</td>\n",
       "    </tr>\n",
       "    <tr>\n",
       "      <th>8</th>\n",
       "      <td>0.849225</td>\n",
       "      <td>0.867633</td>\n",
       "      <td>0.722367</td>\n",
       "      <td>0.899983</td>\n",
       "      <td>0.853115</td>\n",
       "      <td>0.7024</td>\n",
       "    </tr>\n",
       "    <tr>\n",
       "      <th>9</th>\n",
       "      <td>0.844182</td>\n",
       "      <td>0.867425</td>\n",
       "      <td>0.726164</td>\n",
       "      <td>0.907464</td>\n",
       "      <td>0.850579</td>\n",
       "      <td>0.6976</td>\n",
       "    </tr>\n",
       "    <tr>\n",
       "      <th>10</th>\n",
       "      <td>0.832103</td>\n",
       "      <td>0.874107</td>\n",
       "      <td>0.726164</td>\n",
       "      <td>0.905319</td>\n",
       "      <td>0.854452</td>\n",
       "      <td>0.7024</td>\n",
       "    </tr>\n",
       "    <tr>\n",
       "      <th>11</th>\n",
       "      <td>0.823993</td>\n",
       "      <td>0.875468</td>\n",
       "      <td>0.728163</td>\n",
       "      <td>0.907017</td>\n",
       "      <td>0.857065</td>\n",
       "      <td>0.6944</td>\n",
       "    </tr>\n",
       "    <tr>\n",
       "      <th>12</th>\n",
       "      <td>0.803695</td>\n",
       "      <td>0.884121</td>\n",
       "      <td>0.729163</td>\n",
       "      <td>0.903479</td>\n",
       "      <td>0.856721</td>\n",
       "      <td>0.6976</td>\n",
       "    </tr>\n",
       "    <tr>\n",
       "      <th>13</th>\n",
       "      <td>0.812527</td>\n",
       "      <td>0.882054</td>\n",
       "      <td>0.729962</td>\n",
       "      <td>0.928434</td>\n",
       "      <td>0.858558</td>\n",
       "      <td>0.6928</td>\n",
       "    </tr>\n",
       "    <tr>\n",
       "      <th>14</th>\n",
       "      <td>0.800824</td>\n",
       "      <td>0.884514</td>\n",
       "      <td>0.733760</td>\n",
       "      <td>0.920390</td>\n",
       "      <td>0.852629</td>\n",
       "      <td>0.6976</td>\n",
       "    </tr>\n",
       "    <tr>\n",
       "      <th>15</th>\n",
       "      <td>0.789747</td>\n",
       "      <td>0.889990</td>\n",
       "      <td>0.729562</td>\n",
       "      <td>0.941611</td>\n",
       "      <td>0.852494</td>\n",
       "      <td>0.6928</td>\n",
       "    </tr>\n",
       "    <tr>\n",
       "      <th>16</th>\n",
       "      <td>0.785717</td>\n",
       "      <td>0.889737</td>\n",
       "      <td>0.732161</td>\n",
       "      <td>0.902660</td>\n",
       "      <td>0.859075</td>\n",
       "      <td>0.7008</td>\n",
       "    </tr>\n",
       "  </tbody>\n",
       "</table>\n",
       "</div>"
      ],
      "text/plain": [
       "    CategoricalCrossentropy       auc  ...   val_auc  val_accuracy\n",
       "0                  0.988235  0.816482  ...  0.818604        0.6928\n",
       "1                  0.927759  0.832254  ...  0.828074        0.6976\n",
       "2                  0.903516  0.843135  ...  0.846045        0.6976\n",
       "3                  0.890812  0.847869  ...  0.846117        0.6992\n",
       "4                  0.886301  0.850069  ...  0.852930        0.6992\n",
       "5                  0.864432  0.859394  ...  0.850659        0.6976\n",
       "6                  0.857164  0.864324  ...  0.848168        0.6816\n",
       "7                  0.851192  0.867202  ...  0.851032        0.6976\n",
       "8                  0.849225  0.867633  ...  0.853115        0.7024\n",
       "9                  0.844182  0.867425  ...  0.850579        0.6976\n",
       "10                 0.832103  0.874107  ...  0.854452        0.7024\n",
       "11                 0.823993  0.875468  ...  0.857065        0.6944\n",
       "12                 0.803695  0.884121  ...  0.856721        0.6976\n",
       "13                 0.812527  0.882054  ...  0.858558        0.6928\n",
       "14                 0.800824  0.884514  ...  0.852629        0.6976\n",
       "15                 0.789747  0.889990  ...  0.852494        0.6928\n",
       "16                 0.785717  0.889737  ...  0.859075        0.7008\n",
       "\n",
       "[17 rows x 6 columns]"
      ]
     },
     "execution_count": 286,
     "metadata": {},
     "output_type": "execute_result"
    }
   ],
   "source": [
    "model_bi_gru2_glove_100_results[['CategoricalCrossentropy', 'auc', 'accuracy', 'val_CategoricalCrossentropy', 'val_auc', 'val_accuracy']]"
   ]
  },
  {
   "cell_type": "markdown",
   "metadata": {
    "id": "Ah8xK0JrKqhW"
   },
   "source": [
    "## Bidirectional LSTM Models with Convolutional Layers"
   ]
  },
  {
   "cell_type": "code",
   "execution_count": 627,
   "metadata": {
    "executionInfo": {
     "elapsed": 488,
     "status": "ok",
     "timestamp": 1634632048902,
     "user": {
      "displayName": "Alexander Posterino",
      "photoUrl": "https://lh3.googleusercontent.com/a/default-user=s64",
      "userId": "02797547015372524958"
     },
     "user_tz": -660
    },
    "id": "HqhAIbZzKX9J"
   },
   "outputs": [],
   "source": [
    "model_cnn_bi_lstm_results = pd.read_csv('/content/drive/MyDrive/COSC2779/Assessment_2/model_cnn_bi_lstm_twitter100.csv')\n",
    "model_bi_lstm_cnn_results = pd.read_csv('/content/drive/MyDrive/COSC2779/Assessment_2/model_bi_lstm_cnn_twitter100.csv')"
   ]
  },
  {
   "cell_type": "code",
   "execution_count": 679,
   "metadata": {
    "colab": {
     "base_uri": "https://localhost:8080/",
     "height": 312
    },
    "executionInfo": {
     "elapsed": 779,
     "status": "ok",
     "timestamp": 1634634215101,
     "user": {
      "displayName": "Alexander Posterino",
      "photoUrl": "https://lh3.googleusercontent.com/a/default-user=s64",
      "userId": "02797547015372524958"
     },
     "user_tz": -660
    },
    "id": "S8HcBA1kKX9J",
    "outputId": "922b6adc-72a9-492b-9c00-987e816debf6"
   },
   "outputs": [
    {
     "data": {
      "text/plain": [
       "<matplotlib.legend.Legend at 0x7f7d30d6ea10>"
      ]
     },
     "execution_count": 679,
     "metadata": {},
     "output_type": "execute_result"
    },
    {
     "data": {
      "image/png": "[encoded data removed]",
      "text/plain": [
       "<Figure size 432x288 with 1 Axes>"
      ]
     },
     "metadata": {
      "needs_background": "light"
     },
     "output_type": "display_data"
    }
   ],
   "source": [
    "plot_model(model_cnn_bi_lstm_results, 'CategoricalCrossentropy', \"B-Conv-LSTM\")\n",
    "add_model(model_bi_lstm_cnn_results, 'CategoricalCrossentropy', 'red')\n",
    "plt.legend(['B-Conv-LSTM train', 'B-Conv-LSTM val', 'B-LSTM-Conv train', 'B-LSTM-Conv val'])"
   ]
  },
  {
   "cell_type": "code",
   "execution_count": 680,
   "metadata": {
    "colab": {
     "base_uri": "https://localhost:8080/",
     "height": 312
    },
    "executionInfo": {
     "elapsed": 18,
     "status": "ok",
     "timestamp": 1634634216150,
     "user": {
      "displayName": "Alexander Posterino",
      "photoUrl": "https://lh3.googleusercontent.com/a/default-user=s64",
      "userId": "02797547015372524958"
     },
     "user_tz": -660
    },
    "id": "3JbIZRK7KX9J",
    "outputId": "98ffc54e-5a23-4be0-a81e-734aaaf59541"
   },
   "outputs": [
    {
     "data": {
      "text/plain": [
       "<matplotlib.legend.Legend at 0x7f7d30d029d0>"
      ]
     },
     "execution_count": 680,
     "metadata": {},
     "output_type": "execute_result"
    },
    {
     "data": {
      "image/png": "[encoded data removed]",
      "text/plain": [
       "<Figure size 432x288 with 1 Axes>"
      ]
     },
     "metadata": {
      "needs_background": "light"
     },
     "output_type": "display_data"
    }
   ],
   "source": [
    "plot_model(model_cnn_bi_lstm_results, 'auc', \"B-Conv-LSTM\")\n",
    "add_model(model_bi_lstm_cnn_results, 'auc', 'red')\n",
    "plt.legend(['B-Conv-LSTM train', 'B-Conv-LSTM val', 'B-LSTM-Conv train', 'B-LSTM-Conv val'])"
   ]
  },
  {
   "cell_type": "code",
   "execution_count": 681,
   "metadata": {
    "colab": {
     "base_uri": "https://localhost:8080/",
     "height": 312
    },
    "executionInfo": {
     "elapsed": 11,
     "status": "ok",
     "timestamp": 1634634216151,
     "user": {
      "displayName": "Alexander Posterino",
      "photoUrl": "https://lh3.googleusercontent.com/a/default-user=s64",
      "userId": "02797547015372524958"
     },
     "user_tz": -660
    },
    "id": "Rs6v5uScKX9J",
    "outputId": "d3f354e8-ac45-4242-ef06-8cd3ff7ee436"
   },
   "outputs": [
    {
     "data": {
      "text/plain": [
       "<matplotlib.legend.Legend at 0x7f7d30bc6e50>"
      ]
     },
     "execution_count": 681,
     "metadata": {},
     "output_type": "execute_result"
    },
    {
     "data": {
      "image/png": "[encoded data removed]",
      "text/plain": [
       "<Figure size 432x288 with 1 Axes>"
      ]
     },
     "metadata": {
      "needs_background": "light"
     },
     "output_type": "display_data"
    }
   ],
   "source": [
    "plot_model(model_cnn_bi_lstm_results, 'accuracy', \"B-Conv-LSTM\")\n",
    "add_model(model_bi_lstm_cnn_results, 'accuracy', 'red')\n",
    "plt.legend(['B-Conv-LSTM train', 'B-Conv-LSTM val', 'B-LSTM-Conv train', 'B-LSTM-Conv val'])"
   ]
  },
  {
   "cell_type": "code",
   "execution_count": 359,
   "metadata": {
    "colab": {
     "base_uri": "https://localhost:8080/",
     "height": 324
    },
    "executionInfo": {
     "elapsed": 3,
     "status": "ok",
     "timestamp": 1634614084788,
     "user": {
      "displayName": "Alexander Posterino",
      "photoUrl": "https://lh3.googleusercontent.com/a/default-user=s64",
      "userId": "02797547015372524958"
     },
     "user_tz": -660
    },
    "id": "phYypY_-KX9K",
    "outputId": "11f705ea-a8aa-46a6-b76a-da2c99799fe4"
   },
   "outputs": [
    {
     "data": {
      "text/html": [
       "<div>\n",
       "<style scoped>\n",
       "    .dataframe tbody tr th:only-of-type {\n",
       "        vertical-align: middle;\n",
       "    }\n",
       "\n",
       "    .dataframe tbody tr th {\n",
       "        vertical-align: top;\n",
       "    }\n",
       "\n",
       "    .dataframe thead th {\n",
       "        text-align: right;\n",
       "    }\n",
       "</style>\n",
       "<table border=\"1\" class=\"dataframe\">\n",
       "  <thead>\n",
       "    <tr style=\"text-align: right;\">\n",
       "      <th></th>\n",
       "      <th>CategoricalCrossentropy</th>\n",
       "      <th>auc</th>\n",
       "      <th>accuracy</th>\n",
       "      <th>val_CategoricalCrossentropy</th>\n",
       "      <th>val_auc</th>\n",
       "      <th>val_accuracy</th>\n",
       "    </tr>\n",
       "  </thead>\n",
       "  <tbody>\n",
       "    <tr>\n",
       "      <th>0</th>\n",
       "      <td>0.931539</td>\n",
       "      <td>0.822690</td>\n",
       "      <td>0.713172</td>\n",
       "      <td>0.953034</td>\n",
       "      <td>0.825576</td>\n",
       "      <td>0.6928</td>\n",
       "    </tr>\n",
       "    <tr>\n",
       "      <th>1</th>\n",
       "      <td>0.875053</td>\n",
       "      <td>0.848758</td>\n",
       "      <td>0.717569</td>\n",
       "      <td>0.890461</td>\n",
       "      <td>0.857846</td>\n",
       "      <td>0.6960</td>\n",
       "    </tr>\n",
       "    <tr>\n",
       "      <th>2</th>\n",
       "      <td>0.848424</td>\n",
       "      <td>0.866757</td>\n",
       "      <td>0.719768</td>\n",
       "      <td>0.892733</td>\n",
       "      <td>0.853750</td>\n",
       "      <td>0.6960</td>\n",
       "    </tr>\n",
       "    <tr>\n",
       "      <th>3</th>\n",
       "      <td>0.810033</td>\n",
       "      <td>0.882819</td>\n",
       "      <td>0.725365</td>\n",
       "      <td>0.906930</td>\n",
       "      <td>0.852500</td>\n",
       "      <td>0.6992</td>\n",
       "    </tr>\n",
       "    <tr>\n",
       "      <th>4</th>\n",
       "      <td>0.779356</td>\n",
       "      <td>0.892989</td>\n",
       "      <td>0.735159</td>\n",
       "      <td>0.895633</td>\n",
       "      <td>0.853520</td>\n",
       "      <td>0.6976</td>\n",
       "    </tr>\n",
       "    <tr>\n",
       "      <th>5</th>\n",
       "      <td>0.741739</td>\n",
       "      <td>0.903604</td>\n",
       "      <td>0.742155</td>\n",
       "      <td>0.896500</td>\n",
       "      <td>0.859818</td>\n",
       "      <td>0.6992</td>\n",
       "    </tr>\n",
       "    <tr>\n",
       "      <th>6</th>\n",
       "      <td>0.686365</td>\n",
       "      <td>0.918954</td>\n",
       "      <td>0.753548</td>\n",
       "      <td>0.907844</td>\n",
       "      <td>0.856801</td>\n",
       "      <td>0.6928</td>\n",
       "    </tr>\n",
       "    <tr>\n",
       "      <th>7</th>\n",
       "      <td>0.640745</td>\n",
       "      <td>0.929188</td>\n",
       "      <td>0.769738</td>\n",
       "      <td>0.965389</td>\n",
       "      <td>0.852929</td>\n",
       "      <td>0.6848</td>\n",
       "    </tr>\n",
       "    <tr>\n",
       "      <th>8</th>\n",
       "      <td>0.586962</td>\n",
       "      <td>0.940923</td>\n",
       "      <td>0.790726</td>\n",
       "      <td>1.003560</td>\n",
       "      <td>0.849281</td>\n",
       "      <td>0.6864</td>\n",
       "    </tr>\n",
       "  </tbody>\n",
       "</table>\n",
       "</div>"
      ],
      "text/plain": [
       "   CategoricalCrossentropy       auc  ...   val_auc  val_accuracy\n",
       "0                 0.931539  0.822690  ...  0.825576        0.6928\n",
       "1                 0.875053  0.848758  ...  0.857846        0.6960\n",
       "2                 0.848424  0.866757  ...  0.853750        0.6960\n",
       "3                 0.810033  0.882819  ...  0.852500        0.6992\n",
       "4                 0.779356  0.892989  ...  0.853520        0.6976\n",
       "5                 0.741739  0.903604  ...  0.859818        0.6992\n",
       "6                 0.686365  0.918954  ...  0.856801        0.6928\n",
       "7                 0.640745  0.929188  ...  0.852929        0.6848\n",
       "8                 0.586962  0.940923  ...  0.849281        0.6864\n",
       "\n",
       "[9 rows x 6 columns]"
      ]
     },
     "execution_count": 359,
     "metadata": {},
     "output_type": "execute_result"
    }
   ],
   "source": [
    "model_cnn_bi_lstm_results[['CategoricalCrossentropy', 'auc', 'accuracy', 'val_CategoricalCrossentropy', 'val_auc', 'val_accuracy']]"
   ]
  },
  {
   "cell_type": "code",
   "execution_count": 367,
   "metadata": {
    "colab": {
     "base_uri": "https://localhost:8080/",
     "height": 355
    },
    "executionInfo": {
     "elapsed": 4,
     "status": "ok",
     "timestamp": 1634614211479,
     "user": {
      "displayName": "Alexander Posterino",
      "photoUrl": "https://lh3.googleusercontent.com/a/default-user=s64",
      "userId": "02797547015372524958"
     },
     "user_tz": -660
    },
    "id": "dhexuPPbQvoO",
    "outputId": "445b0b88-fe31-4ebf-ee8e-8247472d33f0"
   },
   "outputs": [
    {
     "data": {
      "text/html": [
       "<div>\n",
       "<style scoped>\n",
       "    .dataframe tbody tr th:only-of-type {\n",
       "        vertical-align: middle;\n",
       "    }\n",
       "\n",
       "    .dataframe tbody tr th {\n",
       "        vertical-align: top;\n",
       "    }\n",
       "\n",
       "    .dataframe thead th {\n",
       "        text-align: right;\n",
       "    }\n",
       "</style>\n",
       "<table border=\"1\" class=\"dataframe\">\n",
       "  <thead>\n",
       "    <tr style=\"text-align: right;\">\n",
       "      <th></th>\n",
       "      <th>CategoricalCrossentropy</th>\n",
       "      <th>auc</th>\n",
       "      <th>accuracy</th>\n",
       "      <th>val_CategoricalCrossentropy</th>\n",
       "      <th>val_auc</th>\n",
       "      <th>val_accuracy</th>\n",
       "    </tr>\n",
       "  </thead>\n",
       "  <tbody>\n",
       "    <tr>\n",
       "      <th>0</th>\n",
       "      <td>0.945384</td>\n",
       "      <td>0.824691</td>\n",
       "      <td>0.708575</td>\n",
       "      <td>0.944392</td>\n",
       "      <td>0.823735</td>\n",
       "      <td>0.6928</td>\n",
       "    </tr>\n",
       "    <tr>\n",
       "      <th>1</th>\n",
       "      <td>0.885275</td>\n",
       "      <td>0.846974</td>\n",
       "      <td>0.713172</td>\n",
       "      <td>0.909512</td>\n",
       "      <td>0.845931</td>\n",
       "      <td>0.6928</td>\n",
       "    </tr>\n",
       "    <tr>\n",
       "      <th>2</th>\n",
       "      <td>0.856508</td>\n",
       "      <td>0.862806</td>\n",
       "      <td>0.717769</td>\n",
       "      <td>0.905376</td>\n",
       "      <td>0.847878</td>\n",
       "      <td>0.6896</td>\n",
       "    </tr>\n",
       "    <tr>\n",
       "      <th>3</th>\n",
       "      <td>0.838320</td>\n",
       "      <td>0.872195</td>\n",
       "      <td>0.722367</td>\n",
       "      <td>0.917112</td>\n",
       "      <td>0.849635</td>\n",
       "      <td>0.6928</td>\n",
       "    </tr>\n",
       "    <tr>\n",
       "      <th>4</th>\n",
       "      <td>0.817675</td>\n",
       "      <td>0.880878</td>\n",
       "      <td>0.721767</td>\n",
       "      <td>0.884896</td>\n",
       "      <td>0.860447</td>\n",
       "      <td>0.6928</td>\n",
       "    </tr>\n",
       "    <tr>\n",
       "      <th>5</th>\n",
       "      <td>0.798078</td>\n",
       "      <td>0.887272</td>\n",
       "      <td>0.725365</td>\n",
       "      <td>0.920994</td>\n",
       "      <td>0.848601</td>\n",
       "      <td>0.6896</td>\n",
       "    </tr>\n",
       "    <tr>\n",
       "      <th>6</th>\n",
       "      <td>0.782806</td>\n",
       "      <td>0.893383</td>\n",
       "      <td>0.725964</td>\n",
       "      <td>0.903623</td>\n",
       "      <td>0.852542</td>\n",
       "      <td>0.6928</td>\n",
       "    </tr>\n",
       "    <tr>\n",
       "      <th>7</th>\n",
       "      <td>0.747288</td>\n",
       "      <td>0.903168</td>\n",
       "      <td>0.732760</td>\n",
       "      <td>0.910954</td>\n",
       "      <td>0.858637</td>\n",
       "      <td>0.6976</td>\n",
       "    </tr>\n",
       "    <tr>\n",
       "      <th>8</th>\n",
       "      <td>0.728928</td>\n",
       "      <td>0.908741</td>\n",
       "      <td>0.733360</td>\n",
       "      <td>1.014515</td>\n",
       "      <td>0.854165</td>\n",
       "      <td>0.6976</td>\n",
       "    </tr>\n",
       "    <tr>\n",
       "      <th>9</th>\n",
       "      <td>0.694282</td>\n",
       "      <td>0.917494</td>\n",
       "      <td>0.739956</td>\n",
       "      <td>1.104853</td>\n",
       "      <td>0.839653</td>\n",
       "      <td>0.6944</td>\n",
       "    </tr>\n",
       "  </tbody>\n",
       "</table>\n",
       "</div>"
      ],
      "text/plain": [
       "   CategoricalCrossentropy       auc  ...   val_auc  val_accuracy\n",
       "0                 0.945384  0.824691  ...  0.823735        0.6928\n",
       "1                 0.885275  0.846974  ...  0.845931        0.6928\n",
       "2                 0.856508  0.862806  ...  0.847878        0.6896\n",
       "3                 0.838320  0.872195  ...  0.849635        0.6928\n",
       "4                 0.817675  0.880878  ...  0.860447        0.6928\n",
       "5                 0.798078  0.887272  ...  0.848601        0.6896\n",
       "6                 0.782806  0.893383  ...  0.852542        0.6928\n",
       "7                 0.747288  0.903168  ...  0.858637        0.6976\n",
       "8                 0.728928  0.908741  ...  0.854165        0.6976\n",
       "9                 0.694282  0.917494  ...  0.839653        0.6944\n",
       "\n",
       "[10 rows x 6 columns]"
      ]
     },
     "execution_count": 367,
     "metadata": {},
     "output_type": "execute_result"
    }
   ],
   "source": [
    "model_bi_lstm_cnn_results[['CategoricalCrossentropy', 'auc', 'accuracy', 'val_CategoricalCrossentropy', 'val_auc', 'val_accuracy']]"
   ]
  },
  {
   "cell_type": "markdown",
   "metadata": {
    "id": "9UMdq7NGU8Oy"
   },
   "source": [
    "## Bidirectional GRU Model using RMSprop Optimisation"
   ]
  },
  {
   "cell_type": "code",
   "execution_count": 373,
   "metadata": {
    "executionInfo": {
     "elapsed": 553,
     "status": "ok",
     "timestamp": 1634614572839,
     "user": {
      "displayName": "Alexander Posterino",
      "photoUrl": "https://lh3.googleusercontent.com/a/default-user=s64",
      "userId": "02797547015372524958"
     },
     "user_tz": -660
    },
    "id": "g0-tiCJhU8O4"
   },
   "outputs": [],
   "source": [
    "model_bi_gru2_rmsprop_results = pd.read_csv('/content/drive/MyDrive/COSC2779/Assessment_2/model_bi_gru2_rmsprop_twitter100.csv')"
   ]
  },
  {
   "cell_type": "code",
   "execution_count": 682,
   "metadata": {
    "colab": {
     "base_uri": "https://localhost:8080/",
     "height": 312
    },
    "executionInfo": {
     "elapsed": 496,
     "status": "ok",
     "timestamp": 1634634218736,
     "user": {
      "displayName": "Alexander Posterino",
      "photoUrl": "https://lh3.googleusercontent.com/a/default-user=s64",
      "userId": "02797547015372524958"
     },
     "user_tz": -660
    },
    "id": "2ZoPGS3-U8O4",
    "outputId": "bf0383a4-3dc9-4413-e0c0-6691e94c4079"
   },
   "outputs": [
    {
     "data": {
      "text/plain": [
       "<matplotlib.legend.Legend at 0x7f7d30bc6610>"
      ]
     },
     "execution_count": 682,
     "metadata": {},
     "output_type": "execute_result"
    },
    {
     "data": {
      "image/png": "[encoded data removed]",
      "text/plain": [
       "<Figure size 432x288 with 1 Axes>"
      ]
     },
     "metadata": {
      "needs_background": "light"
     },
     "output_type": "display_data"
    }
   ],
   "source": [
    "plot_model(model_cnn_bi_lstm_results, 'CategoricalCrossentropy', \"GRU by RMSprop\")\n",
    "plt.legend(['B-GRU-RMS train', 'B-GRU-RMS val'])"
   ]
  },
  {
   "cell_type": "code",
   "execution_count": 683,
   "metadata": {
    "colab": {
     "base_uri": "https://localhost:8080/",
     "height": 312
    },
    "executionInfo": {
     "elapsed": 18,
     "status": "ok",
     "timestamp": 1634634219531,
     "user": {
      "displayName": "Alexander Posterino",
      "photoUrl": "https://lh3.googleusercontent.com/a/default-user=s64",
      "userId": "02797547015372524958"
     },
     "user_tz": -660
    },
    "id": "ccghhvh5U8O4",
    "outputId": "cd0c9974-7d2c-442a-85c2-8b93ed13a853"
   },
   "outputs": [
    {
     "data": {
      "text/plain": [
       "<matplotlib.legend.Legend at 0x7f7d30bc6e90>"
      ]
     },
     "execution_count": 683,
     "metadata": {},
     "output_type": "execute_result"
    },
    {
     "data": {
      "image/png": "[encoded data removed]",
      "text/plain": [
       "<Figure size 432x288 with 1 Axes>"
      ]
     },
     "metadata": {
      "needs_background": "light"
     },
     "output_type": "display_data"
    }
   ],
   "source": [
    "plot_model(model_cnn_bi_lstm_results, 'auc', \"GRU by RMSprop\")\n",
    "plt.legend(['B-GRU-RMS train', 'B-GRU-RMS val'])"
   ]
  },
  {
   "cell_type": "code",
   "execution_count": 684,
   "metadata": {
    "colab": {
     "base_uri": "https://localhost:8080/",
     "height": 312
    },
    "executionInfo": {
     "elapsed": 10,
     "status": "ok",
     "timestamp": 1634634219532,
     "user": {
      "displayName": "Alexander Posterino",
      "photoUrl": "https://lh3.googleusercontent.com/a/default-user=s64",
      "userId": "02797547015372524958"
     },
     "user_tz": -660
    },
    "id": "8OzQjT9rU8O4",
    "outputId": "8572d326-683b-43d3-9f3a-4d8995ed2adf"
   },
   "outputs": [
    {
     "data": {
      "text/plain": [
       "<matplotlib.legend.Legend at 0x7f7d30ad6590>"
      ]
     },
     "execution_count": 684,
     "metadata": {},
     "output_type": "execute_result"
    },
    {
     "data": {
      "image/png": "[encoded data removed]",
      "text/plain": [
       "<Figure size 432x288 with 1 Axes>"
      ]
     },
     "metadata": {
      "needs_background": "light"
     },
     "output_type": "display_data"
    }
   ],
   "source": [
    "plot_model(model_cnn_bi_lstm_results, 'accuracy', \"GRU by RMSprop\")\n",
    "plt.legend(['B-GRU-RMS train', 'B-GRU-RMS val'])"
   ]
  },
  {
   "cell_type": "code",
   "execution_count": 377,
   "metadata": {
    "colab": {
     "base_uri": "https://localhost:8080/",
     "height": 385
    },
    "executionInfo": {
     "elapsed": 5,
     "status": "ok",
     "timestamp": 1634614577935,
     "user": {
      "displayName": "Alexander Posterino",
      "photoUrl": "https://lh3.googleusercontent.com/a/default-user=s64",
      "userId": "02797547015372524958"
     },
     "user_tz": -660
    },
    "id": "YItnRkO6U8O4",
    "outputId": "23b4d93b-0594-479f-e3e2-cee18df0c4ce"
   },
   "outputs": [
    {
     "data": {
      "text/html": [
       "<div>\n",
       "<style scoped>\n",
       "    .dataframe tbody tr th:only-of-type {\n",
       "        vertical-align: middle;\n",
       "    }\n",
       "\n",
       "    .dataframe tbody tr th {\n",
       "        vertical-align: top;\n",
       "    }\n",
       "\n",
       "    .dataframe thead th {\n",
       "        text-align: right;\n",
       "    }\n",
       "</style>\n",
       "<table border=\"1\" class=\"dataframe\">\n",
       "  <thead>\n",
       "    <tr style=\"text-align: right;\">\n",
       "      <th></th>\n",
       "      <th>CategoricalCrossentropy</th>\n",
       "      <th>auc</th>\n",
       "      <th>accuracy</th>\n",
       "      <th>val_CategoricalCrossentropy</th>\n",
       "      <th>val_auc</th>\n",
       "      <th>val_accuracy</th>\n",
       "    </tr>\n",
       "  </thead>\n",
       "  <tbody>\n",
       "    <tr>\n",
       "      <th>0</th>\n",
       "      <td>0.992095</td>\n",
       "      <td>0.817926</td>\n",
       "      <td>0.701179</td>\n",
       "      <td>0.934458</td>\n",
       "      <td>0.824631</td>\n",
       "      <td>0.6928</td>\n",
       "    </tr>\n",
       "    <tr>\n",
       "      <th>1</th>\n",
       "      <td>0.916519</td>\n",
       "      <td>0.838137</td>\n",
       "      <td>0.715970</td>\n",
       "      <td>0.906713</td>\n",
       "      <td>0.843135</td>\n",
       "      <td>0.6960</td>\n",
       "    </tr>\n",
       "    <tr>\n",
       "      <th>2</th>\n",
       "      <td>0.895643</td>\n",
       "      <td>0.848916</td>\n",
       "      <td>0.718369</td>\n",
       "      <td>0.930155</td>\n",
       "      <td>0.842013</td>\n",
       "      <td>0.6880</td>\n",
       "    </tr>\n",
       "    <tr>\n",
       "      <th>3</th>\n",
       "      <td>0.888923</td>\n",
       "      <td>0.851246</td>\n",
       "      <td>0.719168</td>\n",
       "      <td>0.912952</td>\n",
       "      <td>0.846741</td>\n",
       "      <td>0.6976</td>\n",
       "    </tr>\n",
       "    <tr>\n",
       "      <th>4</th>\n",
       "      <td>0.866692</td>\n",
       "      <td>0.859867</td>\n",
       "      <td>0.723166</td>\n",
       "      <td>0.920231</td>\n",
       "      <td>0.847440</td>\n",
       "      <td>0.6960</td>\n",
       "    </tr>\n",
       "    <tr>\n",
       "      <th>5</th>\n",
       "      <td>0.858168</td>\n",
       "      <td>0.865449</td>\n",
       "      <td>0.719568</td>\n",
       "      <td>0.896752</td>\n",
       "      <td>0.852727</td>\n",
       "      <td>0.6992</td>\n",
       "    </tr>\n",
       "    <tr>\n",
       "      <th>6</th>\n",
       "      <td>0.851104</td>\n",
       "      <td>0.866056</td>\n",
       "      <td>0.723166</td>\n",
       "      <td>0.906229</td>\n",
       "      <td>0.849844</td>\n",
       "      <td>0.7024</td>\n",
       "    </tr>\n",
       "    <tr>\n",
       "      <th>7</th>\n",
       "      <td>0.842534</td>\n",
       "      <td>0.871040</td>\n",
       "      <td>0.721167</td>\n",
       "      <td>0.936602</td>\n",
       "      <td>0.847604</td>\n",
       "      <td>0.6944</td>\n",
       "    </tr>\n",
       "    <tr>\n",
       "      <th>8</th>\n",
       "      <td>0.836139</td>\n",
       "      <td>0.872022</td>\n",
       "      <td>0.723966</td>\n",
       "      <td>0.927490</td>\n",
       "      <td>0.849248</td>\n",
       "      <td>0.6960</td>\n",
       "    </tr>\n",
       "    <tr>\n",
       "      <th>9</th>\n",
       "      <td>0.816167</td>\n",
       "      <td>0.881225</td>\n",
       "      <td>0.723966</td>\n",
       "      <td>0.912068</td>\n",
       "      <td>0.854861</td>\n",
       "      <td>0.6976</td>\n",
       "    </tr>\n",
       "    <tr>\n",
       "      <th>10</th>\n",
       "      <td>0.815484</td>\n",
       "      <td>0.880493</td>\n",
       "      <td>0.728563</td>\n",
       "      <td>0.995974</td>\n",
       "      <td>0.850538</td>\n",
       "      <td>0.7040</td>\n",
       "    </tr>\n",
       "  </tbody>\n",
       "</table>\n",
       "</div>"
      ],
      "text/plain": [
       "    CategoricalCrossentropy       auc  ...   val_auc  val_accuracy\n",
       "0                  0.992095  0.817926  ...  0.824631        0.6928\n",
       "1                  0.916519  0.838137  ...  0.843135        0.6960\n",
       "2                  0.895643  0.848916  ...  0.842013        0.6880\n",
       "3                  0.888923  0.851246  ...  0.846741        0.6976\n",
       "4                  0.866692  0.859867  ...  0.847440        0.6960\n",
       "5                  0.858168  0.865449  ...  0.852727        0.6992\n",
       "6                  0.851104  0.866056  ...  0.849844        0.7024\n",
       "7                  0.842534  0.871040  ...  0.847604        0.6944\n",
       "8                  0.836139  0.872022  ...  0.849248        0.6960\n",
       "9                  0.816167  0.881225  ...  0.854861        0.6976\n",
       "10                 0.815484  0.880493  ...  0.850538        0.7040\n",
       "\n",
       "[11 rows x 6 columns]"
      ]
     },
     "execution_count": 377,
     "metadata": {},
     "output_type": "execute_result"
    }
   ],
   "source": [
    "model_bi_gru2_rmsprop_results[['CategoricalCrossentropy', 'auc', 'accuracy', 'val_CategoricalCrossentropy', 'val_auc', 'val_accuracy']]"
   ]
  },
  {
   "cell_type": "markdown",
   "metadata": {
    "id": "ZJ_paQG0WXls"
   },
   "source": [
    "# Predictions and Evaluation"
   ]
  },
  {
   "cell_type": "markdown",
   "metadata": {
    "id": "xZIPUrjqwxvG"
   },
   "source": [
    "## Selected Model"
   ]
  },
  {
   "cell_type": "markdown",
   "metadata": {
    "id": "kZ8PF37Xn-ny"
   },
   "source": [
    "### Bidirectional GRU Model"
   ]
  },
  {
   "cell_type": "code",
   "execution_count": 719,
   "metadata": {
    "executionInfo": {
     "elapsed": 337,
     "status": "ok",
     "timestamp": 1634636965608,
     "user": {
      "displayName": "Alexander Posterino",
      "photoUrl": "https://lh3.googleusercontent.com/a/default-user=s64",
      "userId": "02797547015372524958"
     },
     "user_tz": -660
    },
    "id": "hg5Kd5DyWX7Q"
   },
   "outputs": [],
   "source": [
    "model_bi_gru2.load_weights('/content/drive/MyDrive/COSC2779/Assessment_2/model_bi_gru2_twitter100.h5')"
   ]
  },
  {
   "cell_type": "code",
   "execution_count": 720,
   "metadata": {
    "executionInfo": {
     "elapsed": 509,
     "status": "ok",
     "timestamp": 1634636968469,
     "user": {
      "displayName": "Alexander Posterino",
      "photoUrl": "https://lh3.googleusercontent.com/a/default-user=s64",
      "userId": "02797547015372524958"
     },
     "user_tz": -660
    },
    "id": "R29rG_PhWiHP"
   },
   "outputs": [],
   "source": [
    "preds = model_bi_gru2.predict(X_test_pad)\n",
    "predicted_categories = tf.argmax(preds, axis=1)"
   ]
  },
  {
   "cell_type": "code",
   "execution_count": 721,
   "metadata": {
    "colab": {
     "base_uri": "https://localhost:8080/"
    },
    "executionInfo": {
     "elapsed": 7,
     "status": "ok",
     "timestamp": 1634636969019,
     "user": {
      "displayName": "Alexander Posterino",
      "photoUrl": "https://lh3.googleusercontent.com/a/default-user=s64",
      "userId": "02797547015372524958"
     },
     "user_tz": -660
    },
    "id": "8LcsI0mdWjxo",
    "outputId": "81184c81-ebf5-4c93-e98d-1dd6dd8b4e8c"
   },
   "outputs": [
    {
     "data": {
      "text/plain": [
       "<tf.Tensor: shape=(625,), dtype=int64, numpy=\n",
       "array([0, 2, 0, 0, 0, 0, 0, 0, 0, 0, 0, 0, 0, 0, 0, 0, 0, 0, 0, 0, 0, 0,\n",
       "       0, 0, 3, 0, 0, 0, 0, 0, 0, 0, 0, 1, 0, 0, 0, 0, 0, 0, 0, 0, 0, 0,\n",
       "       0, 0, 0, 0, 0, 0, 1, 0, 0, 0, 0, 0, 0, 0, 0, 1, 0, 0, 0, 0, 0, 0,\n",
       "       0, 0, 0, 0, 0, 0, 0, 0, 0, 0, 0, 0, 0, 0, 0, 0, 0, 0, 0, 3, 0, 0,\n",
       "       0, 0, 0, 0, 0, 0, 0, 0, 0, 0, 1, 3, 0, 0, 0, 0, 1, 0, 0, 0, 0, 0,\n",
       "       0, 1, 0, 0, 0, 0, 0, 0, 0, 0, 0, 0, 0, 0, 2, 0, 0, 0, 3, 0, 0, 0,\n",
       "       0, 0, 0, 0, 0, 0, 0, 0, 0, 0, 0, 0, 0, 0, 0, 0, 2, 1, 0, 0, 0, 0,\n",
       "       0, 1, 0, 0, 0, 1, 0, 0, 0, 0, 0, 0, 0, 0, 0, 0, 0, 0, 0, 0, 0, 0,\n",
       "       0, 1, 0, 0, 0, 0, 0, 0, 0, 0, 0, 0, 0, 0, 0, 0, 0, 0, 0, 0, 0, 0,\n",
       "       0, 0, 0, 0, 0, 0, 0, 2, 0, 0, 0, 0, 0, 0, 0, 0, 0, 0, 0, 0, 0, 0,\n",
       "       0, 0, 0, 0, 0, 0, 0, 0, 0, 0, 0, 0, 0, 0, 0, 0, 0, 0, 0, 0, 1, 0,\n",
       "       0, 0, 0, 0, 0, 0, 0, 0, 0, 0, 2, 0, 0, 0, 0, 0, 0, 0, 0, 0, 2, 0,\n",
       "       0, 0, 2, 1, 0, 0, 0, 2, 0, 0, 0, 0, 1, 0, 0, 0, 0, 0, 0, 0, 1, 0,\n",
       "       0, 0, 0, 0, 0, 0, 0, 0, 1, 1, 0, 0, 1, 0, 0, 1, 0, 0, 2, 0, 0, 0,\n",
       "       0, 0, 0, 0, 0, 0, 0, 0, 0, 0, 0, 0, 0, 0, 0, 0, 0, 3, 0, 0, 0, 0,\n",
       "       0, 0, 0, 0, 0, 0, 0, 0, 0, 2, 0, 0, 0, 0, 0, 0, 0, 0, 0, 0, 0, 0,\n",
       "       0, 0, 0, 0, 0, 1, 0, 0, 0, 0, 0, 0, 0, 0, 0, 0, 0, 0, 0, 0, 0, 0,\n",
       "       0, 0, 0, 0, 0, 0, 0, 0, 0, 0, 0, 0, 0, 0, 0, 0, 0, 0, 1, 0, 0, 0,\n",
       "       0, 0, 0, 0, 0, 1, 0, 0, 0, 0, 0, 0, 0, 0, 0, 0, 0, 0, 0, 0, 0, 0,\n",
       "       0, 0, 0, 0, 0, 0, 0, 0, 0, 0, 0, 0, 0, 0, 0, 0, 0, 0, 0, 0, 0, 0,\n",
       "       0, 0, 0, 0, 0, 0, 0, 0, 0, 0, 0, 0, 0, 0, 0, 0, 1, 0, 0, 0, 0, 0,\n",
       "       0, 0, 0, 0, 0, 0, 0, 0, 0, 0, 0, 0, 0, 0, 0, 0, 1, 0, 2, 0, 0, 0,\n",
       "       0, 0, 1, 0, 0, 0, 0, 0, 0, 0, 0, 0, 0, 3, 0, 1, 3, 0, 0, 0, 0, 0,\n",
       "       0, 0, 1, 0, 0, 0, 0, 1, 0, 1, 0, 0, 0, 0, 1, 0, 0, 0, 0, 0, 0, 0,\n",
       "       0, 0, 0, 0, 0, 0, 0, 0, 0, 0, 0, 0, 0, 0, 1, 0, 0, 0, 0, 0, 0, 0,\n",
       "       0, 0, 0, 0, 0, 1, 0, 0, 0, 0, 0, 0, 0, 0, 0, 0, 0, 0, 0, 0, 0, 0,\n",
       "       0, 0, 0, 0, 0, 0, 0, 0, 0, 3, 0, 0, 0, 0, 0, 0, 0, 0, 0, 0, 0, 0,\n",
       "       0, 0, 0, 0, 0, 0, 0, 0, 0, 0, 0, 0, 0, 0, 0, 0, 0, 0, 0, 1, 0, 0,\n",
       "       0, 0, 0, 0, 0, 0, 3, 0, 0])>"
      ]
     },
     "execution_count": 721,
     "metadata": {},
     "output_type": "execute_result"
    }
   ],
   "source": [
    "predicted_categories"
   ]
  },
  {
   "cell_type": "code",
   "execution_count": 722,
   "metadata": {
    "colab": {
     "base_uri": "https://localhost:8080/"
    },
    "executionInfo": {
     "elapsed": 601,
     "status": "ok",
     "timestamp": 1634636971005,
     "user": {
      "displayName": "Alexander Posterino",
      "photoUrl": "https://lh3.googleusercontent.com/a/default-user=s64",
      "userId": "02797547015372524958"
     },
     "user_tz": -660
    },
    "id": "DJmDwhOJg0bE",
    "outputId": "89343011-f6f8-45ec-cf9a-58ec8ee18959"
   },
   "outputs": [
    {
     "data": {
      "text/plain": [
       "<tf.Tensor: shape=(625,), dtype=int64, numpy=\n",
       "array([0, 2, 3, 3, 0, 2, 1, 0, 0, 0, 0, 0, 0, 3, 1, 0, 0, 2, 0, 0, 0, 1,\n",
       "       0, 0, 0, 0, 1, 0, 0, 0, 2, 0, 0, 1, 0, 1, 0, 0, 3, 2, 0, 2, 0, 1,\n",
       "       0, 0, 0, 0, 3, 1, 0, 1, 0, 0, 0, 0, 0, 0, 0, 0, 1, 1, 1, 3, 0, 0,\n",
       "       0, 1, 0, 0, 1, 1, 0, 0, 3, 0, 0, 0, 0, 0, 0, 1, 3, 0, 0, 3, 3, 2,\n",
       "       0, 0, 0, 3, 0, 0, 0, 2, 0, 2, 1, 3, 3, 0, 0, 3, 0, 0, 0, 0, 1, 0,\n",
       "       1, 1, 1, 0, 0, 0, 0, 0, 1, 0, 0, 0, 0, 0, 2, 0, 0, 0, 3, 0, 3, 0,\n",
       "       0, 0, 0, 2, 3, 1, 3, 1, 0, 0, 0, 0, 0, 0, 1, 0, 2, 0, 0, 2, 0, 0,\n",
       "       0, 1, 0, 0, 1, 1, 0, 0, 0, 0, 0, 0, 0, 1, 0, 0, 0, 1, 0, 0, 0, 1,\n",
       "       2, 0, 0, 0, 0, 0, 0, 0, 0, 0, 0, 1, 0, 0, 0, 2, 0, 0, 0, 0, 0, 0,\n",
       "       0, 0, 0, 0, 0, 0, 0, 2, 0, 0, 1, 0, 0, 0, 0, 3, 0, 0, 0, 0, 0, 2,\n",
       "       0, 0, 2, 0, 3, 0, 1, 1, 0, 2, 0, 0, 0, 0, 0, 0, 0, 0, 0, 0, 1, 0,\n",
       "       0, 0, 1, 2, 0, 0, 0, 0, 0, 0, 2, 0, 1, 0, 0, 0, 3, 2, 1, 1, 3, 0,\n",
       "       3, 3, 2, 0, 0, 0, 3, 3, 0, 0, 0, 0, 0, 0, 2, 0, 0, 0, 0, 0, 0, 2,\n",
       "       0, 0, 0, 0, 0, 0, 0, 0, 0, 0, 0, 0, 1, 3, 3, 0, 1, 0, 0, 0, 0, 0,\n",
       "       0, 1, 0, 0, 3, 0, 0, 0, 1, 1, 0, 0, 0, 3, 0, 0, 0, 3, 1, 0, 0, 0,\n",
       "       0, 0, 0, 1, 0, 0, 0, 0, 3, 3, 0, 0, 0, 0, 0, 1, 0, 0, 3, 0, 0, 0,\n",
       "       0, 0, 0, 0, 0, 0, 0, 2, 0, 0, 0, 1, 0, 1, 0, 2, 0, 0, 0, 3, 3, 0,\n",
       "       0, 0, 0, 0, 1, 0, 0, 0, 0, 1, 0, 0, 0, 0, 0, 0, 0, 0, 1, 2, 2, 0,\n",
       "       0, 0, 0, 1, 2, 0, 0, 0, 0, 0, 0, 0, 0, 0, 2, 0, 0, 1, 0, 0, 0, 0,\n",
       "       0, 0, 0, 0, 0, 0, 0, 2, 2, 2, 0, 0, 1, 1, 0, 1, 0, 0, 0, 0, 0, 1,\n",
       "       2, 0, 0, 0, 0, 0, 0, 0, 0, 0, 0, 0, 0, 2, 0, 0, 0, 1, 3, 0, 1, 0,\n",
       "       0, 0, 3, 1, 0, 2, 0, 1, 1, 2, 0, 0, 0, 1, 0, 0, 0, 0, 2, 1, 2, 0,\n",
       "       2, 0, 1, 1, 1, 0, 0, 1, 0, 0, 0, 0, 1, 3, 0, 1, 0, 3, 2, 0, 0, 1,\n",
       "       0, 0, 0, 0, 3, 0, 0, 1, 1, 1, 0, 1, 0, 1, 0, 0, 0, 1, 0, 0, 0, 0,\n",
       "       0, 0, 0, 0, 0, 0, 0, 0, 0, 3, 0, 3, 0, 1, 1, 3, 1, 1, 3, 0, 0, 0,\n",
       "       2, 1, 0, 0, 0, 1, 1, 1, 0, 0, 2, 2, 1, 0, 0, 0, 0, 0, 3, 0, 0, 0,\n",
       "       0, 0, 0, 0, 0, 0, 0, 0, 1, 3, 0, 0, 3, 0, 0, 2, 0, 3, 0, 1, 0, 0,\n",
       "       2, 0, 0, 0, 1, 0, 2, 0, 0, 1, 0, 0, 0, 0, 2, 0, 0, 0, 0, 0, 0, 0,\n",
       "       0, 2, 0, 0, 1, 3, 3, 0, 0])>"
      ]
     },
     "execution_count": 722,
     "metadata": {},
     "output_type": "execute_result"
    }
   ],
   "source": [
    "true_categories = tf.convert_to_tensor(category, dtype = 'int64')\n",
    "true_categories = true_categories[-625:]\n",
    "true_categories"
   ]
  },
  {
   "cell_type": "markdown",
   "metadata": {
    "id": "CHKsT_U8WrwA"
   },
   "source": [
    "#### Confusion Matrix"
   ]
  },
  {
   "cell_type": "code",
   "execution_count": 298,
   "metadata": {
    "colab": {
     "base_uri": "https://localhost:8080/"
    },
    "executionInfo": {
     "elapsed": 7,
     "status": "ok",
     "timestamp": 1634612444443,
     "user": {
      "displayName": "Alexander Posterino",
      "photoUrl": "https://lh3.googleusercontent.com/a/default-user=s64",
      "userId": "02797547015372524958"
     },
     "user_tz": -660
    },
    "id": "GD98VKbsWsOn",
    "outputId": "ff59eb8a-bf7e-4acf-87a8-f74b8d41745c"
   },
   "outputs": [
    {
     "data": {
      "text/plain": [
       "array([[410,  18,   1,   2],\n",
       "       [ 79,  14,   0,   0],\n",
       "       [ 43,   0,   7,   0],\n",
       "       [ 41,   0,   3,   7]])"
      ]
     },
     "execution_count": 298,
     "metadata": {},
     "output_type": "execute_result"
    }
   ],
   "source": [
    "from sklearn.metrics import confusion_matrix\n",
    "confusion_matrix(true_categories, predicted_categories)"
   ]
  },
  {
   "cell_type": "code",
   "execution_count": 299,
   "metadata": {
    "colab": {
     "base_uri": "https://localhost:8080/",
     "height": 315
    },
    "executionInfo": {
     "elapsed": 4,
     "status": "ok",
     "timestamp": 1634612445152,
     "user": {
      "displayName": "Alexander Posterino",
      "photoUrl": "https://lh3.googleusercontent.com/a/default-user=s64",
      "userId": "02797547015372524958"
     },
     "user_tz": -660
    },
    "id": "TWlrxxi2WxUn",
    "outputId": "917338af-1207-42c8-d223-9c8e76c5142c"
   },
   "outputs": [
    {
     "data": {
      "image/png": "[encoded data removed]",
      "text/plain": [
       "<Figure size 432x288 with 2 Axes>"
      ]
     },
     "metadata": {
      "needs_background": "light"
     },
     "output_type": "display_data"
    }
   ],
   "source": [
    "import pandas as pd\n",
    "import seaborn as sn\n",
    "import matplotlib.pyplot as plt\n",
    "\n",
    "labels = ['comment', 'support', 'query', 'deny']\n",
    "\n",
    "data = {'y_Actual':    true_categories,\n",
    "        'y_Predicted': predicted_categories\n",
    "        }\n",
    "\n",
    "df = pd.DataFrame(data, columns=['y_Actual','y_Predicted'])\n",
    "confusion_matrix = pd.crosstab(df['y_Actual'], df['y_Predicted'], rownames=['Actual'], colnames=['Predicted'])\n",
    "\n",
    "sn.heatmap(confusion_matrix, annot=True)\n",
    "plt.yticks(np.arange(.5, 4.5), labels, rotation=0)\n",
    "plt.xticks(np.arange(.5, 4.5), labels, rotation=90)\n",
    "plt.show()"
   ]
  },
  {
   "cell_type": "code",
   "execution_count": 300,
   "metadata": {
    "colab": {
     "base_uri": "https://localhost:8080/"
    },
    "executionInfo": {
     "elapsed": 7,
     "status": "ok",
     "timestamp": 1634612445496,
     "user": {
      "displayName": "Alexander Posterino",
      "photoUrl": "https://lh3.googleusercontent.com/a/default-user=s64",
      "userId": "02797547015372524958"
     },
     "user_tz": -660
    },
    "id": "6bxlUsKgW0Af",
    "outputId": "e9b059c4-6045-42da-8fa8-16e78def827f"
   },
   "outputs": [
    {
     "name": "stdout",
     "output_type": "stream",
     "text": [
      "              precision    recall  f1-score   support\n",
      "\n",
      "     comment       0.72      0.95      0.82       431\n",
      "     support       0.44      0.15      0.22        93\n",
      "       query       0.64      0.14      0.23        50\n",
      "        deny       0.78      0.14      0.23        51\n",
      "\n",
      "    accuracy                           0.70       625\n",
      "   macro avg       0.64      0.34      0.38       625\n",
      "weighted avg       0.67      0.70      0.63       625\n",
      "\n"
     ]
    }
   ],
   "source": [
    "import sklearn\n",
    "print(sklearn.metrics.classification_report(true_categories, predicted_categories, target_names=labels))"
   ]
  },
  {
   "cell_type": "markdown",
   "metadata": {
    "id": "Cc5q57_aw4z7"
   },
   "source": [
    "#### Analysis of Model Mistakes"
   ]
  },
  {
   "cell_type": "code",
   "execution_count": 467,
   "metadata": {
    "colab": {
     "base_uri": "https://localhost:8080/"
    },
    "executionInfo": {
     "elapsed": 321,
     "status": "ok",
     "timestamp": 1634618383463,
     "user": {
      "displayName": "Alexander Posterino",
      "photoUrl": "https://lh3.googleusercontent.com/a/default-user=s64",
      "userId": "02797547015372524958"
     },
     "user_tz": -660
    },
    "id": "qRSJY0NjvuYE",
    "outputId": "026cb6cc-1ef1-4c6d-cf18-38ea35eb3153"
   },
   "outputs": [
    {
     "name": "stdout",
     "output_type": "stream",
     "text": [
      "['skynews bollox']\n",
      ">> true label - deny\n",
      ">> predicted label - comment\n",
      "\n",
      "['hanibathish colvinius martinrjay oh well as u may have noticed some ppl disagree with you']\n",
      ">> true label - deny\n",
      ">> predicted label - comment\n",
      "\n",
      "['robstweeting daxtonbrown shamnaarai anewtrackrecord how do you know']\n",
      ">> true label - query\n",
      ">> predicted label - comment\n",
      "\n",
      "['airsmolik my thoughts exactly rate is not unusual but surely crew were aware of where they were amp terrain this ll be interesting']\n",
      ">> true label - support\n",
      ">> predicted label - comment\n",
      "\n",
      "['brwnskingirly cnnvideo no offense u sir but unless he was reaching a gun then there was no reason for this to happen']\n",
      ">> true label - deny\n",
      ">> predicted label - comment\n",
      "\n"
     ]
    }
   ],
   "source": [
    "wrong_preds = true_categories != predicted_categories\n",
    "wrong_preds[0:10]\n",
    "res = [i for i, val in enumerate(wrong_preds) if val]\n",
    "\n",
    "for sentence in np.arange(0,5):\n",
    "  print(tokenizer_obj.sequences_to_texts(X_test_pad[res[sentence:sentence+1]]))\n",
    "  print(\">> true label -\",labels[true_categories[res[sentence]]])\n",
    "  print(\">> predicted label -\", labels[predicted_categories[res[sentence]]])\n",
    "  print()"
   ]
  },
  {
   "cell_type": "code",
   "execution_count": 507,
   "metadata": {
    "executionInfo": {
     "elapsed": 322,
     "status": "ok",
     "timestamp": 1634619673979,
     "user": {
      "displayName": "Alexander Posterino",
      "photoUrl": "https://lh3.googleusercontent.com/a/default-user=s64",
      "userId": "02797547015372524958"
     },
     "user_tz": -660
    },
    "id": "P7hJd3EZ2SxX"
   },
   "outputs": [],
   "source": [
    "comment = [i for i, val in enumerate(np.array(labels_wrong_preds)==0) if val]\n",
    "support = [i for i, val in enumerate(np.array(labels_wrong_preds)==1) if val]\n",
    "query = [i for i, val in enumerate(np.array(labels_wrong_preds)==2) if val]\n",
    "deny = [i for i, val in enumerate(np.array(labels_wrong_preds)==3) if val]"
   ]
  },
  {
   "cell_type": "code",
   "execution_count": 544,
   "metadata": {
    "colab": {
     "base_uri": "https://localhost:8080/"
    },
    "executionInfo": {
     "elapsed": 562,
     "status": "ok",
     "timestamp": 1634627409962,
     "user": {
      "displayName": "Alexander Posterino",
      "photoUrl": "https://lh3.googleusercontent.com/a/default-user=s64",
      "userId": "02797547015372524958"
     },
     "user_tz": -660
    },
    "id": "YB9sMdiG7Tfi",
    "outputId": "b11c3be2-ef66-4e92-ad42-079939a0720c"
   },
   "outputs": [
    {
     "name": "stdout",
     "output_type": "stream",
     "text": [
      "['babywash rtcom you are on crack your foolish comment invalidates any truth that may be buried within the nonsense']\n",
      ">> true label - comment\n",
      ">> predicted label - deny\n",
      "\n",
      "['sad telegraph soldier killed in canada shooting was a young reservist with a old son http http tcopssqrirqmo']\n",
      ">> true label - comment\n",
      ">> predicted label - support\n",
      "\n",
      "['michaelskolnik every hours a black male is killed in the united states by police or vigilantes ferguson that is sad']\n",
      ">> true label - comment\n",
      ">> predicted label - support\n",
      "\n",
      "['this michaelskolnik every hours a black male is killed in the united states by police or vigilantes ferguson']\n",
      ">> true label - comment\n",
      ">> predicted label - support\n",
      "\n",
      "['wow michaelskolnik every hours a black male is killed in the united states by police or vigilantes ferguson']\n",
      ">> true label - comment\n",
      ">> predicted label - support\n",
      "\n",
      "['rt michaelskolnik every hours a black male is killed in the united states by police or vigilantes ferguson']\n",
      ">> true label - comment\n",
      ">> predicted label - support\n",
      "\n",
      "['whoa die vine rt buzzfeednews five hostages escape sydney cafe siege http http']\n",
      ">> true label - comment\n",
      ">> predicted label - support\n",
      "\n",
      "['juicepre bbcbreaking us spies see al qaeda fingerprints on paris massacre http']\n",
      ">> true label - comment\n",
      ">> predicted label - support\n",
      "\n"
     ]
    }
   ],
   "source": [
    "for sentence in comment[0:8]:\n",
    "  print(tokenizer_obj.sequences_to_texts(X_test_pad[res[sentence:sentence+1]]))\n",
    "  print(\">> true label -\",labels[true_categories[res[sentence]]])\n",
    "  print(\">> predicted label -\", labels[predicted_categories[res[sentence]]])\n",
    "  print()"
   ]
  },
  {
   "cell_type": "code",
   "execution_count": 545,
   "metadata": {
    "colab": {
     "base_uri": "https://localhost:8080/"
    },
    "executionInfo": {
     "elapsed": 357,
     "status": "ok",
     "timestamp": 1634627417860,
     "user": {
      "displayName": "Alexander Posterino",
      "photoUrl": "https://lh3.googleusercontent.com/a/default-user=s64",
      "userId": "02797547015372524958"
     },
     "user_tz": -660
    },
    "id": "BXeaxEt07TYd",
    "outputId": "8ba7ce2b-d476-4e75-d2bf-5f529a18637d"
   },
   "outputs": [
    {
     "name": "stdout",
     "output_type": "stream",
     "text": [
      "['airsmolik my thoughts exactly rate is not unusual but surely crew were aware of where they were amp terrain this ll be interesting']\n",
      ">> true label - support\n",
      ">> predicted label - comment\n",
      "\n",
      "['michaelskolnik shooting related to protesting ppl on the street are upset about this also pregnant woman forced facedown on ground']\n",
      ">> true label - support\n",
      ">> predicted label - comment\n",
      "\n",
      "['larryelder http']\n",
      ">> true label - support\n",
      ">> predicted label - comment\n",
      "\n",
      "['translation killing unarmed teen his first mt yamiche darren wilson vet of ferguson police w no disciplinary actions against him']\n",
      ">> true label - support\n",
      ">> predicted label - comment\n",
      "\n",
      "['wsjlive this is a small lesson to canada on human rights what it was trying to preach to india in last yrs']\n",
      ">> true label - support\n",
      ">> predicted label - comment\n",
      "\n",
      "['zellieimani how many white celebrities have been caught shoplifting and end up dead in streets i ll wait ferguson even oj lol']\n",
      ">> true label - support\n",
      ">> predicted label - comment\n",
      "\n",
      "['cnnvideo oh please cnn cut the them dirty ass cops will say anything']\n",
      ">> true label - support\n",
      ">> predicted label - comment\n",
      "\n",
      "['andrewv bmacottawa ubersydney http']\n",
      ">> true label - support\n",
      ">> predicted label - comment\n",
      "\n"
     ]
    }
   ],
   "source": [
    "for sentence in support[0:8]:\n",
    "  print(tokenizer_obj.sequences_to_texts(X_test_pad[res[sentence:sentence+1]]))\n",
    "  print(\">> true label -\",labels[true_categories[res[sentence]]])\n",
    "  print(\">> predicted label -\", labels[predicted_categories[res[sentence]]])\n",
    "  print()"
   ]
  },
  {
   "cell_type": "code",
   "execution_count": 546,
   "metadata": {
    "colab": {
     "base_uri": "https://localhost:8080/"
    },
    "executionInfo": {
     "elapsed": 359,
     "status": "ok",
     "timestamp": 1634627422447,
     "user": {
      "displayName": "Alexander Posterino",
      "photoUrl": "https://lh3.googleusercontent.com/a/default-user=s64",
      "userId": "02797547015372524958"
     },
     "user_tz": -660
    },
    "id": "mfODILJl7TLM",
    "outputId": "47ae8aa3-0af5-467d-fab0-77564ed7cd35"
   },
   "outputs": [
    {
     "name": "stdout",
     "output_type": "stream",
     "text": [
      "['robstweeting daxtonbrown shamnaarai anewtrackrecord how do you know']\n",
      ">> true label - query\n",
      ">> predicted label - comment\n",
      "\n",
      "['pascalsyn airlivenet but isn t declaring an emergency the proper procedure if you still have control of the situation']\n",
      ">> true label - query\n",
      ">> predicted label - comment\n",
      "\n",
      "['cnnvideo cnn lol cnn is first to report this did you find that plane yet']\n",
      ">> true label - query\n",
      ">> predicted label - comment\n",
      "\n",
      "['marksutcliffe thanks mark are you in ottawa stay safe']\n",
      ">> true label - query\n",
      ">> predicted label - comment\n",
      "\n",
      "['andybankertv and the store owner and the pictures say it was nt why does someone who did nt see it matter']\n",
      ">> true label - query\n",
      ">> predicted label - comment\n",
      "\n",
      "['joycekaram is he consider as terrorist or just a criminal person as his faith not sunni islam']\n",
      ">> true label - query\n",
      ">> predicted label - comment\n",
      "\n",
      "['dmeralles clydetheslyde http']\n",
      ">> true label - query\n",
      ">> predicted label - comment\n",
      "\n",
      "['dianazoga antoniofrench how were the police so quick to indicate mike brown if all of this took place in a matter of minutes']\n",
      ">> true label - query\n",
      ">> predicted label - comment\n",
      "\n"
     ]
    }
   ],
   "source": [
    "for sentence in query[0:8]:\n",
    "  print(tokenizer_obj.sequences_to_texts(X_test_pad[res[sentence:sentence+1]]))\n",
    "  print(\">> true label -\",labels[true_categories[res[sentence]]])\n",
    "  print(\">> predicted label -\", labels[predicted_categories[res[sentence]]])\n",
    "  print()"
   ]
  },
  {
   "cell_type": "code",
   "execution_count": 547,
   "metadata": {
    "colab": {
     "base_uri": "https://localhost:8080/"
    },
    "executionInfo": {
     "elapsed": 327,
     "status": "ok",
     "timestamp": 1634627426947,
     "user": {
      "displayName": "Alexander Posterino",
      "photoUrl": "https://lh3.googleusercontent.com/a/default-user=s64",
      "userId": "02797547015372524958"
     },
     "user_tz": -660
    },
    "id": "bWmApw9j6Gqq",
    "outputId": "27fd693d-5856-4cb1-a0af-56d4fb24d24a"
   },
   "outputs": [
    {
     "name": "stdout",
     "output_type": "stream",
     "text": [
      "['skynews bollox']\n",
      ">> true label - deny\n",
      ">> predicted label - comment\n",
      "\n",
      "['hanibathish colvinius martinrjay oh well as u may have noticed some ppl disagree with you']\n",
      ">> true label - deny\n",
      ">> predicted label - comment\n",
      "\n",
      "['brwnskingirly cnnvideo no offense u sir but unless he was reaching a gun then there was no reason for this to happen']\n",
      ">> true label - deny\n",
      ">> predicted label - comment\n",
      "\n",
      "['colvinius martinrjay it s not a matter of criticism it s insulting and demeaning and offensive']\n",
      ">> true label - deny\n",
      ">> predicted label - comment\n",
      "\n",
      "['edeweysmith we need b careful of jumping conclusions waiting to see this videotape']\n",
      ">> true label - deny\n",
      ">> predicted label - comment\n",
      "\n",
      "['nice linkbait rtcom but does a report of a suicide belt really rate a headline like your tweet sydneysiege http']\n",
      ">> true label - deny\n",
      ">> predicted label - comment\n",
      "\n",
      "['mashable uber is facing problems enough will a price hike really help']\n",
      ">> true label - deny\n",
      ">> predicted label - comment\n",
      "\n",
      "['davebeninger cherylnorrad ugh ctv is reporting he s alive http']\n",
      ">> true label - deny\n",
      ">> predicted label - comment\n",
      "\n"
     ]
    }
   ],
   "source": [
    "for sentence in deny[0:8]:\n",
    "  print(tokenizer_obj.sequences_to_texts(X_test_pad[res[sentence:sentence+1]]))\n",
    "  print(\">> true label -\",labels[true_categories[res[sentence]]])\n",
    "  print(\">> predicted label -\", labels[predicted_categories[res[sentence]]])\n",
    "  print()"
   ]
  },
  {
   "cell_type": "markdown",
   "metadata": {
    "id": "T7Y_O7vMk_Pw"
   },
   "source": [
    "## Alternative Models"
   ]
  },
  {
   "cell_type": "markdown",
   "metadata": {
    "id": "5ZU2WXBPoMXZ"
   },
   "source": [
    "### Bidirectional LSTM Model"
   ]
  },
  {
   "cell_type": "code",
   "execution_count": 302,
   "metadata": {
    "executionInfo": {
     "elapsed": 800,
     "status": "ok",
     "timestamp": 1634612588005,
     "user": {
      "displayName": "Alexander Posterino",
      "photoUrl": "https://lh3.googleusercontent.com/a/default-user=s64",
      "userId": "02797547015372524958"
     },
     "user_tz": -660
    },
    "id": "re85Cz_lkw3g"
   },
   "outputs": [],
   "source": [
    "\n",
    "model_bi_lstm.load_weights('/content/drive/MyDrive/COSC2779/Assessment_2/model_bi_lstm_twitter100.h5')"
   ]
  },
  {
   "cell_type": "code",
   "execution_count": 303,
   "metadata": {
    "executionInfo": {
     "elapsed": 1244,
     "status": "ok",
     "timestamp": 1634612597402,
     "user": {
      "displayName": "Alexander Posterino",
      "photoUrl": "https://lh3.googleusercontent.com/a/default-user=s64",
      "userId": "02797547015372524958"
     },
     "user_tz": -660
    },
    "id": "A5k6kL0Akw3h"
   },
   "outputs": [],
   "source": [
    "preds = model_bi_lstm.predict(X_test_pad)\n",
    "preds = preds\n",
    "predicted_categories = tf.argmax(preds, axis=1)"
   ]
  },
  {
   "cell_type": "code",
   "execution_count": 304,
   "metadata": {
    "colab": {
     "base_uri": "https://localhost:8080/"
    },
    "executionInfo": {
     "elapsed": 323,
     "status": "ok",
     "timestamp": 1634612598847,
     "user": {
      "displayName": "Alexander Posterino",
      "photoUrl": "https://lh3.googleusercontent.com/a/default-user=s64",
      "userId": "02797547015372524958"
     },
     "user_tz": -660
    },
    "id": "wyunVSaCkw3h",
    "outputId": "a63a097e-bb6a-4517-a3ff-2e54c565c8c7"
   },
   "outputs": [
    {
     "data": {
      "text/plain": [
       "<tf.Tensor: shape=(625,), dtype=int64, numpy=\n",
       "array([0, 0, 0, 0, 1, 2, 0, 0, 0, 0, 0, 0, 0, 3, 0, 0, 0, 0, 0, 0, 0, 0,\n",
       "       0, 2, 3, 0, 1, 0, 0, 0, 0, 0, 0, 0, 0, 0, 0, 0, 0, 0, 2, 0, 1, 0,\n",
       "       0, 0, 0, 0, 0, 0, 1, 0, 0, 3, 0, 0, 0, 0, 0, 1, 0, 0, 0, 0, 0, 0,\n",
       "       0, 0, 0, 0, 0, 1, 1, 0, 0, 0, 0, 0, 0, 0, 1, 0, 0, 0, 0, 3, 0, 0,\n",
       "       0, 0, 0, 0, 0, 0, 0, 0, 0, 2, 1, 3, 0, 0, 0, 0, 1, 0, 0, 3, 2, 0,\n",
       "       0, 1, 0, 3, 0, 0, 0, 0, 0, 0, 0, 0, 0, 0, 2, 0, 2, 0, 3, 0, 0, 0,\n",
       "       0, 0, 0, 0, 0, 1, 0, 1, 0, 0, 0, 0, 0, 0, 0, 0, 2, 1, 0, 0, 0, 0,\n",
       "       0, 1, 0, 0, 0, 3, 0, 0, 3, 3, 0, 1, 0, 0, 0, 0, 0, 0, 0, 0, 0, 0,\n",
       "       0, 1, 2, 0, 0, 0, 0, 0, 0, 0, 0, 0, 0, 0, 0, 0, 0, 0, 0, 0, 0, 0,\n",
       "       0, 0, 0, 0, 0, 0, 0, 2, 3, 0, 0, 0, 0, 0, 0, 0, 0, 0, 0, 0, 0, 0,\n",
       "       0, 0, 0, 0, 3, 0, 0, 1, 0, 0, 0, 0, 0, 0, 0, 0, 0, 0, 0, 0, 1, 0,\n",
       "       0, 0, 2, 2, 0, 0, 0, 0, 0, 0, 2, 0, 2, 0, 0, 0, 0, 0, 0, 0, 0, 0,\n",
       "       0, 0, 2, 1, 0, 0, 0, 2, 0, 3, 0, 0, 1, 0, 0, 0, 0, 0, 0, 0, 1, 0,\n",
       "       0, 0, 0, 0, 0, 0, 0, 0, 1, 1, 0, 0, 1, 0, 0, 1, 0, 0, 2, 0, 0, 0,\n",
       "       0, 0, 0, 0, 0, 3, 0, 0, 0, 0, 0, 0, 0, 0, 0, 0, 0, 3, 3, 0, 0, 0,\n",
       "       0, 0, 0, 0, 0, 0, 0, 0, 0, 2, 0, 0, 0, 2, 0, 3, 0, 0, 0, 0, 0, 0,\n",
       "       0, 0, 0, 0, 0, 1, 0, 0, 0, 0, 0, 0, 0, 0, 0, 0, 0, 0, 0, 0, 0, 0,\n",
       "       0, 0, 0, 0, 0, 0, 0, 0, 0, 0, 0, 0, 0, 0, 0, 0, 0, 0, 1, 0, 2, 0,\n",
       "       0, 0, 0, 0, 0, 1, 0, 0, 0, 0, 0, 2, 0, 0, 0, 1, 0, 0, 0, 0, 0, 0,\n",
       "       0, 0, 0, 0, 0, 0, 0, 0, 0, 0, 0, 0, 0, 0, 0, 0, 0, 0, 0, 0, 0, 2,\n",
       "       0, 0, 0, 0, 0, 0, 0, 0, 0, 0, 0, 0, 0, 0, 2, 0, 1, 0, 0, 0, 0, 0,\n",
       "       0, 0, 2, 0, 0, 0, 3, 0, 0, 0, 0, 0, 0, 1, 0, 0, 1, 0, 2, 1, 0, 0,\n",
       "       1, 0, 1, 0, 0, 0, 0, 0, 0, 0, 3, 0, 0, 0, 0, 0, 3, 0, 0, 0, 0, 0,\n",
       "       1, 0, 1, 0, 0, 3, 0, 1, 0, 1, 0, 0, 0, 0, 1, 0, 0, 0, 0, 0, 0, 0,\n",
       "       0, 0, 0, 0, 1, 0, 0, 0, 0, 0, 0, 0, 0, 0, 1, 0, 0, 1, 1, 0, 0, 0,\n",
       "       0, 0, 0, 0, 0, 1, 0, 3, 0, 0, 0, 0, 0, 0, 0, 0, 1, 0, 0, 0, 0, 0,\n",
       "       0, 0, 0, 0, 0, 0, 0, 0, 1, 0, 0, 0, 0, 0, 0, 0, 0, 0, 0, 1, 0, 0,\n",
       "       0, 0, 0, 0, 0, 0, 0, 0, 0, 1, 0, 0, 0, 0, 0, 0, 0, 0, 0, 1, 1, 0,\n",
       "       0, 3, 0, 0, 1, 0, 3, 0, 0])>"
      ]
     },
     "execution_count": 304,
     "metadata": {},
     "output_type": "execute_result"
    }
   ],
   "source": [
    "predicted_categories"
   ]
  },
  {
   "cell_type": "code",
   "execution_count": 305,
   "metadata": {
    "colab": {
     "base_uri": "https://localhost:8080/"
    },
    "executionInfo": {
     "elapsed": 8,
     "status": "ok",
     "timestamp": 1634612600746,
     "user": {
      "displayName": "Alexander Posterino",
      "photoUrl": "https://lh3.googleusercontent.com/a/default-user=s64",
      "userId": "02797547015372524958"
     },
     "user_tz": -660
    },
    "id": "MRdhadE2kw3h",
    "outputId": "d95e7694-4fa6-4e6b-9f37-2e1862a82d80"
   },
   "outputs": [
    {
     "data": {
      "text/plain": [
       "<tf.Tensor: shape=(625,), dtype=int64, numpy=\n",
       "array([0, 2, 3, 3, 0, 2, 1, 0, 0, 0, 0, 0, 0, 3, 1, 0, 0, 2, 0, 0, 0, 1,\n",
       "       0, 0, 0, 0, 1, 0, 0, 0, 2, 0, 0, 1, 0, 1, 0, 0, 3, 2, 0, 2, 0, 1,\n",
       "       0, 0, 0, 0, 3, 1, 0, 1, 0, 0, 0, 0, 0, 0, 0, 0, 1, 1, 1, 3, 0, 0,\n",
       "       0, 1, 0, 0, 1, 1, 0, 0, 3, 0, 0, 0, 0, 0, 0, 1, 3, 0, 0, 3, 3, 2,\n",
       "       0, 0, 0, 3, 0, 0, 0, 2, 0, 2, 1, 3, 3, 0, 0, 3, 0, 0, 0, 0, 1, 0,\n",
       "       1, 1, 1, 0, 0, 0, 0, 0, 1, 0, 0, 0, 0, 0, 2, 0, 0, 0, 3, 0, 3, 0,\n",
       "       0, 0, 0, 2, 3, 1, 3, 1, 0, 0, 0, 0, 0, 0, 1, 0, 2, 0, 0, 2, 0, 0,\n",
       "       0, 1, 0, 0, 1, 1, 0, 0, 0, 0, 0, 0, 0, 1, 0, 0, 0, 1, 0, 0, 0, 1,\n",
       "       2, 0, 0, 0, 0, 0, 0, 0, 0, 0, 0, 1, 0, 0, 0, 2, 0, 0, 0, 0, 0, 0,\n",
       "       0, 0, 0, 0, 0, 0, 0, 2, 0, 0, 1, 0, 0, 0, 0, 3, 0, 0, 0, 0, 0, 2,\n",
       "       0, 0, 2, 0, 3, 0, 1, 1, 0, 2, 0, 0, 0, 0, 0, 0, 0, 0, 0, 0, 1, 0,\n",
       "       0, 0, 1, 2, 0, 0, 0, 0, 0, 0, 2, 0, 1, 0, 0, 0, 3, 2, 1, 1, 3, 0,\n",
       "       3, 3, 2, 0, 0, 0, 3, 3, 0, 0, 0, 0, 0, 0, 2, 0, 0, 0, 0, 0, 0, 2,\n",
       "       0, 0, 0, 0, 0, 0, 0, 0, 0, 0, 0, 0, 1, 3, 3, 0, 1, 0, 0, 0, 0, 0,\n",
       "       0, 1, 0, 0, 3, 0, 0, 0, 1, 1, 0, 0, 0, 3, 0, 0, 0, 3, 1, 0, 0, 0,\n",
       "       0, 0, 0, 1, 0, 0, 0, 0, 3, 3, 0, 0, 0, 0, 0, 1, 0, 0, 3, 0, 0, 0,\n",
       "       0, 0, 0, 0, 0, 0, 0, 2, 0, 0, 0, 1, 0, 1, 0, 2, 0, 0, 0, 3, 3, 0,\n",
       "       0, 0, 0, 0, 1, 0, 0, 0, 0, 1, 0, 0, 0, 0, 0, 0, 0, 0, 1, 2, 2, 0,\n",
       "       0, 0, 0, 1, 2, 0, 0, 0, 0, 0, 0, 0, 0, 0, 2, 0, 0, 1, 0, 0, 0, 0,\n",
       "       0, 0, 0, 0, 0, 0, 0, 2, 2, 2, 0, 0, 1, 1, 0, 1, 0, 0, 0, 0, 0, 1,\n",
       "       2, 0, 0, 0, 0, 0, 0, 0, 0, 0, 0, 0, 0, 2, 0, 0, 0, 1, 3, 0, 1, 0,\n",
       "       0, 0, 3, 1, 0, 2, 0, 1, 1, 2, 0, 0, 0, 1, 0, 0, 0, 0, 2, 1, 2, 0,\n",
       "       2, 0, 1, 1, 1, 0, 0, 1, 0, 0, 0, 0, 1, 3, 0, 1, 0, 3, 2, 0, 0, 1,\n",
       "       0, 0, 0, 0, 3, 0, 0, 1, 1, 1, 0, 1, 0, 1, 0, 0, 0, 1, 0, 0, 0, 0,\n",
       "       0, 0, 0, 0, 0, 0, 0, 0, 0, 3, 0, 3, 0, 1, 1, 3, 1, 1, 3, 0, 0, 0,\n",
       "       2, 1, 0, 0, 0, 1, 1, 1, 0, 0, 2, 2, 1, 0, 0, 0, 0, 0, 3, 0, 0, 0,\n",
       "       0, 0, 0, 0, 0, 0, 0, 0, 1, 3, 0, 0, 3, 0, 0, 2, 0, 3, 0, 1, 0, 0,\n",
       "       2, 0, 0, 0, 1, 0, 2, 0, 0, 1, 0, 0, 0, 0, 2, 0, 0, 0, 0, 0, 0, 0,\n",
       "       0, 2, 0, 0, 1, 3, 3, 0, 0])>"
      ]
     },
     "execution_count": 305,
     "metadata": {},
     "output_type": "execute_result"
    }
   ],
   "source": [
    "true_categories = tf.convert_to_tensor(category, dtype = 'int64')\n",
    "true_categories = true_categories[-625:]\n",
    "true_categories"
   ]
  },
  {
   "cell_type": "markdown",
   "metadata": {
    "id": "BdtAdWuVkw3h"
   },
   "source": [
    "#### Confusion Matrix"
   ]
  },
  {
   "cell_type": "code",
   "execution_count": 306,
   "metadata": {
    "colab": {
     "base_uri": "https://localhost:8080/"
    },
    "executionInfo": {
     "elapsed": 7,
     "status": "ok",
     "timestamp": 1634612602664,
     "user": {
      "displayName": "Alexander Posterino",
      "photoUrl": "https://lh3.googleusercontent.com/a/default-user=s64",
      "userId": "02797547015372524958"
     },
     "user_tz": -660
    },
    "id": "H2CKYJMCkw3h",
    "outputId": "6b6241ca-0e90-4497-f1f0-3808cbddc772"
   },
   "outputs": [
    {
     "data": {
      "text/plain": [
       "array([[382,  28,   8,  13],\n",
       "       [ 62,  23,   4,   4],\n",
       "       [ 38,   1,  10,   1],\n",
       "       [ 40,   1,   3,   7]])"
      ]
     },
     "execution_count": 306,
     "metadata": {},
     "output_type": "execute_result"
    }
   ],
   "source": [
    "from sklearn.metrics import confusion_matrix\n",
    "confusion_matrix(true_categories, predicted_categories)"
   ]
  },
  {
   "cell_type": "code",
   "execution_count": 307,
   "metadata": {
    "colab": {
     "base_uri": "https://localhost:8080/",
     "height": 315
    },
    "executionInfo": {
     "elapsed": 1401,
     "status": "ok",
     "timestamp": 1634612604786,
     "user": {
      "displayName": "Alexander Posterino",
      "photoUrl": "https://lh3.googleusercontent.com/a/default-user=s64",
      "userId": "02797547015372524958"
     },
     "user_tz": -660
    },
    "id": "lToReRQ7kw3i",
    "outputId": "91ae0885-bebe-4664-d5a2-22167bdafa08"
   },
   "outputs": [
    {
     "data": {
      "image/png": "[encoded data removed]",
      "text/plain": [
       "<Figure size 432x288 with 2 Axes>"
      ]
     },
     "metadata": {
      "needs_background": "light"
     },
     "output_type": "display_data"
    }
   ],
   "source": [
    "import pandas as pd\n",
    "import seaborn as sn\n",
    "import matplotlib.pyplot as plt\n",
    "\n",
    "labels = ['comment', 'support', 'query', 'deny']\n",
    "\n",
    "data = {'y_Actual':    true_categories,\n",
    "        'y_Predicted': predicted_categories\n",
    "        }\n",
    "\n",
    "df = pd.DataFrame(data, columns=['y_Actual','y_Predicted'])\n",
    "confusion_matrix = pd.crosstab(df['y_Actual'], df['y_Predicted'], rownames=['Actual'], colnames=['Predicted'])\n",
    "\n",
    "sn.heatmap(confusion_matrix, annot=True)\n",
    "plt.yticks(np.arange(.5, 4.5), labels, rotation=0)\n",
    "plt.xticks(np.arange(.5, 4.5), labels, rotation=90)\n",
    "plt.show()"
   ]
  },
  {
   "cell_type": "code",
   "execution_count": 308,
   "metadata": {
    "colab": {
     "base_uri": "https://localhost:8080/"
    },
    "executionInfo": {
     "elapsed": 10,
     "status": "ok",
     "timestamp": 1634612604786,
     "user": {
      "displayName": "Alexander Posterino",
      "photoUrl": "https://lh3.googleusercontent.com/a/default-user=s64",
      "userId": "02797547015372524958"
     },
     "user_tz": -660
    },
    "id": "o5xTgg3Zkw3i",
    "outputId": "f24e6558-c8fe-469e-b283-9dae2aa9b479"
   },
   "outputs": [
    {
     "name": "stdout",
     "output_type": "stream",
     "text": [
      "              precision    recall  f1-score   support\n",
      "\n",
      "     comment       0.73      0.89      0.80       431\n",
      "     support       0.43      0.25      0.32        93\n",
      "       query       0.40      0.20      0.27        50\n",
      "        deny       0.28      0.14      0.18        51\n",
      "\n",
      "    accuracy                           0.68       625\n",
      "   macro avg       0.46      0.37      0.39       625\n",
      "weighted avg       0.62      0.68      0.64       625\n",
      "\n"
     ]
    }
   ],
   "source": [
    "import sklearn\n",
    "print(sklearn.metrics.classification_report(true_categories, predicted_categories, target_names=labels))"
   ]
  },
  {
   "cell_type": "code",
   "execution_count": 309,
   "metadata": {
    "executionInfo": {
     "elapsed": 3,
     "status": "ok",
     "timestamp": 1634612604786,
     "user": {
      "displayName": "Alexander Posterino",
      "photoUrl": "https://lh3.googleusercontent.com/a/default-user=s64",
      "userId": "02797547015372524958"
     },
     "user_tz": -660
    },
    "id": "BSNUbSEWkw3i"
   },
   "outputs": [],
   "source": [
    "labels = ['comment', 'support', 'query', 'deny']"
   ]
  },
  {
   "cell_type": "markdown",
   "metadata": {
    "id": "u6f37AamoHXA"
   },
   "source": [
    "### Simple LSTM Model"
   ]
  },
  {
   "cell_type": "code",
   "execution_count": 378,
   "metadata": {
    "executionInfo": {
     "elapsed": 359,
     "status": "ok",
     "timestamp": 1634614785800,
     "user": {
      "displayName": "Alexander Posterino",
      "photoUrl": "https://lh3.googleusercontent.com/a/default-user=s64",
      "userId": "02797547015372524958"
     },
     "user_tz": -660
    },
    "id": "7zRcQa5kn6Sj"
   },
   "outputs": [],
   "source": [
    "model_lstm.load_weights('/content/drive/MyDrive/COSC2779/Assessment_2/model_lstm_twitter100.h5')"
   ]
  },
  {
   "cell_type": "code",
   "execution_count": 379,
   "metadata": {
    "executionInfo": {
     "elapsed": 489,
     "status": "ok",
     "timestamp": 1634614788896,
     "user": {
      "displayName": "Alexander Posterino",
      "photoUrl": "https://lh3.googleusercontent.com/a/default-user=s64",
      "userId": "02797547015372524958"
     },
     "user_tz": -660
    },
    "id": "NiWSAFy1n6So"
   },
   "outputs": [],
   "source": [
    "preds = model_lstm.predict(X_test_pad)\n",
    "preds = preds\n",
    "predicted_categories = tf.argmax(preds, axis=1)"
   ]
  },
  {
   "cell_type": "code",
   "execution_count": 380,
   "metadata": {
    "colab": {
     "base_uri": "https://localhost:8080/"
    },
    "executionInfo": {
     "elapsed": 25,
     "status": "ok",
     "timestamp": 1634614788896,
     "user": {
      "displayName": "Alexander Posterino",
      "photoUrl": "https://lh3.googleusercontent.com/a/default-user=s64",
      "userId": "02797547015372524958"
     },
     "user_tz": -660
    },
    "id": "HEYBrjMGn6Sp",
    "outputId": "447a2df2-54f9-4d16-fcb8-7c15cdb4df2e"
   },
   "outputs": [
    {
     "data": {
      "text/plain": [
       "<tf.Tensor: shape=(625,), dtype=int64, numpy=\n",
       "array([0, 0, 0, 0, 0, 2, 0, 0, 0, 0, 0, 0, 0, 0, 0, 0, 0, 0, 0, 0, 0, 0,\n",
       "       0, 0, 0, 0, 0, 0, 0, 0, 0, 0, 0, 1, 0, 0, 0, 0, 0, 0, 0, 0, 1, 0,\n",
       "       0, 0, 0, 0, 0, 0, 1, 0, 0, 0, 0, 0, 0, 0, 0, 1, 0, 0, 2, 0, 0, 0,\n",
       "       0, 0, 0, 0, 0, 1, 0, 0, 0, 0, 0, 0, 0, 0, 1, 0, 0, 0, 0, 3, 0, 0,\n",
       "       0, 0, 0, 2, 0, 0, 0, 0, 0, 0, 0, 3, 0, 0, 0, 0, 1, 0, 0, 3, 2, 0,\n",
       "       0, 1, 0, 0, 0, 0, 0, 0, 0, 0, 0, 0, 0, 0, 0, 0, 0, 0, 3, 0, 0, 0,\n",
       "       0, 0, 0, 0, 0, 0, 1, 3, 0, 0, 0, 0, 0, 0, 1, 0, 2, 1, 0, 0, 0, 0,\n",
       "       0, 1, 0, 0, 0, 3, 0, 0, 3, 0, 0, 1, 0, 0, 0, 0, 1, 0, 0, 0, 0, 0,\n",
       "       0, 1, 2, 0, 0, 1, 0, 0, 0, 0, 0, 0, 0, 0, 0, 0, 0, 0, 0, 0, 0, 0,\n",
       "       0, 0, 3, 0, 0, 0, 0, 2, 3, 0, 0, 0, 0, 0, 0, 0, 0, 0, 0, 1, 0, 0,\n",
       "       0, 1, 0, 0, 3, 1, 0, 0, 0, 0, 0, 0, 0, 0, 0, 0, 0, 0, 0, 0, 1, 0,\n",
       "       0, 0, 0, 0, 0, 0, 0, 0, 0, 0, 2, 0, 0, 0, 0, 0, 0, 2, 0, 0, 0, 0,\n",
       "       0, 0, 2, 1, 0, 0, 0, 2, 0, 0, 0, 0, 0, 0, 0, 0, 0, 0, 0, 0, 1, 0,\n",
       "       0, 0, 0, 0, 0, 0, 0, 0, 1, 1, 0, 0, 1, 0, 1, 1, 0, 0, 2, 0, 0, 0,\n",
       "       1, 0, 0, 0, 0, 0, 0, 0, 0, 0, 0, 0, 0, 0, 0, 0, 0, 3, 0, 0, 0, 1,\n",
       "       0, 0, 0, 0, 0, 0, 0, 0, 0, 0, 0, 0, 0, 2, 0, 0, 0, 0, 0, 1, 0, 0,\n",
       "       0, 0, 0, 0, 0, 1, 0, 0, 0, 0, 0, 0, 0, 0, 0, 0, 0, 0, 0, 0, 0, 0,\n",
       "       1, 0, 0, 0, 0, 0, 0, 0, 0, 0, 0, 2, 0, 0, 0, 0, 0, 0, 1, 0, 0, 0,\n",
       "       0, 0, 0, 0, 0, 1, 0, 3, 0, 0, 1, 2, 0, 0, 0, 1, 0, 0, 0, 0, 0, 0,\n",
       "       2, 0, 0, 0, 0, 0, 0, 0, 0, 0, 0, 0, 0, 0, 0, 0, 1, 0, 0, 0, 0, 0,\n",
       "       0, 0, 0, 0, 0, 0, 0, 0, 0, 0, 0, 0, 0, 0, 0, 0, 0, 0, 0, 0, 0, 0,\n",
       "       0, 0, 0, 0, 0, 0, 3, 0, 0, 0, 0, 0, 0, 1, 0, 0, 1, 0, 0, 0, 0, 0,\n",
       "       0, 0, 1, 0, 0, 0, 0, 0, 0, 0, 0, 0, 0, 3, 0, 0, 0, 2, 0, 0, 0, 0,\n",
       "       0, 0, 1, 0, 1, 0, 0, 1, 0, 1, 0, 0, 0, 1, 0, 0, 0, 0, 0, 0, 0, 1,\n",
       "       0, 0, 0, 0, 1, 0, 0, 0, 0, 0, 0, 0, 0, 1, 1, 0, 0, 0, 0, 0, 0, 0,\n",
       "       1, 0, 0, 0, 0, 1, 0, 0, 0, 0, 0, 0, 1, 0, 0, 0, 0, 0, 0, 0, 0, 2,\n",
       "       0, 0, 0, 0, 0, 0, 0, 0, 1, 0, 0, 0, 0, 0, 0, 0, 0, 0, 0, 1, 0, 0,\n",
       "       0, 0, 0, 0, 0, 0, 0, 0, 0, 1, 0, 0, 0, 0, 0, 0, 0, 0, 0, 1, 1, 0,\n",
       "       0, 0, 0, 0, 1, 0, 3, 0, 0])>"
      ]
     },
     "execution_count": 380,
     "metadata": {},
     "output_type": "execute_result"
    }
   ],
   "source": [
    "predicted_categories"
   ]
  },
  {
   "cell_type": "code",
   "execution_count": 381,
   "metadata": {
    "colab": {
     "base_uri": "https://localhost:8080/"
    },
    "executionInfo": {
     "elapsed": 17,
     "status": "ok",
     "timestamp": 1634614788896,
     "user": {
      "displayName": "Alexander Posterino",
      "photoUrl": "https://lh3.googleusercontent.com/a/default-user=s64",
      "userId": "02797547015372524958"
     },
     "user_tz": -660
    },
    "id": "y_Iqclran6Sp",
    "outputId": "5104c049-7f00-41e7-acf8-3c33b22eb328"
   },
   "outputs": [
    {
     "data": {
      "text/plain": [
       "<tf.Tensor: shape=(625,), dtype=int64, numpy=\n",
       "array([0, 2, 3, 3, 0, 2, 1, 0, 0, 0, 0, 0, 0, 3, 1, 0, 0, 2, 0, 0, 0, 1,\n",
       "       0, 0, 0, 0, 1, 0, 0, 0, 2, 0, 0, 1, 0, 1, 0, 0, 3, 2, 0, 2, 0, 1,\n",
       "       0, 0, 0, 0, 3, 1, 0, 1, 0, 0, 0, 0, 0, 0, 0, 0, 1, 1, 1, 3, 0, 0,\n",
       "       0, 1, 0, 0, 1, 1, 0, 0, 3, 0, 0, 0, 0, 0, 0, 1, 3, 0, 0, 3, 3, 2,\n",
       "       0, 0, 0, 3, 0, 0, 0, 2, 0, 2, 1, 3, 3, 0, 0, 3, 0, 0, 0, 0, 1, 0,\n",
       "       1, 1, 1, 0, 0, 0, 0, 0, 1, 0, 0, 0, 0, 0, 2, 0, 0, 0, 3, 0, 3, 0,\n",
       "       0, 0, 0, 2, 3, 1, 3, 1, 0, 0, 0, 0, 0, 0, 1, 0, 2, 0, 0, 2, 0, 0,\n",
       "       0, 1, 0, 0, 1, 1, 0, 0, 0, 0, 0, 0, 0, 1, 0, 0, 0, 1, 0, 0, 0, 1,\n",
       "       2, 0, 0, 0, 0, 0, 0, 0, 0, 0, 0, 1, 0, 0, 0, 2, 0, 0, 0, 0, 0, 0,\n",
       "       0, 0, 0, 0, 0, 0, 0, 2, 0, 0, 1, 0, 0, 0, 0, 3, 0, 0, 0, 0, 0, 2,\n",
       "       0, 0, 2, 0, 3, 0, 1, 1, 0, 2, 0, 0, 0, 0, 0, 0, 0, 0, 0, 0, 1, 0,\n",
       "       0, 0, 1, 2, 0, 0, 0, 0, 0, 0, 2, 0, 1, 0, 0, 0, 3, 2, 1, 1, 3, 0,\n",
       "       3, 3, 2, 0, 0, 0, 3, 3, 0, 0, 0, 0, 0, 0, 2, 0, 0, 0, 0, 0, 0, 2,\n",
       "       0, 0, 0, 0, 0, 0, 0, 0, 0, 0, 0, 0, 1, 3, 3, 0, 1, 0, 0, 0, 0, 0,\n",
       "       0, 1, 0, 0, 3, 0, 0, 0, 1, 1, 0, 0, 0, 3, 0, 0, 0, 3, 1, 0, 0, 0,\n",
       "       0, 0, 0, 1, 0, 0, 0, 0, 3, 3, 0, 0, 0, 0, 0, 1, 0, 0, 3, 0, 0, 0,\n",
       "       0, 0, 0, 0, 0, 0, 0, 2, 0, 0, 0, 1, 0, 1, 0, 2, 0, 0, 0, 3, 3, 0,\n",
       "       0, 0, 0, 0, 1, 0, 0, 0, 0, 1, 0, 0, 0, 0, 0, 0, 0, 0, 1, 2, 2, 0,\n",
       "       0, 0, 0, 1, 2, 0, 0, 0, 0, 0, 0, 0, 0, 0, 2, 0, 0, 1, 0, 0, 0, 0,\n",
       "       0, 0, 0, 0, 0, 0, 0, 2, 2, 2, 0, 0, 1, 1, 0, 1, 0, 0, 0, 0, 0, 1,\n",
       "       2, 0, 0, 0, 0, 0, 0, 0, 0, 0, 0, 0, 0, 2, 0, 0, 0, 1, 3, 0, 1, 0,\n",
       "       0, 0, 3, 1, 0, 2, 0, 1, 1, 2, 0, 0, 0, 1, 0, 0, 0, 0, 2, 1, 2, 0,\n",
       "       2, 0, 1, 1, 1, 0, 0, 1, 0, 0, 0, 0, 1, 3, 0, 1, 0, 3, 2, 0, 0, 1,\n",
       "       0, 0, 0, 0, 3, 0, 0, 1, 1, 1, 0, 1, 0, 1, 0, 0, 0, 1, 0, 0, 0, 0,\n",
       "       0, 0, 0, 0, 0, 0, 0, 0, 0, 3, 0, 3, 0, 1, 1, 3, 1, 1, 3, 0, 0, 0,\n",
       "       2, 1, 0, 0, 0, 1, 1, 1, 0, 0, 2, 2, 1, 0, 0, 0, 0, 0, 3, 0, 0, 0,\n",
       "       0, 0, 0, 0, 0, 0, 0, 0, 1, 3, 0, 0, 3, 0, 0, 2, 0, 3, 0, 1, 0, 0,\n",
       "       2, 0, 0, 0, 1, 0, 2, 0, 0, 1, 0, 0, 0, 0, 2, 0, 0, 0, 0, 0, 0, 0,\n",
       "       0, 2, 0, 0, 1, 3, 3, 0, 0])>"
      ]
     },
     "execution_count": 381,
     "metadata": {},
     "output_type": "execute_result"
    }
   ],
   "source": [
    "true_categories = tf.convert_to_tensor(category, dtype = 'int64')\n",
    "true_categories = true_categories[-625:]\n",
    "true_categories"
   ]
  },
  {
   "cell_type": "markdown",
   "metadata": {
    "id": "v0yrw1MOn6Sp"
   },
   "source": [
    "#### Confusion Matrix"
   ]
  },
  {
   "cell_type": "code",
   "execution_count": 382,
   "metadata": {
    "colab": {
     "base_uri": "https://localhost:8080/"
    },
    "executionInfo": {
     "elapsed": 9,
     "status": "ok",
     "timestamp": 1634614788896,
     "user": {
      "displayName": "Alexander Posterino",
      "photoUrl": "https://lh3.googleusercontent.com/a/default-user=s64",
      "userId": "02797547015372524958"
     },
     "user_tz": -660
    },
    "id": "Cj5hf1jNn6Sp",
    "outputId": "8130cfb7-651e-48e9-ec60-ec3632af3c27"
   },
   "outputs": [
    {
     "data": {
      "text/plain": [
       "array([[385,  33,   7,   6],\n",
       "       [ 68,  21,   2,   2],\n",
       "       [ 43,   1,   6,   0],\n",
       "       [ 38,   3,   3,   7]])"
      ]
     },
     "execution_count": 382,
     "metadata": {},
     "output_type": "execute_result"
    }
   ],
   "source": [
    "from sklearn.metrics import confusion_matrix\n",
    "confusion_matrix(true_categories, predicted_categories)"
   ]
  },
  {
   "cell_type": "code",
   "execution_count": 383,
   "metadata": {
    "colab": {
     "base_uri": "https://localhost:8080/",
     "height": 315
    },
    "executionInfo": {
     "elapsed": 455,
     "status": "ok",
     "timestamp": 1634614789710,
     "user": {
      "displayName": "Alexander Posterino",
      "photoUrl": "https://lh3.googleusercontent.com/a/default-user=s64",
      "userId": "02797547015372524958"
     },
     "user_tz": -660
    },
    "id": "yESMLZvqn6Sp",
    "outputId": "d795fb05-178e-4a0a-bf0e-a57a830f0c12"
   },
   "outputs": [
    {
     "data": {
      "image/png": "[encoded data removed]",
      "text/plain": [
       "<Figure size 432x288 with 2 Axes>"
      ]
     },
     "metadata": {
      "needs_background": "light"
     },
     "output_type": "display_data"
    }
   ],
   "source": [
    "import pandas as pd\n",
    "import seaborn as sn\n",
    "import matplotlib.pyplot as plt\n",
    "\n",
    "labels = ['comment', 'support', 'query', 'deny']\n",
    "\n",
    "data = {'y_Actual':    true_categories,\n",
    "        'y_Predicted': predicted_categories\n",
    "        }\n",
    "\n",
    "df = pd.DataFrame(data, columns=['y_Actual','y_Predicted'])\n",
    "confusion_matrix = pd.crosstab(df['y_Actual'], df['y_Predicted'], rownames=['Actual'], colnames=['Predicted'])\n",
    "\n",
    "sn.heatmap(confusion_matrix, annot=True)\n",
    "plt.yticks(np.arange(.5, 4.5), labels, rotation=0)\n",
    "plt.xticks(np.arange(.5, 4.5), labels, rotation=90)\n",
    "plt.show()"
   ]
  },
  {
   "cell_type": "code",
   "execution_count": 384,
   "metadata": {
    "colab": {
     "base_uri": "https://localhost:8080/"
    },
    "executionInfo": {
     "elapsed": 354,
     "status": "ok",
     "timestamp": 1634614791665,
     "user": {
      "displayName": "Alexander Posterino",
      "photoUrl": "https://lh3.googleusercontent.com/a/default-user=s64",
      "userId": "02797547015372524958"
     },
     "user_tz": -660
    },
    "id": "C-tEHkAQn6Sp",
    "outputId": "cd5ac3d5-b9ed-4973-f8e5-7a07af19503c"
   },
   "outputs": [
    {
     "name": "stdout",
     "output_type": "stream",
     "text": [
      "              precision    recall  f1-score   support\n",
      "\n",
      "     comment       0.72      0.89      0.80       431\n",
      "     support       0.36      0.23      0.28        93\n",
      "       query       0.33      0.12      0.18        50\n",
      "        deny       0.47      0.14      0.21        51\n",
      "\n",
      "    accuracy                           0.67       625\n",
      "   macro avg       0.47      0.34      0.37       625\n",
      "weighted avg       0.62      0.67      0.62       625\n",
      "\n"
     ]
    }
   ],
   "source": [
    "import sklearn\n",
    "print(sklearn.metrics.classification_report(true_categories, predicted_categories, target_names=labels))"
   ]
  },
  {
   "cell_type": "code",
   "execution_count": null,
   "metadata": {
    "id": "LVjWxnLIoLM4"
   },
   "outputs": [],
   "source": []
  }
 ],
 "metadata": {
  "colab": {
   "authorship_tag": "ABX9TyNx2wEo3k0kXpb9Yn0djNre",
   "collapsed_sections": [],
   "name": "Rumour Support Classification.ipynb",
   "provenance": [],
   "toc_visible": true
  },
  "kernelspec": {
   "display_name": "Python 3",
   "language": "python",
   "name": "python3"
  },
  "language_info": {
   "codemirror_mode": {
    "name": "ipython",
    "version": 3
   },
   "file_extension": ".py",
   "mimetype": "text/x-python",
   "name": "python",
   "nbconvert_exporter": "python",
   "pygments_lexer": "ipython3",
   "version": "3.9.1"
  }
 },
 "nbformat": 4,
 "nbformat_minor": 1
}
